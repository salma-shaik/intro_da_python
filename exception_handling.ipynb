{
 "cells": [
  {
   "cell_type": "markdown",
   "id": "b9b7e58f",
   "metadata": {},
   "source": [
    "## Errors and Exception Handling"
   ]
  },
  {
   "cell_type": "code",
   "execution_count": null,
   "id": "a7fef75b",
   "metadata": {},
   "outputs": [],
   "source": [
    "try:\n",
    "    pass\n",
    "except Exception:\n",
    "    pass\n",
    "else:\n",
    "    pass\n",
    "finally:\n",
    "    pass"
   ]
  },
  {
   "cell_type": "code",
   "execution_count": 3,
   "id": "e2c7eaca",
   "metadata": {},
   "outputs": [
    {
     "ename": "FileNotFoundError",
     "evalue": "[Errno 2] No such file or directory: 'test.txt'",
     "output_type": "error",
     "traceback": [
      "\u001b[0;31m---------------------------------------------------------------------------\u001b[0m",
      "\u001b[0;31mFileNotFoundError\u001b[0m                         Traceback (most recent call last)",
      "Cell \u001b[0;32mIn[3], line 3\u001b[0m\n\u001b[1;32m      1\u001b[0m \u001b[38;5;66;03m# Example\u001b[39;00m\n\u001b[0;32m----> 3\u001b[0m ex_file \u001b[38;5;241m=\u001b[39m \u001b[38;5;28;43mopen\u001b[39;49m\u001b[43m(\u001b[49m\u001b[38;5;124;43m'\u001b[39;49m\u001b[38;5;124;43mtest.txt\u001b[39;49m\u001b[38;5;124;43m'\u001b[39;49m\u001b[43m)\u001b[49m\n",
      "File \u001b[0;32m~/enter/envs/cist_data_analytics_s23/lib/python3.10/site-packages/IPython/core/interactiveshell.py:282\u001b[0m, in \u001b[0;36m_modified_open\u001b[0;34m(file, *args, **kwargs)\u001b[0m\n\u001b[1;32m    275\u001b[0m \u001b[38;5;28;01mif\u001b[39;00m file \u001b[38;5;129;01min\u001b[39;00m {\u001b[38;5;241m0\u001b[39m, \u001b[38;5;241m1\u001b[39m, \u001b[38;5;241m2\u001b[39m}:\n\u001b[1;32m    276\u001b[0m     \u001b[38;5;28;01mraise\u001b[39;00m \u001b[38;5;167;01mValueError\u001b[39;00m(\n\u001b[1;32m    277\u001b[0m         \u001b[38;5;124mf\u001b[39m\u001b[38;5;124m\"\u001b[39m\u001b[38;5;124mIPython won\u001b[39m\u001b[38;5;124m'\u001b[39m\u001b[38;5;124mt let you open fd=\u001b[39m\u001b[38;5;132;01m{\u001b[39;00mfile\u001b[38;5;132;01m}\u001b[39;00m\u001b[38;5;124m by default \u001b[39m\u001b[38;5;124m\"\u001b[39m\n\u001b[1;32m    278\u001b[0m         \u001b[38;5;124m\"\u001b[39m\u001b[38;5;124mas it is likely to crash IPython. If you know what you are doing, \u001b[39m\u001b[38;5;124m\"\u001b[39m\n\u001b[1;32m    279\u001b[0m         \u001b[38;5;124m\"\u001b[39m\u001b[38;5;124myou can use builtins\u001b[39m\u001b[38;5;124m'\u001b[39m\u001b[38;5;124m open.\u001b[39m\u001b[38;5;124m\"\u001b[39m\n\u001b[1;32m    280\u001b[0m     )\n\u001b[0;32m--> 282\u001b[0m \u001b[38;5;28;01mreturn\u001b[39;00m \u001b[43mio_open\u001b[49m\u001b[43m(\u001b[49m\u001b[43mfile\u001b[49m\u001b[43m,\u001b[49m\u001b[43m \u001b[49m\u001b[38;5;241;43m*\u001b[39;49m\u001b[43margs\u001b[49m\u001b[43m,\u001b[49m\u001b[43m \u001b[49m\u001b[38;5;241;43m*\u001b[39;49m\u001b[38;5;241;43m*\u001b[39;49m\u001b[43mkwargs\u001b[49m\u001b[43m)\u001b[49m\n",
      "\u001b[0;31mFileNotFoundError\u001b[0m: [Errno 2] No such file or directory: 'test.txt'"
     ]
    }
   ],
   "source": [
    "# Example\n",
    "ex_file = open('test.txt')"
   ]
  },
  {
   "cell_type": "code",
   "execution_count": 9,
   "id": "e4181221",
   "metadata": {},
   "outputs": [
    {
     "name": "stdout",
     "output_type": "stream",
     "text": [
      "File does not exist\n"
     ]
    }
   ],
   "source": [
    "try:\n",
    "    ex_file = open('test.txt')\n",
    "except Exception:\n",
    "    print('File does not exist')\n",
    "# Giving a small and simple message than the long verbose error that python was giving"
   ]
  },
  {
   "cell_type": "code",
   "execution_count": null,
   "id": "39bd0813",
   "metadata": {},
   "outputs": [],
   "source": [
    "## Be as specific as possible - catch an exception - goal is not just to work around the exception and errors\n",
    "# better to catch exception that we except and handle them appropriately"
   ]
  },
  {
   "cell_type": "code",
   "execution_count": 10,
   "id": "2e3daf9d",
   "metadata": {},
   "outputs": [],
   "source": [
    "## Exception not only catches the file not found exception but also any general exception\n",
    "\n",
    "## Let's say for instance, we pass correct file - no exception thrown\n",
    "try:\n",
    "    ex_file = open('test_file.rtf')\n",
    "except Exception:\n",
    "    print('File does not exist')"
   ]
  },
  {
   "cell_type": "code",
   "execution_count": 11,
   "id": "b45d9603",
   "metadata": {},
   "outputs": [
    {
     "name": "stdout",
     "output_type": "stream",
     "text": [
      "File does not exist\n"
     ]
    }
   ],
   "source": [
    "## Let's create some other error\n",
    "try:\n",
    "    ex_file = open('test_file.rtf')\n",
    "    ex_var = num_var\n",
    "except Exception:\n",
    "    print('File does not exist')"
   ]
  },
  {
   "cell_type": "code",
   "execution_count": 12,
   "id": "f181a488",
   "metadata": {},
   "outputs": [
    {
     "ename": "NameError",
     "evalue": "name 'num_var' is not defined",
     "output_type": "error",
     "traceback": [
      "\u001b[0;31m---------------------------------------------------------------------------\u001b[0m",
      "\u001b[0;31mNameError\u001b[0m                                 Traceback (most recent call last)",
      "Cell \u001b[0;32mIn[12], line 10\u001b[0m\n\u001b[1;32m      8\u001b[0m \u001b[38;5;28;01mtry\u001b[39;00m:\n\u001b[1;32m      9\u001b[0m     ex_file \u001b[38;5;241m=\u001b[39m \u001b[38;5;28mopen\u001b[39m(\u001b[38;5;124m'\u001b[39m\u001b[38;5;124mtest_file.rtf\u001b[39m\u001b[38;5;124m'\u001b[39m)\n\u001b[0;32m---> 10\u001b[0m     ex_var \u001b[38;5;241m=\u001b[39m \u001b[43mnum_var\u001b[49m\n\u001b[1;32m     11\u001b[0m \u001b[38;5;28;01mexcept\u001b[39;00m \u001b[38;5;167;01mFileNotFoundError\u001b[39;00m:\n\u001b[1;32m     12\u001b[0m     \u001b[38;5;28mprint\u001b[39m(\u001b[38;5;124m'\u001b[39m\u001b[38;5;124mFile does not exist\u001b[39m\u001b[38;5;124m'\u001b[39m)\n",
      "\u001b[0;31mNameError\u001b[0m: name 'num_var' is not defined"
     ]
    }
   ],
   "source": [
    "## Within our try block, file opening worked fine but next line threw exception because there is no var called num_var\n",
    "\n",
    "## But Exception is generic so its catching every error and printing the same message. So not clear\n",
    "\n",
    "## So, good practice to catch specific errors\n",
    "## Let's create some other error\n",
    "try:\n",
    "    ex_file = open('test_file.rtf')\n",
    "    ex_var = num_var\n",
    "except FileNotFoundError:\n",
    "    print('File does not exist')"
   ]
  },
  {
   "cell_type": "code",
   "execution_count": 14,
   "id": "e33a63db",
   "metadata": {},
   "outputs": [
    {
     "name": "stdout",
     "output_type": "stream",
     "text": [
      "Unexpected error. Please check\n"
     ]
    }
   ],
   "source": [
    "## we get regular python traceback - good thing\n",
    "# can see python traceback for unexpected error\n",
    "\n",
    "# If we do want to catch other exception along with specific, just include Exception as shown below\n",
    "try:\n",
    "    ex_file = open('test_file.rtf')\n",
    "    ex_var = num_var\n",
    "except FileNotFoundError:\n",
    "    print('File does not exist')\n",
    "except Exception:\n",
    "    print('Unexpected error. Please check')\n",
    "    \n",
    "# Make sure to put more specific exceptions at the top followed by the general exceptions, otherwise generic will\n",
    "# always catch any exception and will never know the specific reason if we were trying to catch any expected errors"
   ]
  },
  {
   "cell_type": "code",
   "execution_count": 16,
   "id": "7cc07378",
   "metadata": {},
   "outputs": [
    {
     "name": "stdout",
     "output_type": "stream",
     "text": [
      "name 'num_var' is not defined\n"
     ]
    }
   ],
   "source": [
    "### If we want to get more details about the general exceptions, can print the exception object\n",
    "try:\n",
    "    ex_file = open('test_file.rtf')\n",
    "    ex_var = num_var\n",
    "except FileNotFoundError as e:\n",
    "    print(e)\n",
    "except Exception as e:\n",
    "    print(e)"
   ]
  },
  {
   "cell_type": "code",
   "execution_count": 17,
   "id": "a8b942e3",
   "metadata": {},
   "outputs": [],
   "source": [
    "## so displays/prints the actual message rather than our custom message"
   ]
  },
  {
   "cell_type": "markdown",
   "id": "b6815d00",
   "metadata": {},
   "source": [
    "### else block\n",
    "* else is executed if try doesn't throw any errors"
   ]
  },
  {
   "cell_type": "code",
   "execution_count": 19,
   "id": "2abe0831",
   "metadata": {},
   "outputs": [
    {
     "name": "stdout",
     "output_type": "stream",
     "text": [
      "{\\rtf1\\ansi\\ansicpg1252\\cocoartf2708\n",
      "\\cocoatextscaling0\\cocoaplatform0{\\fonttbl\\f0\\fswiss\\fcharset0 Helvetica;}\n",
      "{\\colortbl;\\red255\\green255\\blue255;}\n",
      "{\\*\\expandedcolortbl;;}\n",
      "\\margl1440\\margr1440\\vieww11520\\viewh8400\\viewkind0\n",
      "\\pard\\tx720\\tx1440\\tx2160\\tx2880\\tx3600\\tx4320\\tx5040\\tx5760\\tx6480\\tx7200\\tx7920\\tx8640\\pardirnatural\\partightenfactor0\n",
      "\n",
      "\\f0\\fs24 \\cf0 This is a text file}\n"
     ]
    }
   ],
   "source": [
    "try:\n",
    "    ex_file = open('test_file.rtf')\n",
    "except FileNotFoundError as e:\n",
    "    print(e)\n",
    "except Exception as e:\n",
    "    print(e)\n",
    "else:\n",
    "    print(ex_file.read())\n",
    "    ex_file.close()"
   ]
  },
  {
   "cell_type": "code",
   "execution_count": 20,
   "id": "dbedab9c",
   "metadata": {},
   "outputs": [],
   "source": [
    "##Now, we can put all the code inside try block but then wont be able to catch specific errors that we want to\n",
    "# We want to be specific about what it is that we are trying to catch. It may catch other exceptions but may not \n",
    "# be the ones that we wanted to catch.\n",
    "# So either always define specific exceptions to put the code in try block and if you dont suspect any, jus move it\n",
    "# out of try in the else so that we are clear about what we are catching and what we are not"
   ]
  },
  {
   "cell_type": "markdown",
   "id": "a306204a",
   "metadata": {},
   "source": [
    "### finally block\n",
    "* executed no matter what happens inside try-catch\n",
    "* may be used to release some resources or let go of some db connections"
   ]
  },
  {
   "cell_type": "code",
   "execution_count": 21,
   "id": "afdc70fd",
   "metadata": {},
   "outputs": [
    {
     "name": "stdout",
     "output_type": "stream",
     "text": [
      "{\\rtf1\\ansi\\ansicpg1252\\cocoartf2708\n",
      "\\cocoatextscaling0\\cocoaplatform0{\\fonttbl\\f0\\fswiss\\fcharset0 Helvetica;}\n",
      "{\\colortbl;\\red255\\green255\\blue255;}\n",
      "{\\*\\expandedcolortbl;;}\n",
      "\\margl1440\\margr1440\\vieww11520\\viewh8400\\viewkind0\n",
      "\\pard\\tx720\\tx1440\\tx2160\\tx2880\\tx3600\\tx4320\\tx5040\\tx5760\\tx6480\\tx7200\\tx7920\\tx8640\\pardirnatural\\partightenfactor0\n",
      "\n",
      "\\f0\\fs24 \\cf0 This is a text file}\n",
      "Executing finally\n"
     ]
    }
   ],
   "source": [
    "try:\n",
    "    ex_file = open('test_file.rtf')\n",
    "except FileNotFoundError as e:\n",
    "    print(e)\n",
    "except Exception as e:\n",
    "    print(e)\n",
    "else:\n",
    "    print(ex_file.read())\n",
    "    ex_file.close()\n",
    "finally:\n",
    "    print(\"Executing finally\")"
   ]
  },
  {
   "cell_type": "markdown",
   "id": "c53a8909",
   "metadata": {},
   "source": [
    "### Customs exceptions\n",
    "* to raise our own exceptions manually"
   ]
  },
  {
   "cell_type": "code",
   "execution_count": 25,
   "id": "7f3b6748",
   "metadata": {},
   "outputs": [
    {
     "name": "stdout",
     "output_type": "stream",
     "text": [
      "This is a corrupt file\n",
      "Executing finally\n"
     ]
    }
   ],
   "source": [
    "try:\n",
    "    ex_file = open('corrupt_file')\n",
    "except FileNotFoundError as e:\n",
    "    print(e)\n",
    "except Exception as e:\n",
    "    print('Error - Corrupt file!')\n",
    "else:\n",
    "    print(ex_file.read())\n",
    "    ex_file.close()\n",
    "finally:\n",
    "    print(\"Executing finally\")"
   ]
  },
  {
   "cell_type": "code",
   "execution_count": 26,
   "id": "9259b22f",
   "metadata": {},
   "outputs": [
    {
     "name": "stdout",
     "output_type": "stream",
     "text": [
      "Error - Corrupt file!\n",
      "Executing finally\n"
     ]
    }
   ],
   "source": [
    "try:\n",
    "    ex_file = open('corrupt_file')\n",
    "    if ex_file.name == 'corrupt_file':\n",
    "        raise Exception\n",
    "except FileNotFoundError as e:\n",
    "    print(e)\n",
    "except Exception as e:\n",
    "    print('Error - Corrupt file!')\n",
    "else:\n",
    "    print(ex_file.read())\n",
    "    ex_file.close()\n",
    "finally:\n",
    "    print(\"Executing finally\")"
   ]
  },
  {
   "cell_type": "markdown",
   "id": "492cbed6",
   "metadata": {},
   "source": [
    "### Catching multiple exceptions"
   ]
  },
  {
   "cell_type": "code",
   "execution_count": 28,
   "id": "680cb612",
   "metadata": {},
   "outputs": [
    {
     "name": "stdout",
     "output_type": "stream",
     "text": [
      "[Errno 2] No such file or directory: 'c_file'\n"
     ]
    }
   ],
   "source": [
    "try:\n",
    "    ex_file = open('c_file')\n",
    "    ex_var = num_var\n",
    "except (FileNotFoundError, NameError) as e:\n",
    "    print(e)\n",
    "except Exception as e:\n",
    "    print('Error - Corrupt file!')\n",
    "else:\n",
    "    print(ex_file.read())\n",
    "    ex_file.close()"
   ]
  },
  {
   "cell_type": "code",
   "execution_count": 29,
   "id": "4fc8a13e",
   "metadata": {},
   "outputs": [
    {
     "name": "stdout",
     "output_type": "stream",
     "text": [
      "name 'num_var' is not defined\n"
     ]
    }
   ],
   "source": [
    "try:\n",
    "    ex_file = open('corrupt_file')\n",
    "    ex_var = num_var\n",
    "except (FileNotFoundError, NameError) as e:\n",
    "    print(e)\n",
    "except Exception as e:\n",
    "    print('Error - Corrupt file!')\n",
    "else:\n",
    "    print(ex_file.read())\n",
    "    ex_file.close()"
   ]
  }
 ],
 "metadata": {
  "kernelspec": {
   "display_name": "Python 3 (ipykernel)",
   "language": "python",
   "name": "python3"
  },
  "language_info": {
   "codemirror_mode": {
    "name": "ipython",
    "version": 3
   },
   "file_extension": ".py",
   "mimetype": "text/x-python",
   "name": "python",
   "nbconvert_exporter": "python",
   "pygments_lexer": "ipython3",
   "version": "3.10.8"
  }
 },
 "nbformat": 4,
 "nbformat_minor": 5
}
