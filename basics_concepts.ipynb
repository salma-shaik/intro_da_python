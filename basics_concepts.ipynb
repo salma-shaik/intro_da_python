{
 "cells": [
  {
   "cell_type": "markdown",
   "id": "f3b0a70c",
   "metadata": {},
   "source": [
    "## Python Language Basics"
   ]
  },
  {
   "cell_type": "code",
   "execution_count": 4,
   "id": "c3b13fe4",
   "metadata": {},
   "outputs": [
    {
     "name": "stdout",
     "output_type": "stream",
     "text": [
      "Hello World!\n"
     ]
    }
   ],
   "source": [
    "print(\"Hello World!\")"
   ]
  },
  {
   "cell_type": "markdown",
   "id": "b9839184",
   "metadata": {},
   "source": [
    "### CODE STRUCTURE\n",
    "\n",
    "**Use whitespaces(tabs or spaces) to structure code instead of braces**\n",
    "\n",
    "*4 spaces - default indentation*"
   ]
  },
  {
   "cell_type": "code",
   "execution_count": 9,
   "id": "57d1eb33",
   "metadata": {},
   "outputs": [],
   "source": [
    "# Defining a function to determine whether a number is odd or even\n",
    "def find_even_odd(x):\n",
    "    \"\"\"\n",
    "    If the remainder after dividing by 2 is 0, then the number is even.\n",
    "    otherwise, the number is odd\n",
    "    \"\"\"\n",
    "    if x%2 == 0:\n",
    "        print(\"Even\")\n",
    "    else:\n",
    "        print(\"Odd\")"
   ]
  },
  {
   "cell_type": "code",
   "execution_count": 7,
   "id": "e2b38cd2",
   "metadata": {},
   "outputs": [
    {
     "name": "stdout",
     "output_type": "stream",
     "text": [
      "Odd\n"
     ]
    }
   ],
   "source": [
    "find_even_odd(45)"
   ]
  },
  {
   "cell_type": "code",
   "execution_count": 8,
   "id": "39c2ca2a",
   "metadata": {},
   "outputs": [
    {
     "name": "stdout",
     "output_type": "stream",
     "text": [
      "Even\n"
     ]
    }
   ],
   "source": [
    "find_even_odd(234238)"
   ]
  },
  {
   "cell_type": "markdown",
   "id": "a1bad7d6",
   "metadata": {},
   "source": [
    "### VARIABLES"
   ]
  },
  {
   "cell_type": "markdown",
   "id": "7f8f16c8",
   "metadata": {},
   "source": [
    "**Python variables don't have a pre-defined type.**\n",
    "\n",
    "* They are not statically typed i.e we don't have to declare a type before using. \n",
    "* Any value can be assigned to a given variable."
   ]
  },
  {
   "cell_type": "code",
   "execution_count": 15,
   "id": "bbc17ac9",
   "metadata": {},
   "outputs": [
    {
     "name": "stdout",
     "output_type": "stream",
     "text": [
      "2\n",
      "Hello\n"
     ]
    }
   ],
   "source": [
    "## In the below example we first assign an int value to ex_var. But then we are assigning a string to ex_var.\n",
    "## This works fine and doesn't throw a type error\n",
    "\n",
    "ex_var = 2\n",
    "print(ex_var)\n",
    "\n",
    "ex_var = 'Hello'\n",
    "print(ex_var)"
   ]
  },
  {
   "cell_type": "markdown",
   "id": "1d88db7c",
   "metadata": {},
   "source": [
    "### Variable Assignment"
   ]
  },
  {
   "cell_type": "markdown",
   "id": "7c857e64",
   "metadata": {},
   "source": [
    "*When an already defined variable is assigned to another variable, both variables would be referencing the same object. \n",
    "This can be observed with an example of list below. \n",
    "First, we define a list 'a' then assign this to a new variable 'b'. Now when we add a new value to list 'a', this new value would be reflected in b as well.*"
   ]
  },
  {
   "cell_type": "code",
   "execution_count": 11,
   "id": "538c314e",
   "metadata": {},
   "outputs": [
    {
     "data": {
      "text/plain": [
       "[1, 2, 3]"
      ]
     },
     "execution_count": 11,
     "metadata": {},
     "output_type": "execute_result"
    }
   ],
   "source": [
    "a = [1,2,3]\n",
    "a"
   ]
  },
  {
   "cell_type": "code",
   "execution_count": 12,
   "id": "f85ca435",
   "metadata": {},
   "outputs": [
    {
     "data": {
      "text/plain": [
       "[1, 2, 3]"
      ]
     },
     "execution_count": 12,
     "metadata": {},
     "output_type": "execute_result"
    }
   ],
   "source": [
    "b = a\n",
    "b"
   ]
  },
  {
   "cell_type": "code",
   "execution_count": 13,
   "id": "d35d396e",
   "metadata": {},
   "outputs": [
    {
     "name": "stdout",
     "output_type": "stream",
     "text": [
      "[1, 2, 3, 10]\n",
      "[1, 2, 3, 10]\n"
     ]
    }
   ],
   "source": [
    "b.append(10)\n",
    "print(a)\n",
    "print(b)"
   ]
  },
  {
   "cell_type": "markdown",
   "id": "ff386115",
   "metadata": {},
   "source": [
    "*If we would like to retain the original list as is, it is advisable to assign a copy to a new variable. This way any changes to one list would not be reflected in another list*"
   ]
  },
  {
   "cell_type": "code",
   "execution_count": 14,
   "id": "12ad663b",
   "metadata": {},
   "outputs": [
    {
     "name": "stdout",
     "output_type": "stream",
     "text": [
      "[1, 2, 3, 10]\n",
      "[1, 2, 3, 10, 50]\n"
     ]
    }
   ],
   "source": [
    "c = a.copy()\n",
    "c.append(50)\n",
    "print(a)\n",
    "print(c)"
   ]
  },
  {
   "cell_type": "markdown",
   "id": "0224fa9f",
   "metadata": {},
   "source": [
    "### Identifying Variable Type"
   ]
  },
  {
   "cell_type": "code",
   "execution_count": 17,
   "id": "98abac8d",
   "metadata": {},
   "outputs": [
    {
     "data": {
      "text/plain": [
       "int"
      ]
     },
     "execution_count": 17,
     "metadata": {},
     "output_type": "execute_result"
    }
   ],
   "source": [
    "int1 = 5\n",
    "type(int1)"
   ]
  },
  {
   "cell_type": "code",
   "execution_count": 18,
   "id": "78d98a7c",
   "metadata": {},
   "outputs": [
    {
     "data": {
      "text/plain": [
       "str"
      ]
     },
     "execution_count": 18,
     "metadata": {},
     "output_type": "execute_result"
    }
   ],
   "source": [
    "str1 = \"test\"\n",
    "type(str1)"
   ]
  },
  {
   "cell_type": "code",
   "execution_count": 19,
   "id": "711da8cf",
   "metadata": {},
   "outputs": [
    {
     "data": {
      "text/plain": [
       "True"
      ]
     },
     "execution_count": 19,
     "metadata": {},
     "output_type": "execute_result"
    }
   ],
   "source": [
    "isinstance(int1, int)"
   ]
  },
  {
   "cell_type": "markdown",
   "id": "88409358",
   "metadata": {},
   "source": [
    "### Arithmetic Operations"
   ]
  },
  {
   "cell_type": "code",
   "execution_count": 20,
   "id": "7bd1780c",
   "metadata": {},
   "outputs": [
    {
     "name": "stdout",
     "output_type": "stream",
     "text": [
      "x+y:  7\n",
      "x-y:  3\n",
      "x*y:  10\n",
      "x/y:  2.5\n",
      "x//y:  2\n",
      "x%y:  1\n"
     ]
    }
   ],
   "source": [
    "x = 5\n",
    "y = 2\n",
    "\n",
    "print(\"x+y: \", x+y)\n",
    "print(\"x-y: \", x-y)\n",
    "print(\"x*y: \", x*y)\n",
    "print(\"x/y: \", x/y)\n",
    "print(\"x//y: \", x//y)\n",
    "print(\"x%y: \", x%y)"
   ]
  },
  {
   "cell_type": "code",
   "execution_count": 18,
   "id": "53ac7709",
   "metadata": {},
   "outputs": [
    {
     "data": {
      "text/plain": [
       "6"
      ]
     },
     "execution_count": 18,
     "metadata": {},
     "output_type": "execute_result"
    }
   ],
   "source": [
    "int1 = int1 + 1\n",
    "int1"
   ]
  },
  {
   "cell_type": "code",
   "execution_count": 19,
   "id": "cebf71e8",
   "metadata": {},
   "outputs": [
    {
     "data": {
      "text/plain": [
       "7"
      ]
     },
     "execution_count": 19,
     "metadata": {},
     "output_type": "execute_result"
    }
   ],
   "source": [
    "# better approach\n",
    "int1 += 1\n",
    "int1"
   ]
  },
  {
   "cell_type": "code",
   "execution_count": 20,
   "id": "532fb98d",
   "metadata": {},
   "outputs": [
    {
     "data": {
      "text/plain": [
       "False"
      ]
     },
     "execution_count": 20,
     "metadata": {},
     "output_type": "execute_result"
    }
   ],
   "source": [
    "int2 = 10\n",
    "int1 == int2"
   ]
  },
  {
   "cell_type": "code",
   "execution_count": 21,
   "id": "09b8bef9",
   "metadata": {},
   "outputs": [
    {
     "data": {
      "text/plain": [
       "True"
      ]
     },
     "execution_count": 21,
     "metadata": {},
     "output_type": "execute_result"
    }
   ],
   "source": [
    "int1 != int2 # < > !< !>"
   ]
  },
  {
   "cell_type": "markdown",
   "id": "aebaa093",
   "metadata": {},
   "source": [
    "### Strings"
   ]
  },
  {
   "cell_type": "code",
   "execution_count": 24,
   "id": "49bd40bb",
   "metadata": {},
   "outputs": [
    {
     "data": {
      "text/plain": [
       "'Welcome'"
      ]
     },
     "execution_count": 24,
     "metadata": {},
     "output_type": "execute_result"
    }
   ],
   "source": [
    "greeting = \"Welcome\"\n",
    "greeting"
   ]
  },
  {
   "cell_type": "code",
   "execution_count": 25,
   "id": "d825d4ce",
   "metadata": {},
   "outputs": [],
   "source": [
    "greeting = \"Welcome to today's class\""
   ]
  },
  {
   "cell_type": "code",
   "execution_count": 26,
   "id": "0910b4ab",
   "metadata": {},
   "outputs": [
    {
     "ename": "SyntaxError",
     "evalue": "unterminated string literal (detected at line 1) (717276991.py, line 1)",
     "output_type": "error",
     "traceback": [
      "\u001b[1;36m  Cell \u001b[1;32mIn[26], line 1\u001b[1;36m\u001b[0m\n\u001b[1;33m    greeting = 'Welcome to today's class'\u001b[0m\n\u001b[1;37m                                        ^\u001b[0m\n\u001b[1;31mSyntaxError\u001b[0m\u001b[1;31m:\u001b[0m unterminated string literal (detected at line 1)\n"
     ]
    }
   ],
   "source": [
    "greeting = 'Welcome to today's class'"
   ]
  },
  {
   "cell_type": "code",
   "execution_count": 28,
   "id": "7ac26796",
   "metadata": {},
   "outputs": [
    {
     "data": {
      "text/plain": [
       "\"Welcome to today's class\""
      ]
     },
     "execution_count": 28,
     "metadata": {},
     "output_type": "execute_result"
    }
   ],
   "source": [
    "greeting = \"Welcome to today's class\"\n",
    "greeting"
   ]
  },
  {
   "cell_type": "code",
   "execution_count": 30,
   "id": "e5f9653a",
   "metadata": {},
   "outputs": [
    {
     "name": "stdout",
     "output_type": "stream",
     "text": [
      "Welcome to today's class\n",
      "Welcome to today's lecture\n"
     ]
    }
   ],
   "source": [
    "new_greeting = greeting.replace('class', 'lecture')\n",
    "print(greeting)\n",
    "print(new_greeting)"
   ]
  },
  {
   "cell_type": "markdown",
   "id": "056c15aa",
   "metadata": {},
   "source": [
    "#### Casting string to int"
   ]
  },
  {
   "cell_type": "code",
   "execution_count": null,
   "id": "bd47ef44",
   "metadata": {},
   "outputs": [],
   "source": [
    "str1 = '20'\n",
    "str2 = '23'\n",
    "\n",
    "str1+str2"
   ]
  },
  {
   "cell_type": "code",
   "execution_count": null,
   "id": "03a97227",
   "metadata": {},
   "outputs": [],
   "source": [
    "num1 = int(str1)\n",
    "num2 = int(str2)\n",
    "\n",
    "num1 + num2"
   ]
  }
 ],
 "metadata": {
  "kernelspec": {
   "display_name": "Python 3 (ipykernel)",
   "language": "python",
   "name": "python3"
  },
  "language_info": {
   "codemirror_mode": {
    "name": "ipython",
    "version": 3
   },
   "file_extension": ".py",
   "mimetype": "text/x-python",
   "name": "python",
   "nbconvert_exporter": "python",
   "pygments_lexer": "ipython3",
   "version": "3.10.8"
  }
 },
 "nbformat": 4,
 "nbformat_minor": 5
}
