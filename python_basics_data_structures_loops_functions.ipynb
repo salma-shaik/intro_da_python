{
 "cells": [
  {
   "cell_type": "markdown",
   "id": "2be2685b",
   "metadata": {},
   "source": [
    "## Tuesday, Jan 24 2023"
   ]
  },
  {
   "cell_type": "markdown",
   "id": "60e16624",
   "metadata": {},
   "source": [
    "### Getting started \n",
    "#### 1. Show print world --> shift + enter\n",
    "#### 2. Show print world --> option _ enter\n",
    "#### Show inserting a new cell above 1st hello world\n",
    "#### Show how to add these comments"
   ]
  },
  {
   "cell_type": "code",
   "execution_count": 1,
   "id": "c231b928",
   "metadata": {},
   "outputs": [
    {
     "name": "stdout",
     "output_type": "stream",
     "text": [
      "Hello World!\n"
     ]
    }
   ],
   "source": [
    "print(\"Hello World!\")"
   ]
  },
  {
   "cell_type": "code",
   "execution_count": 2,
   "id": "682aa97c",
   "metadata": {},
   "outputs": [
    {
     "name": "stdout",
     "output_type": "stream",
     "text": [
      "Hello Again!\n"
     ]
    }
   ],
   "source": [
    "print(\"Hello Again!\")"
   ]
  },
  {
   "cell_type": "markdown",
   "id": "884c1ec8",
   "metadata": {},
   "source": [
    "### Python Basics"
   ]
  },
  {
   "cell_type": "markdown",
   "id": "905d7d6f",
   "metadata": {},
   "source": [
    "#### use whitespaces(tabs or spaces) to structure code instead of braces\n",
    "#### Explain the indentation in below code snippet\n",
    "#### 4 spaces - default indentation"
   ]
  },
  {
   "cell_type": "code",
   "execution_count": 5,
   "id": "efba9c79",
   "metadata": {},
   "outputs": [],
   "source": [
    "def find_even_odd(x):\n",
    "    if x%2 == 0:\n",
    "        print(\"Even\")\n",
    "    else:\n",
    "        print(\"Odd\")"
   ]
  },
  {
   "cell_type": "code",
   "execution_count": 6,
   "id": "a937d5c7",
   "metadata": {},
   "outputs": [
    {
     "name": "stdout",
     "output_type": "stream",
     "text": [
      "Even\n"
     ]
    }
   ],
   "source": [
    "find_even_odd(4)"
   ]
  },
  {
   "cell_type": "code",
   "execution_count": 7,
   "id": "abc47c42",
   "metadata": {},
   "outputs": [
    {
     "name": "stdout",
     "output_type": "stream",
     "text": [
      "Odd\n"
     ]
    }
   ],
   "source": [
    "find_even_odd(5)"
   ]
  },
  {
   "cell_type": "markdown",
   "id": "59d4d541",
   "metadata": {},
   "source": [
    "#### Python statements also do not need to be terminated by semicolons. \n",
    "#### Whitespace alone - makes it a very clean language to work with\n",
    "#### Show the below example\n",
    "\n",
    "#### Semicolons can be used, however, to separate multiple statements on a single line:\n",
    "#### a = 5; b = 6; c = 7"
   ]
  },
  {
   "cell_type": "code",
   "execution_count": 8,
   "id": "b4ef9261",
   "metadata": {},
   "outputs": [
    {
     "name": "stdout",
     "output_type": "stream",
     "text": [
      "Odd\n"
     ]
    }
   ],
   "source": [
    "num = 24597429857\n",
    "find_even_odd(num)"
   ]
  },
  {
   "cell_type": "markdown",
   "id": "1fd17dff",
   "metadata": {},
   "source": [
    "#### An important characteristic of the Python language is the consistency of its object model.\n",
    "#### Every number, string, data structure, function, class, module, and so on exists in the Python interpreter in \n",
    "#### its own “box,” which is referred to as a Python object. Each object has an associated type (e.g., integer, \n",
    "#### string, or function) and internal data. In practice this makes the language very flexible, as even functions \n",
    "#### can be treated like any other object."
   ]
  },
  {
   "cell_type": "markdown",
   "id": "2590fac8",
   "metadata": {},
   "source": [
    "### Comments"
   ]
  },
  {
   "cell_type": "markdown",
   "id": "7a69925a",
   "metadata": {},
   "source": [
    "#### Single # is a single line comment\n",
    "#### Best practice to place comments before the code not append at the end of the line"
   ]
  },
  {
   "cell_type": "code",
   "execution_count": 10,
   "id": "0b641306",
   "metadata": {},
   "outputs": [],
   "source": [
    "# This is a comment"
   ]
  },
  {
   "cell_type": "markdown",
   "id": "1668e49f",
   "metadata": {},
   "source": [
    "### Variables and argument passing"
   ]
  },
  {
   "cell_type": "code",
   "execution_count": 15,
   "id": "6f704186",
   "metadata": {},
   "outputs": [
    {
     "data": {
      "text/plain": [
       "[1, 2, 3]"
      ]
     },
     "execution_count": 15,
     "metadata": {},
     "output_type": "execute_result"
    }
   ],
   "source": [
    "a = [1,2,3]\n",
    "a"
   ]
  },
  {
   "cell_type": "code",
   "execution_count": 16,
   "id": "0e1b83ef",
   "metadata": {},
   "outputs": [
    {
     "data": {
      "text/plain": [
       "[1, 2, 3]"
      ]
     },
     "execution_count": 16,
     "metadata": {},
     "output_type": "execute_result"
    }
   ],
   "source": [
    "## talk about assignment and equality operator\n",
    "b = a\n",
    "b"
   ]
  },
  {
   "cell_type": "code",
   "execution_count": 22,
   "id": "4466fe27",
   "metadata": {},
   "outputs": [
    {
     "data": {
      "text/plain": [
       "[1, 2, 3, 10]"
      ]
     },
     "execution_count": 22,
     "metadata": {},
     "output_type": "execute_result"
    }
   ],
   "source": [
    "### Now a and b refering to the same object. Show . and tab here that lists all available functions\n",
    "a.append(10)\n",
    "b"
   ]
  },
  {
   "cell_type": "markdown",
   "id": "ab532a1e",
   "metadata": {},
   "source": [
    "### Passing objects as arguments"
   ]
  },
  {
   "cell_type": "markdown",
   "id": "8b191e80",
   "metadata": {},
   "source": [
    "#### Show how data list gets modified. New local variables are created referencing the original objects without \n",
    "#### any copying"
   ]
  },
  {
   "cell_type": "code",
   "execution_count": 100,
   "id": "bd2902b0",
   "metadata": {},
   "outputs": [],
   "source": [
    "def append_elem_list(test_list, elem):\n",
    "    test_list.append(elem)"
   ]
  },
  {
   "cell_type": "code",
   "execution_count": 101,
   "id": "667bf2ad",
   "metadata": {},
   "outputs": [
    {
     "data": {
      "text/plain": [
       "[1, 2, 3, 4]"
      ]
     },
     "execution_count": 101,
     "metadata": {},
     "output_type": "execute_result"
    }
   ],
   "source": [
    "data = [1,2,3]\n",
    "append_elem_list(data, 4)\n",
    "data"
   ]
  },
  {
   "cell_type": "code",
   "execution_count": 102,
   "id": "8e49da94",
   "metadata": {},
   "outputs": [
    {
     "data": {
      "text/plain": [
       "[1, 2, 3, 4, 5]"
      ]
     },
     "execution_count": 102,
     "metadata": {},
     "output_type": "execute_result"
    }
   ],
   "source": [
    "append_elem_list(data, 5)\n",
    "data"
   ]
  },
  {
   "cell_type": "markdown",
   "id": "16018589",
   "metadata": {},
   "source": [
    "#### Even if you refer to different variable, still changes original if we send the original object"
   ]
  },
  {
   "cell_type": "code",
   "execution_count": 107,
   "id": "f1a982ce",
   "metadata": {},
   "outputs": [],
   "source": [
    "def append_element_list_copy(test_list, elem):\n",
    "    temp_list = test_list\n",
    "    temp_list.append(elem)\n",
    "    return temp_list"
   ]
  },
  {
   "cell_type": "code",
   "execution_count": 108,
   "id": "ac50845a",
   "metadata": {},
   "outputs": [
    {
     "name": "stdout",
     "output_type": "stream",
     "text": [
      "[10, 20, 30, 40]\n",
      "[10, 20, 30, 40]\n"
     ]
    }
   ],
   "source": [
    "data1 = [10,20,30]\n",
    "temp_list_ret1 = append_element_list_copy(data1, 40)\n",
    "print(data1)\n",
    "print(temp_list_ret1)"
   ]
  },
  {
   "cell_type": "markdown",
   "id": "e0f0b6ad",
   "metadata": {},
   "source": [
    "#### If you don't want original list to change, send a copy"
   ]
  },
  {
   "cell_type": "code",
   "execution_count": 170,
   "id": "a6f5eea1",
   "metadata": {},
   "outputs": [
    {
     "name": "stdout",
     "output_type": "stream",
     "text": [
      "[11, 12, 13]\n",
      "[11, 12, 13, 14]\n"
     ]
    }
   ],
   "source": [
    "data2 = [11,12,13]\n",
    "temp_list_ret2 = append_element_list_copy(data2.copy(), 14)\n",
    "print(data2)\n",
    "print(temp_list_ret2)"
   ]
  },
  {
   "cell_type": "markdown",
   "id": "06edb944",
   "metadata": {},
   "source": [
    "### Integers and Floats"
   ]
  },
  {
   "cell_type": "code",
   "execution_count": null,
   "id": "859d7fb5",
   "metadata": {},
   "outputs": [],
   "source": [
    "## Integer - whole num, float is a decimal"
   ]
  },
  {
   "cell_type": "markdown",
   "id": "ebb347b9",
   "metadata": {},
   "source": [
    "### Dynamic references, strong types"
   ]
  },
  {
   "cell_type": "markdown",
   "id": "c51a2bae",
   "metadata": {},
   "source": [
    "#### Variables in Python have no inherent type associated with them; a variable can refer to a different type of \n",
    "#### object simply by doing an assignment"
   ]
  },
  {
   "cell_type": "code",
   "execution_count": 110,
   "id": "d59eb80b",
   "metadata": {},
   "outputs": [
    {
     "data": {
      "text/plain": [
       "int"
      ]
     },
     "execution_count": 110,
     "metadata": {},
     "output_type": "execute_result"
    }
   ],
   "source": [
    "## No problem with the following\n",
    "a = 5\n",
    "type(a)"
   ]
  },
  {
   "cell_type": "code",
   "execution_count": 111,
   "id": "916bd27b",
   "metadata": {},
   "outputs": [
    {
     "data": {
      "text/plain": [
       "str"
      ]
     },
     "execution_count": 111,
     "metadata": {},
     "output_type": "execute_result"
    }
   ],
   "source": [
    "a = \"foo\"\n",
    "type(a)"
   ]
  },
  {
   "cell_type": "code",
   "execution_count": null,
   "id": "b5d5f2e1",
   "metadata": {},
   "outputs": [],
   "source": [
    "\"5\" + 5"
   ]
  },
  {
   "cell_type": "markdown",
   "id": "7b36abac",
   "metadata": {},
   "source": [
    "#### You can check that an object is an instance of a particular type using the isinstance function"
   ]
  },
  {
   "cell_type": "code",
   "execution_count": 112,
   "id": "4c4218d8",
   "metadata": {},
   "outputs": [
    {
     "data": {
      "text/plain": [
       "True"
      ]
     },
     "execution_count": 112,
     "metadata": {},
     "output_type": "execute_result"
    }
   ],
   "source": [
    "a = 5\n",
    "isinstance(a, int)"
   ]
  },
  {
   "cell_type": "markdown",
   "id": "b313d23f",
   "metadata": {},
   "source": [
    "#### isinstance can accept a tuple of types if you want to check that an object’s type is among those present in the tuple"
   ]
  },
  {
   "cell_type": "code",
   "execution_count": 114,
   "id": "ac0a09c4",
   "metadata": {},
   "outputs": [
    {
     "data": {
      "text/plain": [
       "True"
      ]
     },
     "execution_count": 114,
     "metadata": {},
     "output_type": "execute_result"
    }
   ],
   "source": [
    "a = 5; b = 4.5\n",
    "isinstance(a, (int, float))"
   ]
  },
  {
   "cell_type": "code",
   "execution_count": 115,
   "id": "fd78a497",
   "metadata": {},
   "outputs": [
    {
     "data": {
      "text/plain": [
       "True"
      ]
     },
     "execution_count": 115,
     "metadata": {},
     "output_type": "execute_result"
    }
   ],
   "source": [
    "isinstance(b, (int, float))"
   ]
  },
  {
   "cell_type": "markdown",
   "id": "d35d6e1d",
   "metadata": {},
   "source": [
    "#### Basic arithmetic - to work with numeric data"
   ]
  },
  {
   "cell_type": "code",
   "execution_count": 177,
   "id": "2f42dfc0",
   "metadata": {},
   "outputs": [
    {
     "data": {
      "text/plain": [
       "1.75"
      ]
     },
     "execution_count": 177,
     "metadata": {},
     "output_type": "execute_result"
    }
   ],
   "source": [
    "## for division to behave this way - new in python 3. In 2, drops the decimal\n",
    "7/4"
   ]
  },
  {
   "cell_type": "code",
   "execution_count": 178,
   "id": "faa32d45",
   "metadata": {},
   "outputs": [
    {
     "data": {
      "text/plain": [
       "1"
      ]
     },
     "execution_count": 178,
     "metadata": {},
     "output_type": "execute_result"
    }
   ],
   "source": [
    "## floor division to drop the decimal\n",
    "7 // 4"
   ]
  },
  {
   "cell_type": "code",
   "execution_count": 179,
   "id": "179d6f15",
   "metadata": {},
   "outputs": [
    {
     "data": {
      "text/plain": [
       "49"
      ]
     },
     "execution_count": 179,
     "metadata": {},
     "output_type": "execute_result"
    }
   ],
   "source": [
    "## exponent\n",
    "7 ** 2"
   ]
  },
  {
   "cell_type": "code",
   "execution_count": 180,
   "id": "e981da35",
   "metadata": {},
   "outputs": [
    {
     "data": {
      "text/plain": [
       "3"
      ]
     },
     "execution_count": 180,
     "metadata": {},
     "output_type": "execute_result"
    }
   ],
   "source": [
    "## modulo - remainder\n",
    "7 % 4"
   ]
  },
  {
   "cell_type": "code",
   "execution_count": 181,
   "id": "4f293bd1",
   "metadata": {},
   "outputs": [
    {
     "data": {
      "text/plain": [
       "14"
      ]
     },
     "execution_count": 181,
     "metadata": {},
     "output_type": "execute_result"
    }
   ],
   "source": [
    "## Order of operations\n",
    "\n",
    "4*3+2"
   ]
  },
  {
   "cell_type": "code",
   "execution_count": 182,
   "id": "f734428d",
   "metadata": {},
   "outputs": [
    {
     "data": {
      "text/plain": [
       "20"
      ]
     },
     "execution_count": 182,
     "metadata": {},
     "output_type": "execute_result"
    }
   ],
   "source": [
    "4*(3+2)"
   ]
  },
  {
   "cell_type": "code",
   "execution_count": 183,
   "id": "5b252abf",
   "metadata": {},
   "outputs": [
    {
     "data": {
      "text/plain": [
       "3"
      ]
     },
     "execution_count": 183,
     "metadata": {},
     "output_type": "execute_result"
    }
   ],
   "source": [
    "num = 2\n",
    "num = num +1\n",
    "num"
   ]
  },
  {
   "cell_type": "code",
   "execution_count": 185,
   "id": "776fb87a",
   "metadata": {},
   "outputs": [
    {
     "data": {
      "text/plain": [
       "5"
      ]
     },
     "execution_count": 185,
     "metadata": {},
     "output_type": "execute_result"
    }
   ],
   "source": [
    "num += 1\n",
    "num"
   ]
  },
  {
   "cell_type": "code",
   "execution_count": 186,
   "id": "3a29522c",
   "metadata": {},
   "outputs": [
    {
     "data": {
      "text/plain": [
       "25"
      ]
     },
     "execution_count": 186,
     "metadata": {},
     "output_type": "execute_result"
    }
   ],
   "source": [
    "num *= 5\n",
    "num"
   ]
  },
  {
   "cell_type": "markdown",
   "id": "83ddf3f7",
   "metadata": {},
   "source": [
    "#### built-in functions"
   ]
  },
  {
   "cell_type": "code",
   "execution_count": 188,
   "id": "4ee69fb5",
   "metadata": {},
   "outputs": [
    {
     "data": {
      "text/plain": [
       "8"
      ]
     },
     "execution_count": 188,
     "metadata": {},
     "output_type": "execute_result"
    }
   ],
   "source": [
    "round(8.348)"
   ]
  },
  {
   "cell_type": "code",
   "execution_count": 190,
   "id": "7a9bdbeb",
   "metadata": {},
   "outputs": [
    {
     "data": {
      "text/plain": [
       "8.35"
      ]
     },
     "execution_count": 190,
     "metadata": {},
     "output_type": "execute_result"
    }
   ],
   "source": [
    "round(8.348, 2)"
   ]
  },
  {
   "cell_type": "markdown",
   "id": "4f418d9e",
   "metadata": {},
   "source": [
    "#### comparisons"
   ]
  },
  {
   "cell_type": "code",
   "execution_count": 192,
   "id": "0f65db41",
   "metadata": {},
   "outputs": [],
   "source": [
    "num1 = 4\n",
    "num2 = 6"
   ]
  },
  {
   "cell_type": "code",
   "execution_count": null,
   "id": "517bc425",
   "metadata": {},
   "outputs": [],
   "source": [
    "num1 == num2"
   ]
  },
  {
   "cell_type": "code",
   "execution_count": 194,
   "id": "ea7e791d",
   "metadata": {},
   "outputs": [
    {
     "data": {
      "text/plain": [
       "True"
      ]
     },
     "execution_count": 194,
     "metadata": {},
     "output_type": "execute_result"
    }
   ],
   "source": [
    "num1 != num2"
   ]
  },
  {
   "cell_type": "code",
   "execution_count": 195,
   "id": "d5f7b2b9",
   "metadata": {},
   "outputs": [
    {
     "data": {
      "text/plain": [
       "True"
      ]
     },
     "execution_count": 195,
     "metadata": {},
     "output_type": "execute_result"
    }
   ],
   "source": [
    "num1 < num2\n",
    "# similarly -- >, >=,<="
   ]
  },
  {
   "cell_type": "markdown",
   "id": "8beefc38",
   "metadata": {},
   "source": [
    "#### str to int"
   ]
  },
  {
   "cell_type": "code",
   "execution_count": 196,
   "id": "f4ebde5f",
   "metadata": {},
   "outputs": [
    {
     "data": {
      "text/plain": [
       "'2023'"
      ]
     },
     "execution_count": 196,
     "metadata": {},
     "output_type": "execute_result"
    }
   ],
   "source": [
    "# say str look like numbers\n",
    "num3 = '20'\n",
    "num4 = '23'\n",
    "\n",
    "num3+num4"
   ]
  },
  {
   "cell_type": "code",
   "execution_count": 197,
   "id": "85b3455a",
   "metadata": {},
   "outputs": [
    {
     "data": {
      "text/plain": [
       "43"
      ]
     },
     "execution_count": 197,
     "metadata": {},
     "output_type": "execute_result"
    }
   ],
   "source": [
    "#casting\n",
    "num3 = int(num3)\n",
    "num4 = int(num4)\n",
    "num3 + num4"
   ]
  },
  {
   "cell_type": "code",
   "execution_count": null,
   "id": "1a99a946",
   "metadata": {},
   "outputs": [],
   "source": []
  },
  {
   "cell_type": "markdown",
   "id": "370a4607",
   "metadata": {},
   "source": [
    "### String"
   ]
  },
  {
   "cell_type": "markdown",
   "id": "c3ff64fd",
   "metadata": {},
   "source": [
    "#### Representing textual data\n",
    "#### Many people use Python for its built-in string handling capabilities"
   ]
  },
  {
   "cell_type": "code",
   "execution_count": 116,
   "id": "bd3203e6",
   "metadata": {},
   "outputs": [
    {
     "data": {
      "text/plain": [
       "'Hello'"
      ]
     },
     "execution_count": 116,
     "metadata": {},
     "output_type": "execute_result"
    }
   ],
   "source": [
    "str1 = 'Hello'\n",
    "str1"
   ]
  },
  {
   "cell_type": "code",
   "execution_count": 118,
   "id": "74ed107e",
   "metadata": {},
   "outputs": [
    {
     "data": {
      "text/plain": [
       "'World'"
      ]
     },
     "execution_count": 118,
     "metadata": {},
     "output_type": "execute_result"
    }
   ],
   "source": [
    "str2 = \"World\"\n",
    "str2"
   ]
  },
  {
   "cell_type": "code",
   "execution_count": 145,
   "id": "de30d8ae",
   "metadata": {},
   "outputs": [
    {
     "data": {
      "text/plain": [
       "'first line second line \\nthird line'"
      ]
     },
     "execution_count": 145,
     "metadata": {},
     "output_type": "execute_result"
    }
   ],
   "source": [
    "multi_str = \"\"\"first line second line \n",
    "third line\"\"\"\n",
    "\n",
    "multi_str"
   ]
  },
  {
   "cell_type": "code",
   "execution_count": 138,
   "id": "1535b1c6",
   "metadata": {},
   "outputs": [
    {
     "data": {
      "text/plain": [
       "2"
      ]
     },
     "execution_count": 138,
     "metadata": {},
     "output_type": "execute_result"
    }
   ],
   "source": [
    "multi_str.count(\"\\n\")"
   ]
  },
  {
   "cell_type": "markdown",
   "id": "d875eeef",
   "metadata": {},
   "source": [
    "### Separate multi words in a variable name with underscores.\n",
    "### Make the names as descriptive as possible\n",
    "#### Anyone reading our code or even us later would have no confusion as to what it deals with"
   ]
  },
  {
   "cell_type": "markdown",
   "id": "d94edd71",
   "metadata": {},
   "source": [
    "#### Single and double quotes"
   ]
  },
  {
   "cell_type": "code",
   "execution_count": 139,
   "id": "fe96b01c",
   "metadata": {},
   "outputs": [
    {
     "ename": "SyntaxError",
     "evalue": "unterminated string literal (detected at line 1) (380791931.py, line 1)",
     "output_type": "error",
     "traceback": [
      "\u001b[0;36m  Cell \u001b[0;32mIn[139], line 1\u001b[0;36m\u001b[0m\n\u001b[0;31m    text_ex = 'Apple's Share'\u001b[0m\n\u001b[0m                            ^\u001b[0m\n\u001b[0;31mSyntaxError\u001b[0m\u001b[0;31m:\u001b[0m unterminated string literal (detected at line 1)\n"
     ]
    }
   ],
   "source": [
    "text_ex = 'Apple's Share'\n",
    "text_ex"
   ]
  },
  {
   "cell_type": "code",
   "execution_count": 140,
   "id": "c4c7cd86",
   "metadata": {},
   "outputs": [
    {
     "data": {
      "text/plain": [
       "\"Apple's Share\""
      ]
     },
     "execution_count": 140,
     "metadata": {},
     "output_type": "execute_result"
    }
   ],
   "source": [
    "text_ex = \"Apple's Share\"\n",
    "text_ex"
   ]
  },
  {
   "cell_type": "code",
   "execution_count": 141,
   "id": "39d8aa3a",
   "metadata": {},
   "outputs": [
    {
     "data": {
      "text/plain": [
       "'Apple\"s Share'"
      ]
     },
     "execution_count": 141,
     "metadata": {},
     "output_type": "execute_result"
    }
   ],
   "source": [
    "text_ex = 'Apple\"s Share'\n",
    "text_ex"
   ]
  },
  {
   "cell_type": "code",
   "execution_count": 143,
   "id": "5bb16c58",
   "metadata": {},
   "outputs": [
    {
     "ename": "SyntaxError",
     "evalue": "unterminated string literal (detected at line 1) (3080184761.py, line 1)",
     "output_type": "error",
     "traceback": [
      "\u001b[0;36m  Cell \u001b[0;32mIn[143], line 1\u001b[0;36m\u001b[0m\n\u001b[0;31m    text_ex = \"Apple\"s Share\"\u001b[0m\n\u001b[0m                            ^\u001b[0m\n\u001b[0;31mSyntaxError\u001b[0m\u001b[0;31m:\u001b[0m unterminated string literal (detected at line 1)\n"
     ]
    }
   ],
   "source": [
    "text_ex = \"Apple\"s Share\"\n",
    "text_ex"
   ]
  },
  {
   "cell_type": "code",
   "execution_count": 144,
   "id": "2ef43e14",
   "metadata": {},
   "outputs": [
    {
     "data": {
      "text/plain": [
       "\"Apple's Share\""
      ]
     },
     "execution_count": 144,
     "metadata": {},
     "output_type": "execute_result"
    }
   ],
   "source": [
    "text_ex = \"Apple's Share\"\n",
    "text_ex"
   ]
  },
  {
   "cell_type": "markdown",
   "id": "b9360abb",
   "metadata": {},
   "source": [
    "### Concatenate"
   ]
  },
  {
   "cell_type": "code",
   "execution_count": 130,
   "id": "06d8599c",
   "metadata": {},
   "outputs": [
    {
     "data": {
      "text/plain": [
       "'first half second half'"
      ]
     },
     "execution_count": 130,
     "metadata": {},
     "output_type": "execute_result"
    }
   ],
   "source": [
    "a = 'first half'\n",
    "b = ' second half'\n",
    "\n",
    "a+b"
   ]
  },
  {
   "cell_type": "markdown",
   "id": "7cd3335a",
   "metadata": {},
   "source": [
    "#### All of the data types that we are going to review will have lot of methods associated with them which help us to achieve different things. Give us access to methods with lot of useful functionality\n",
    "\n",
    "#### methods -function that belongs to an object. But basically both same"
   ]
  },
  {
   "cell_type": "markdown",
   "id": "887e2078",
   "metadata": {},
   "source": [
    "### WEEK 4 -Tuesday, Jan 31 2023\n",
    "### Replace a string"
   ]
  },
  {
   "cell_type": "code",
   "execution_count": 136,
   "id": "46586497",
   "metadata": {},
   "outputs": [
    {
     "data": {
      "text/plain": [
       "'Data Science'"
      ]
     },
     "execution_count": 136,
     "metadata": {},
     "output_type": "execute_result"
    }
   ],
   "source": [
    "# Replace returns a replaced string\n",
    "course_name = 'Data Analytics'\n",
    "course_name = course_name.replace('Analytics', 'Science')\n",
    "course_name"
   ]
  },
  {
   "cell_type": "code",
   "execution_count": 139,
   "id": "73cfe177",
   "metadata": {},
   "outputs": [
    {
     "data": {
      "text/plain": [
       "'Data Warehousing'"
      ]
     },
     "execution_count": 139,
     "metadata": {},
     "output_type": "execute_result"
    }
   ],
   "source": [
    "# Replace returns a replaced string\n",
    "course_name = 'Data Warehousing'\n",
    "course_name = course_name.replace('Analytics', 'Science')\n",
    "course_name"
   ]
  },
  {
   "cell_type": "markdown",
   "id": "e64ce3d1",
   "metadata": {},
   "source": [
    "### lower, upper, count, find"
   ]
  },
  {
   "cell_type": "code",
   "execution_count": 168,
   "id": "bbd3b2fc",
   "metadata": {},
   "outputs": [
    {
     "data": {
      "text/plain": [
       "'DATA WAREHOUSING'"
      ]
     },
     "execution_count": 168,
     "metadata": {},
     "output_type": "execute_result"
    }
   ],
   "source": [
    "course_name.upper()"
   ]
  },
  {
   "cell_type": "code",
   "execution_count": 148,
   "id": "f33387c3",
   "metadata": {},
   "outputs": [
    {
     "data": {
      "text/plain": [
       "1"
      ]
     },
     "execution_count": 148,
     "metadata": {},
     "output_type": "execute_result"
    }
   ],
   "source": [
    "course_name.count('Data')"
   ]
  },
  {
   "cell_type": "code",
   "execution_count": 153,
   "id": "4c387711",
   "metadata": {},
   "outputs": [
    {
     "data": {
      "text/plain": [
       "1"
      ]
     },
     "execution_count": 153,
     "metadata": {},
     "output_type": "execute_result"
    }
   ],
   "source": [
    "course_name.count('e')"
   ]
  },
  {
   "cell_type": "code",
   "execution_count": 154,
   "id": "d7c81586",
   "metadata": {},
   "outputs": [
    {
     "data": {
      "text/plain": [
       "0"
      ]
     },
     "execution_count": 154,
     "metadata": {},
     "output_type": "execute_result"
    }
   ],
   "source": [
    "course_name.count('b')"
   ]
  },
  {
   "cell_type": "code",
   "execution_count": 151,
   "id": "cbf947e1",
   "metadata": {},
   "outputs": [
    {
     "data": {
      "text/plain": [
       "5"
      ]
     },
     "execution_count": 151,
     "metadata": {},
     "output_type": "execute_result"
    }
   ],
   "source": [
    "# to find index\n",
    "course_name.find('Warehousing')"
   ]
  },
  {
   "cell_type": "code",
   "execution_count": 152,
   "id": "9354620f",
   "metadata": {},
   "outputs": [
    {
     "data": {
      "text/plain": [
       "5"
      ]
     },
     "execution_count": 152,
     "metadata": {},
     "output_type": "execute_result"
    }
   ],
   "source": [
    "# to find index\n",
    "course_name.find('Ware')"
   ]
  },
  {
   "cell_type": "code",
   "execution_count": 162,
   "id": "94875310",
   "metadata": {},
   "outputs": [
    {
     "data": {
      "text/plain": [
       "-1"
      ]
     },
     "execution_count": 162,
     "metadata": {},
     "output_type": "execute_result"
    }
   ],
   "source": [
    "course_name.find('World')"
   ]
  },
  {
   "cell_type": "markdown",
   "id": "4bb85a42",
   "metadata": {},
   "source": [
    "### String Formatting"
   ]
  },
  {
   "cell_type": "code",
   "execution_count": 155,
   "id": "a6d97a88",
   "metadata": {},
   "outputs": [
    {
     "data": {
      "text/plain": [
       "'There are 12 students in programming class'"
      ]
     },
     "execution_count": 155,
     "metadata": {},
     "output_type": "execute_result"
    }
   ],
   "source": [
    "## f strings - makes formatting more simpler; lot easier than other methods such as format\n",
    "\n",
    "course = 'programming'\n",
    "enrollment = 12\n",
    "\n",
    "## can actually write code in placeholder\n",
    "class_details = f\"There are {enrollment} students in {course} class\" \n",
    "\n",
    "class_details"
   ]
  },
  {
   "cell_type": "markdown",
   "id": "8256b4a6",
   "metadata": {},
   "source": [
    "#### Can perform calculations within f string"
   ]
  },
  {
   "cell_type": "code",
   "execution_count": 156,
   "id": "2a9bff22",
   "metadata": {},
   "outputs": [
    {
     "data": {
      "text/plain": [
       "'The average score for 12 students in programming class is 44.5'"
      ]
     },
     "execution_count": 156,
     "metadata": {},
     "output_type": "execute_result"
    }
   ],
   "source": [
    "score = 534\n",
    "\n",
    "ave_score = f'The average score for {enrollment} students in {course} class is {score/enrollment}'\n",
    "ave_score"
   ]
  },
  {
   "cell_type": "code",
   "execution_count": 157,
   "id": "1d31b75d",
   "metadata": {},
   "outputs": [
    {
     "data": {
      "text/plain": [
       "'5 times 12 is 60'"
      ]
     },
     "execution_count": 157,
     "metadata": {},
     "output_type": "execute_result"
    }
   ],
   "source": [
    "f'5 times 12 is {5*12}'"
   ]
  },
  {
   "cell_type": "markdown",
   "id": "db2f2408",
   "metadata": {},
   "source": [
    "#### Can perform operations within f string"
   ]
  },
  {
   "cell_type": "code",
   "execution_count": 158,
   "id": "c29a5505",
   "metadata": {},
   "outputs": [
    {
     "name": "stdout",
     "output_type": "stream",
     "text": [
      "The best employee is Jane Doe\n",
      "The best employee is jane DOE\n"
     ]
    }
   ],
   "source": [
    "first_name = \"Jane\"\n",
    "last_name = \"Doe\"\n",
    "\n",
    "best_emp = f'The best employee is {first_name} {last_name}'\n",
    "print(best_emp)\n",
    "\n",
    "best_emp = f'The best employee is {first_name.lower()} {last_name.upper()}'\n",
    "print(best_emp)\n",
    "\n"
   ]
  },
  {
   "cell_type": "markdown",
   "id": "4d0c7fad",
   "metadata": {},
   "source": [
    "#### Careful with ' and \""
   ]
  },
  {
   "cell_type": "code",
   "execution_count": null,
   "id": "cdaf5880",
   "metadata": {},
   "outputs": [],
   "source": [
    "#best_emp = f'The best employee's name is {first_name.lower()} {last_name.upper()}'\n",
    "print(best_emp)\n",
    "\n",
    "# best_emp = f\"The best employe's name is {first_name.lower()} {last_name.upper()}\"\n",
    "# print(best_emp)\n",
    "\n",
    "# best_emp = f'The best employe\"s name is {first_name.lower()} {last_name.upper()}'\n",
    "# print(best_emp)"
   ]
  },
  {
   "cell_type": "markdown",
   "id": "cd7925db",
   "metadata": {},
   "source": [
    "#### f strings support number formatting"
   ]
  },
  {
   "cell_type": "code",
   "execution_count": 17,
   "id": "5fa911bc",
   "metadata": {},
   "outputs": [
    {
     "data": {
      "text/plain": [
       "'Number of employees are 5'"
      ]
     },
     "execution_count": 17,
     "metadata": {},
     "output_type": "execute_result"
    }
   ],
   "source": [
    "num_emp = 5\n",
    "f'Number of employees are {num_emp}'"
   ]
  },
  {
   "cell_type": "code",
   "execution_count": 19,
   "id": "30fab337",
   "metadata": {},
   "outputs": [
    {
     "data": {
      "text/plain": [
       "'Number of employees are 05'"
      ]
     },
     "execution_count": 19,
     "metadata": {},
     "output_type": "execute_result"
    }
   ],
   "source": [
    "f'Number of employees are {num_emp:02}'"
   ]
  },
  {
   "cell_type": "code",
   "execution_count": 21,
   "id": "afb301ba",
   "metadata": {},
   "outputs": [
    {
     "data": {
      "text/plain": [
       "'Number of employees are 0005'"
      ]
     },
     "execution_count": 21,
     "metadata": {},
     "output_type": "execute_result"
    }
   ],
   "source": [
    "f'Number of employees are {num_emp:04}'"
   ]
  },
  {
   "cell_type": "code",
   "execution_count": 23,
   "id": "4f73899c",
   "metadata": {},
   "outputs": [
    {
     "data": {
      "text/plain": [
       "'The given float value is 23.23408375329'"
      ]
     },
     "execution_count": 23,
     "metadata": {},
     "output_type": "execute_result"
    }
   ],
   "source": [
    "float_num = 23.23408375329\n",
    "f'The given float value is {float_num}'"
   ]
  },
  {
   "cell_type": "code",
   "execution_count": 24,
   "id": "e8ef36b5",
   "metadata": {},
   "outputs": [
    {
     "data": {
      "text/plain": [
       "'The given float value is 23.23'"
      ]
     },
     "execution_count": 24,
     "metadata": {},
     "output_type": "execute_result"
    }
   ],
   "source": [
    "f'The given float value is {float_num:.2f}'"
   ]
  },
  {
   "cell_type": "code",
   "execution_count": 25,
   "id": "3955304c",
   "metadata": {},
   "outputs": [
    {
     "data": {
      "text/plain": [
       "'The given float value is 23.2341'"
      ]
     },
     "execution_count": 25,
     "metadata": {},
     "output_type": "execute_result"
    }
   ],
   "source": [
    "f'The given float value is {float_num:.4f}'"
   ]
  },
  {
   "cell_type": "markdown",
   "id": "0e82c38e",
   "metadata": {},
   "source": [
    "### dir and help - SHOW TOWARDS THE END OF BASIC PYTHON"
   ]
  },
  {
   "cell_type": "code",
   "execution_count": 166,
   "id": "04afccbb",
   "metadata": {
    "collapsed": true
   },
   "outputs": [
    {
     "data": {
      "text/plain": [
       "['__add__',\n",
       " '__class__',\n",
       " '__contains__',\n",
       " '__delattr__',\n",
       " '__dir__',\n",
       " '__doc__',\n",
       " '__eq__',\n",
       " '__format__',\n",
       " '__ge__',\n",
       " '__getattribute__',\n",
       " '__getitem__',\n",
       " '__getnewargs__',\n",
       " '__gt__',\n",
       " '__hash__',\n",
       " '__init__',\n",
       " '__init_subclass__',\n",
       " '__iter__',\n",
       " '__le__',\n",
       " '__len__',\n",
       " '__lt__',\n",
       " '__mod__',\n",
       " '__mul__',\n",
       " '__ne__',\n",
       " '__new__',\n",
       " '__reduce__',\n",
       " '__reduce_ex__',\n",
       " '__repr__',\n",
       " '__rmod__',\n",
       " '__rmul__',\n",
       " '__setattr__',\n",
       " '__sizeof__',\n",
       " '__str__',\n",
       " '__subclasshook__',\n",
       " 'capitalize',\n",
       " 'casefold',\n",
       " 'center',\n",
       " 'count',\n",
       " 'encode',\n",
       " 'endswith',\n",
       " 'expandtabs',\n",
       " 'find',\n",
       " 'format',\n",
       " 'format_map',\n",
       " 'index',\n",
       " 'isalnum',\n",
       " 'isalpha',\n",
       " 'isascii',\n",
       " 'isdecimal',\n",
       " 'isdigit',\n",
       " 'isidentifier',\n",
       " 'islower',\n",
       " 'isnumeric',\n",
       " 'isprintable',\n",
       " 'isspace',\n",
       " 'istitle',\n",
       " 'isupper',\n",
       " 'join',\n",
       " 'ljust',\n",
       " 'lower',\n",
       " 'lstrip',\n",
       " 'maketrans',\n",
       " 'partition',\n",
       " 'removeprefix',\n",
       " 'removesuffix',\n",
       " 'replace',\n",
       " 'rfind',\n",
       " 'rindex',\n",
       " 'rjust',\n",
       " 'rpartition',\n",
       " 'rsplit',\n",
       " 'rstrip',\n",
       " 'split',\n",
       " 'splitlines',\n",
       " 'startswith',\n",
       " 'strip',\n",
       " 'swapcase',\n",
       " 'title',\n",
       " 'translate',\n",
       " 'upper',\n",
       " 'zfill']"
      ]
     },
     "execution_count": 166,
     "metadata": {},
     "output_type": "execute_result"
    }
   ],
   "source": [
    "#shows all the attributes and methods that we have access to with that attribute\n",
    "dir(str)"
   ]
  },
  {
   "cell_type": "code",
   "execution_count": 167,
   "id": "07006a72",
   "metadata": {
    "collapsed": true
   },
   "outputs": [
    {
     "name": "stdout",
     "output_type": "stream",
     "text": [
      "Help on class str in module builtins:\n",
      "\n",
      "class str(object)\n",
      " |  str(object='') -> str\n",
      " |  str(bytes_or_buffer[, encoding[, errors]]) -> str\n",
      " |  \n",
      " |  Create a new string object from the given object. If encoding or\n",
      " |  errors is specified, then the object must expose a data buffer\n",
      " |  that will be decoded using the given encoding and error handler.\n",
      " |  Otherwise, returns the result of object.__str__() (if defined)\n",
      " |  or repr(object).\n",
      " |  encoding defaults to sys.getdefaultencoding().\n",
      " |  errors defaults to 'strict'.\n",
      " |  \n",
      " |  Methods defined here:\n",
      " |  \n",
      " |  __add__(self, value, /)\n",
      " |      Return self+value.\n",
      " |  \n",
      " |  __contains__(self, key, /)\n",
      " |      Return key in self.\n",
      " |  \n",
      " |  __eq__(self, value, /)\n",
      " |      Return self==value.\n",
      " |  \n",
      " |  __format__(self, format_spec, /)\n",
      " |      Return a formatted version of the string as described by format_spec.\n",
      " |  \n",
      " |  __ge__(self, value, /)\n",
      " |      Return self>=value.\n",
      " |  \n",
      " |  __getattribute__(self, name, /)\n",
      " |      Return getattr(self, name).\n",
      " |  \n",
      " |  __getitem__(self, key, /)\n",
      " |      Return self[key].\n",
      " |  \n",
      " |  __getnewargs__(...)\n",
      " |  \n",
      " |  __gt__(self, value, /)\n",
      " |      Return self>value.\n",
      " |  \n",
      " |  __hash__(self, /)\n",
      " |      Return hash(self).\n",
      " |  \n",
      " |  __iter__(self, /)\n",
      " |      Implement iter(self).\n",
      " |  \n",
      " |  __le__(self, value, /)\n",
      " |      Return self<=value.\n",
      " |  \n",
      " |  __len__(self, /)\n",
      " |      Return len(self).\n",
      " |  \n",
      " |  __lt__(self, value, /)\n",
      " |      Return self<value.\n",
      " |  \n",
      " |  __mod__(self, value, /)\n",
      " |      Return self%value.\n",
      " |  \n",
      " |  __mul__(self, value, /)\n",
      " |      Return self*value.\n",
      " |  \n",
      " |  __ne__(self, value, /)\n",
      " |      Return self!=value.\n",
      " |  \n",
      " |  __repr__(self, /)\n",
      " |      Return repr(self).\n",
      " |  \n",
      " |  __rmod__(self, value, /)\n",
      " |      Return value%self.\n",
      " |  \n",
      " |  __rmul__(self, value, /)\n",
      " |      Return value*self.\n",
      " |  \n",
      " |  __sizeof__(self, /)\n",
      " |      Return the size of the string in memory, in bytes.\n",
      " |  \n",
      " |  __str__(self, /)\n",
      " |      Return str(self).\n",
      " |  \n",
      " |  capitalize(self, /)\n",
      " |      Return a capitalized version of the string.\n",
      " |      \n",
      " |      More specifically, make the first character have upper case and the rest lower\n",
      " |      case.\n",
      " |  \n",
      " |  casefold(self, /)\n",
      " |      Return a version of the string suitable for caseless comparisons.\n",
      " |  \n",
      " |  center(self, width, fillchar=' ', /)\n",
      " |      Return a centered string of length width.\n",
      " |      \n",
      " |      Padding is done using the specified fill character (default is a space).\n",
      " |  \n",
      " |  count(...)\n",
      " |      S.count(sub[, start[, end]]) -> int\n",
      " |      \n",
      " |      Return the number of non-overlapping occurrences of substring sub in\n",
      " |      string S[start:end].  Optional arguments start and end are\n",
      " |      interpreted as in slice notation.\n",
      " |  \n",
      " |  encode(self, /, encoding='utf-8', errors='strict')\n",
      " |      Encode the string using the codec registered for encoding.\n",
      " |      \n",
      " |      encoding\n",
      " |        The encoding in which to encode the string.\n",
      " |      errors\n",
      " |        The error handling scheme to use for encoding errors.\n",
      " |        The default is 'strict' meaning that encoding errors raise a\n",
      " |        UnicodeEncodeError.  Other possible values are 'ignore', 'replace' and\n",
      " |        'xmlcharrefreplace' as well as any other name registered with\n",
      " |        codecs.register_error that can handle UnicodeEncodeErrors.\n",
      " |  \n",
      " |  endswith(...)\n",
      " |      S.endswith(suffix[, start[, end]]) -> bool\n",
      " |      \n",
      " |      Return True if S ends with the specified suffix, False otherwise.\n",
      " |      With optional start, test S beginning at that position.\n",
      " |      With optional end, stop comparing S at that position.\n",
      " |      suffix can also be a tuple of strings to try.\n",
      " |  \n",
      " |  expandtabs(self, /, tabsize=8)\n",
      " |      Return a copy where all tab characters are expanded using spaces.\n",
      " |      \n",
      " |      If tabsize is not given, a tab size of 8 characters is assumed.\n",
      " |  \n",
      " |  find(...)\n",
      " |      S.find(sub[, start[, end]]) -> int\n",
      " |      \n",
      " |      Return the lowest index in S where substring sub is found,\n",
      " |      such that sub is contained within S[start:end].  Optional\n",
      " |      arguments start and end are interpreted as in slice notation.\n",
      " |      \n",
      " |      Return -1 on failure.\n",
      " |  \n",
      " |  format(...)\n",
      " |      S.format(*args, **kwargs) -> str\n",
      " |      \n",
      " |      Return a formatted version of S, using substitutions from args and kwargs.\n",
      " |      The substitutions are identified by braces ('{' and '}').\n",
      " |  \n",
      " |  format_map(...)\n",
      " |      S.format_map(mapping) -> str\n",
      " |      \n",
      " |      Return a formatted version of S, using substitutions from mapping.\n",
      " |      The substitutions are identified by braces ('{' and '}').\n",
      " |  \n",
      " |  index(...)\n",
      " |      S.index(sub[, start[, end]]) -> int\n",
      " |      \n",
      " |      Return the lowest index in S where substring sub is found,\n",
      " |      such that sub is contained within S[start:end].  Optional\n",
      " |      arguments start and end are interpreted as in slice notation.\n",
      " |      \n",
      " |      Raises ValueError when the substring is not found.\n",
      " |  \n",
      " |  isalnum(self, /)\n",
      " |      Return True if the string is an alpha-numeric string, False otherwise.\n",
      " |      \n",
      " |      A string is alpha-numeric if all characters in the string are alpha-numeric and\n",
      " |      there is at least one character in the string.\n",
      " |  \n",
      " |  isalpha(self, /)\n",
      " |      Return True if the string is an alphabetic string, False otherwise.\n",
      " |      \n",
      " |      A string is alphabetic if all characters in the string are alphabetic and there\n",
      " |      is at least one character in the string.\n",
      " |  \n",
      " |  isascii(self, /)\n",
      " |      Return True if all characters in the string are ASCII, False otherwise.\n",
      " |      \n",
      " |      ASCII characters have code points in the range U+0000-U+007F.\n",
      " |      Empty string is ASCII too.\n",
      " |  \n",
      " |  isdecimal(self, /)\n",
      " |      Return True if the string is a decimal string, False otherwise.\n",
      " |      \n",
      " |      A string is a decimal string if all characters in the string are decimal and\n",
      " |      there is at least one character in the string.\n",
      " |  \n",
      " |  isdigit(self, /)\n",
      " |      Return True if the string is a digit string, False otherwise.\n",
      " |      \n",
      " |      A string is a digit string if all characters in the string are digits and there\n",
      " |      is at least one character in the string.\n",
      " |  \n",
      " |  isidentifier(self, /)\n",
      " |      Return True if the string is a valid Python identifier, False otherwise.\n",
      " |      \n",
      " |      Call keyword.iskeyword(s) to test whether string s is a reserved identifier,\n",
      " |      such as \"def\" or \"class\".\n",
      " |  \n",
      " |  islower(self, /)\n",
      " |      Return True if the string is a lowercase string, False otherwise.\n",
      " |      \n",
      " |      A string is lowercase if all cased characters in the string are lowercase and\n",
      " |      there is at least one cased character in the string.\n",
      " |  \n",
      " |  isnumeric(self, /)\n",
      " |      Return True if the string is a numeric string, False otherwise.\n",
      " |      \n",
      " |      A string is numeric if all characters in the string are numeric and there is at\n",
      " |      least one character in the string.\n",
      " |  \n",
      " |  isprintable(self, /)\n",
      " |      Return True if the string is printable, False otherwise.\n",
      " |      \n",
      " |      A string is printable if all of its characters are considered printable in\n",
      " |      repr() or if it is empty.\n",
      " |  \n",
      " |  isspace(self, /)\n",
      " |      Return True if the string is a whitespace string, False otherwise.\n",
      " |      \n",
      " |      A string is whitespace if all characters in the string are whitespace and there\n",
      " |      is at least one character in the string.\n",
      " |  \n",
      " |  istitle(self, /)\n",
      " |      Return True if the string is a title-cased string, False otherwise.\n",
      " |      \n",
      " |      In a title-cased string, upper- and title-case characters may only\n",
      " |      follow uncased characters and lowercase characters only cased ones.\n",
      " |  \n",
      " |  isupper(self, /)\n",
      " |      Return True if the string is an uppercase string, False otherwise.\n",
      " |      \n",
      " |      A string is uppercase if all cased characters in the string are uppercase and\n",
      " |      there is at least one cased character in the string.\n",
      " |  \n",
      " |  join(self, iterable, /)\n",
      " |      Concatenate any number of strings.\n",
      " |      \n",
      " |      The string whose method is called is inserted in between each given string.\n",
      " |      The result is returned as a new string.\n",
      " |      \n",
      " |      Example: '.'.join(['ab', 'pq', 'rs']) -> 'ab.pq.rs'\n",
      " |  \n",
      " |  ljust(self, width, fillchar=' ', /)\n",
      " |      Return a left-justified string of length width.\n",
      " |      \n",
      " |      Padding is done using the specified fill character (default is a space).\n",
      " |  \n",
      " |  lower(self, /)\n",
      " |      Return a copy of the string converted to lowercase.\n",
      " |  \n",
      " |  lstrip(self, chars=None, /)\n",
      " |      Return a copy of the string with leading whitespace removed.\n",
      " |      \n",
      " |      If chars is given and not None, remove characters in chars instead.\n",
      " |  \n",
      " |  partition(self, sep, /)\n",
      " |      Partition the string into three parts using the given separator.\n",
      " |      \n",
      " |      This will search for the separator in the string.  If the separator is found,\n",
      " |      returns a 3-tuple containing the part before the separator, the separator\n",
      " |      itself, and the part after it.\n",
      " |      \n",
      " |      If the separator is not found, returns a 3-tuple containing the original string\n",
      " |      and two empty strings.\n",
      " |  \n",
      " |  removeprefix(self, prefix, /)\n",
      " |      Return a str with the given prefix string removed if present.\n",
      " |      \n",
      " |      If the string starts with the prefix string, return string[len(prefix):].\n",
      " |      Otherwise, return a copy of the original string.\n",
      " |  \n",
      " |  removesuffix(self, suffix, /)\n",
      " |      Return a str with the given suffix string removed if present.\n",
      " |      \n",
      " |      If the string ends with the suffix string and that suffix is not empty,\n",
      " |      return string[:-len(suffix)]. Otherwise, return a copy of the original\n",
      " |      string.\n",
      " |  \n",
      " |  replace(self, old, new, count=-1, /)\n",
      " |      Return a copy with all occurrences of substring old replaced by new.\n",
      " |      \n",
      " |        count\n",
      " |          Maximum number of occurrences to replace.\n",
      " |          -1 (the default value) means replace all occurrences.\n",
      " |      \n",
      " |      If the optional argument count is given, only the first count occurrences are\n",
      " |      replaced.\n",
      " |  \n",
      " |  rfind(...)\n",
      " |      S.rfind(sub[, start[, end]]) -> int\n",
      " |      \n",
      " |      Return the highest index in S where substring sub is found,\n",
      " |      such that sub is contained within S[start:end].  Optional\n",
      " |      arguments start and end are interpreted as in slice notation.\n",
      " |      \n",
      " |      Return -1 on failure.\n",
      " |  \n",
      " |  rindex(...)\n",
      " |      S.rindex(sub[, start[, end]]) -> int\n",
      " |      \n",
      " |      Return the highest index in S where substring sub is found,\n",
      " |      such that sub is contained within S[start:end].  Optional\n",
      " |      arguments start and end are interpreted as in slice notation.\n",
      " |      \n",
      " |      Raises ValueError when the substring is not found.\n",
      " |  \n",
      " |  rjust(self, width, fillchar=' ', /)\n",
      " |      Return a right-justified string of length width.\n",
      " |      \n",
      " |      Padding is done using the specified fill character (default is a space).\n",
      " |  \n",
      " |  rpartition(self, sep, /)\n",
      " |      Partition the string into three parts using the given separator.\n",
      " |      \n",
      " |      This will search for the separator in the string, starting at the end. If\n",
      " |      the separator is found, returns a 3-tuple containing the part before the\n",
      " |      separator, the separator itself, and the part after it.\n",
      " |      \n",
      " |      If the separator is not found, returns a 3-tuple containing two empty strings\n",
      " |      and the original string.\n",
      " |  \n",
      " |  rsplit(self, /, sep=None, maxsplit=-1)\n",
      " |      Return a list of the substrings in the string, using sep as the separator string.\n",
      " |      \n",
      " |        sep\n",
      " |          The separator used to split the string.\n",
      " |      \n",
      " |          When set to None (the default value), will split on any whitespace\n",
      " |          character (including \\\\n \\\\r \\\\t \\\\f and spaces) and will discard\n",
      " |          empty strings from the result.\n",
      " |        maxsplit\n",
      " |          Maximum number of splits (starting from the left).\n",
      " |          -1 (the default value) means no limit.\n",
      " |      \n",
      " |      Splitting starts at the end of the string and works to the front.\n",
      " |  \n",
      " |  rstrip(self, chars=None, /)\n",
      " |      Return a copy of the string with trailing whitespace removed.\n",
      " |      \n",
      " |      If chars is given and not None, remove characters in chars instead.\n",
      " |  \n",
      " |  split(self, /, sep=None, maxsplit=-1)\n",
      " |      Return a list of the substrings in the string, using sep as the separator string.\n",
      " |      \n",
      " |        sep\n",
      " |          The separator used to split the string.\n",
      " |      \n",
      " |          When set to None (the default value), will split on any whitespace\n",
      " |          character (including \\\\n \\\\r \\\\t \\\\f and spaces) and will discard\n",
      " |          empty strings from the result.\n",
      " |        maxsplit\n",
      " |          Maximum number of splits (starting from the left).\n",
      " |          -1 (the default value) means no limit.\n",
      " |      \n",
      " |      Note, str.split() is mainly useful for data that has been intentionally\n",
      " |      delimited.  With natural text that includes punctuation, consider using\n",
      " |      the regular expression module.\n",
      " |  \n",
      " |  splitlines(self, /, keepends=False)\n",
      " |      Return a list of the lines in the string, breaking at line boundaries.\n",
      " |      \n",
      " |      Line breaks are not included in the resulting list unless keepends is given and\n",
      " |      true.\n",
      " |  \n",
      " |  startswith(...)\n",
      " |      S.startswith(prefix[, start[, end]]) -> bool\n",
      " |      \n",
      " |      Return True if S starts with the specified prefix, False otherwise.\n",
      " |      With optional start, test S beginning at that position.\n",
      " |      With optional end, stop comparing S at that position.\n",
      " |      prefix can also be a tuple of strings to try.\n",
      " |  \n",
      " |  strip(self, chars=None, /)\n",
      " |      Return a copy of the string with leading and trailing whitespace removed.\n",
      " |      \n",
      " |      If chars is given and not None, remove characters in chars instead.\n",
      " |  \n",
      " |  swapcase(self, /)\n",
      " |      Convert uppercase characters to lowercase and lowercase characters to uppercase.\n",
      " |  \n",
      " |  title(self, /)\n",
      " |      Return a version of the string where each word is titlecased.\n",
      " |      \n",
      " |      More specifically, words start with uppercased characters and all remaining\n",
      " |      cased characters have lower case.\n",
      " |  \n",
      " |  translate(self, table, /)\n",
      " |      Replace each character in the string using the given translation table.\n",
      " |      \n",
      " |        table\n",
      " |          Translation table, which must be a mapping of Unicode ordinals to\n",
      " |          Unicode ordinals, strings, or None.\n",
      " |      \n",
      " |      The table must implement lookup/indexing via __getitem__, for instance a\n",
      " |      dictionary or list.  If this operation raises LookupError, the character is\n",
      " |      left untouched.  Characters mapped to None are deleted.\n",
      " |  \n",
      " |  upper(self, /)\n",
      " |      Return a copy of the string converted to uppercase.\n",
      " |  \n",
      " |  zfill(self, width, /)\n",
      " |      Pad a numeric string with zeros on the left, to fill a field of the given width.\n",
      " |      \n",
      " |      The string is never truncated.\n",
      " |  \n",
      " |  ----------------------------------------------------------------------\n",
      " |  Static methods defined here:\n",
      " |  \n",
      " |  __new__(*args, **kwargs) from builtins.type\n",
      " |      Create and return a new object.  See help(type) for accurate signature.\n",
      " |  \n",
      " |  maketrans(...)\n",
      " |      Return a translation table usable for str.translate().\n",
      " |      \n",
      " |      If there is only one argument, it must be a dictionary mapping Unicode\n",
      " |      ordinals (integers) or characters to Unicode ordinals, strings or None.\n",
      " |      Character keys will be then converted to ordinals.\n",
      " |      If there are two arguments, they must be strings of equal length, and\n",
      " |      in the resulting dictionary, each character in x will be mapped to the\n",
      " |      character at the same position in y. If there is a third argument, it\n",
      " |      must be a string, whose characters will be mapped to None in the result.\n",
      "\n"
     ]
    }
   ],
   "source": [
    "### to get more info on each of these methods\n",
    "help(str)"
   ]
  },
  {
   "cell_type": "code",
   "execution_count": 168,
   "id": "a5784ea3",
   "metadata": {},
   "outputs": [
    {
     "name": "stdout",
     "output_type": "stream",
     "text": [
      "Help on method_descriptor:\n",
      "\n",
      "lower(self, /)\n",
      "    Return a copy of the string converted to lowercase.\n",
      "\n"
     ]
    }
   ],
   "source": [
    "### if you remember a method but doesn't know what it does\n",
    "help(str.lower)"
   ]
  },
  {
   "cell_type": "markdown",
   "id": "a58f1645",
   "metadata": {},
   "source": [
    "### Conditionals and Booleans\n",
    "#### what statements get executed depending on what are the values ---> true or false --> booleans"
   ]
  },
  {
   "cell_type": "markdown",
   "id": "58c7b38a",
   "metadata": {},
   "source": [
    "#### Booleans - True and False\n",
    "#### Logical operators and or"
   ]
  },
  {
   "cell_type": "code",
   "execution_count": 230,
   "id": "7aa52e75",
   "metadata": {},
   "outputs": [
    {
     "data": {
      "text/plain": [
       "True"
      ]
     },
     "execution_count": 230,
     "metadata": {},
     "output_type": "execute_result"
    }
   ],
   "source": [
    "True and True"
   ]
  },
  {
   "cell_type": "code",
   "execution_count": 232,
   "id": "43d9d7b2",
   "metadata": {},
   "outputs": [
    {
     "data": {
      "text/plain": [
       "False"
      ]
     },
     "execution_count": 232,
     "metadata": {},
     "output_type": "execute_result"
    }
   ],
   "source": [
    "True and False"
   ]
  },
  {
   "cell_type": "code",
   "execution_count": 233,
   "id": "322a9c09",
   "metadata": {},
   "outputs": [
    {
     "data": {
      "text/plain": [
       "True"
      ]
     },
     "execution_count": 233,
     "metadata": {},
     "output_type": "execute_result"
    }
   ],
   "source": [
    "True or False"
   ]
  },
  {
   "cell_type": "code",
   "execution_count": 234,
   "id": "5e585ae7",
   "metadata": {},
   "outputs": [
    {
     "data": {
      "text/plain": [
       "1"
      ]
     },
     "execution_count": 234,
     "metadata": {},
     "output_type": "execute_result"
    }
   ],
   "source": [
    "int(True)"
   ]
  },
  {
   "cell_type": "code",
   "execution_count": 237,
   "id": "e093a2e5",
   "metadata": {},
   "outputs": [
    {
     "data": {
      "text/plain": [
       "0"
      ]
     },
     "execution_count": 237,
     "metadata": {},
     "output_type": "execute_result"
    }
   ],
   "source": [
    "int(False)"
   ]
  },
  {
   "cell_type": "markdown",
   "id": "9d8367e3",
   "metadata": {},
   "source": [
    "#### Perform arithmetic operations"
   ]
  },
  {
   "cell_type": "code",
   "execution_count": 236,
   "id": "a1e9b395",
   "metadata": {},
   "outputs": [
    {
     "data": {
      "text/plain": [
       "0"
      ]
     },
     "execution_count": 236,
     "metadata": {},
     "output_type": "execute_result"
    }
   ],
   "source": [
    "True - True"
   ]
  },
  {
   "cell_type": "code",
   "execution_count": 239,
   "id": "28c33fd7",
   "metadata": {},
   "outputs": [
    {
     "data": {
      "text/plain": [
       "0"
      ]
     },
     "execution_count": 239,
     "metadata": {},
     "output_type": "execute_result"
    }
   ],
   "source": [
    "True * False"
   ]
  },
  {
   "cell_type": "code",
   "execution_count": 229,
   "id": "2c579847",
   "metadata": {},
   "outputs": [
    {
     "data": {
      "text/plain": [
       "1"
      ]
     },
     "execution_count": 229,
     "metadata": {},
     "output_type": "execute_result"
    }
   ],
   "source": [
    "True * True"
   ]
  },
  {
   "cell_type": "markdown",
   "id": "d958e3d3",
   "metadata": {},
   "source": [
    "#### Conditionals with booleans"
   ]
  },
  {
   "cell_type": "code",
   "execution_count": 198,
   "id": "d0a1d092",
   "metadata": {},
   "outputs": [
    {
     "name": "stdout",
     "output_type": "stream",
     "text": [
      "True condition\n"
     ]
    }
   ],
   "source": [
    "if True:\n",
    "    print('True condition')"
   ]
  },
  {
   "cell_type": "code",
   "execution_count": 199,
   "id": "d9082533",
   "metadata": {},
   "outputs": [],
   "source": [
    "# only gets executed if true\n",
    "if False:\n",
    "    print('True condition')"
   ]
  },
  {
   "cell_type": "code",
   "execution_count": 169,
   "id": "d1b261a4",
   "metadata": {},
   "outputs": [
    {
     "name": "stdout",
     "output_type": "stream",
     "text": [
      "True condition\n"
     ]
    }
   ],
   "source": [
    "dept = 'cist'\n",
    "\n",
    "## pay attention to == sign --> testing for equality\n",
    "if dept == 'cist':\n",
    "    print('True condition')"
   ]
  },
  {
   "cell_type": "code",
   "execution_count": 170,
   "id": "89048518",
   "metadata": {},
   "outputs": [
    {
     "name": "stdout",
     "output_type": "stream",
     "text": [
      "cist\n"
     ]
    },
    {
     "name": "stderr",
     "output_type": "stream",
     "text": [
      "<>:1: SyntaxWarning: \"is\" with a literal. Did you mean \"==\"?\n",
      "<>:1: SyntaxWarning: \"is\" with a literal. Did you mean \"==\"?\n",
      "/var/folders/2q/js2tdw9164d_h2tr40zvrhj0_y74b9/T/ipykernel_16436/1339088702.py:1: SyntaxWarning: \"is\" with a literal. Did you mean \"==\"?\n",
      "  if dept is 'cist':\n"
     ]
    }
   ],
   "source": [
    "if dept is 'cist':\n",
    "    print('cist')"
   ]
  },
  {
   "cell_type": "code",
   "execution_count": 171,
   "id": "c142e020",
   "metadata": {},
   "outputs": [
    {
     "name": "stdout",
     "output_type": "stream",
     "text": [
      "Dept is CIST\n"
     ]
    }
   ],
   "source": [
    "## to execute others if condition fails\n",
    "if dept == 'cist':\n",
    "    print('Dept is CIST')\n",
    "else:\n",
    "    print('Dept is not CIST')"
   ]
  },
  {
   "cell_type": "code",
   "execution_count": null,
   "id": "516c0b8c",
   "metadata": {},
   "outputs": [],
   "source": []
  },
  {
   "cell_type": "code",
   "execution_count": null,
   "id": "324b1db2",
   "metadata": {},
   "outputs": [],
   "source": []
  },
  {
   "cell_type": "code",
   "execution_count": 204,
   "id": "e4092b6a",
   "metadata": {},
   "outputs": [
    {
     "name": "stdout",
     "output_type": "stream",
     "text": [
      "Dept is Business\n"
     ]
    }
   ],
   "source": [
    "## elifs for multiple possibilities\n",
    "\n",
    "dept = 'Business'\n",
    "\n",
    "if dept == 'cist':\n",
    "    print('Dept is CIST')\n",
    "elif dept == 'Business':\n",
    "    print('Dept is Business')\n",
    "else:\n",
    "    print('Dept is not CIST')"
   ]
  },
  {
   "cell_type": "code",
   "execution_count": null,
   "id": "99664bcb",
   "metadata": {},
   "outputs": [],
   "source": [
    "### Python doesn't have a switch case similar to other languages coz if, elif get the job done\n",
    "### Keep adding more elifs\n",
    "\n",
    "if dept == 'cist':\n",
    "    print('Dept is CIST')\n",
    "elif dept == 'Business':\n",
    "    print('Dept is Business')\n",
    "elif dept == 'Nursing':\n",
    "    print('Dept is Nursing')\n",
    "else:\n",
    "    print('Dept is not cist')"
   ]
  },
  {
   "cell_type": "code",
   "execution_count": 206,
   "id": "c3a59e48",
   "metadata": {},
   "outputs": [
    {
     "name": "stdout",
     "output_type": "stream",
     "text": [
      "Admin page\n"
     ]
    }
   ],
   "source": [
    "user = 'Admin'\n",
    "logged_in = True\n",
    "\n",
    "if user == 'Admin' and logged_in:\n",
    "    print('Admin page')\n",
    "else:\n",
    "    print('Auth failed')"
   ]
  },
  {
   "cell_type": "code",
   "execution_count": 209,
   "id": "93f8e39a",
   "metadata": {},
   "outputs": [
    {
     "name": "stdout",
     "output_type": "stream",
     "text": [
      "Admin page\n"
     ]
    }
   ],
   "source": [
    "## if only one or the other needs to be true\n",
    "user = 'Admin'\n",
    "logged_in = False\n",
    "\n",
    "if user == 'Admin' or logged_in:\n",
    "    print('Admin page')\n",
    "else:\n",
    "    print('Auth failed')"
   ]
  },
  {
   "cell_type": "markdown",
   "id": "62faf6bf",
   "metadata": {},
   "source": [
    "### Not reverses the boolean result\n",
    "#### The keyword not flips a Boolean value from True to False or vice versa"
   ]
  },
  {
   "cell_type": "code",
   "execution_count": 242,
   "id": "f9e37e52",
   "metadata": {},
   "outputs": [
    {
     "name": "stdout",
     "output_type": "stream",
     "text": [
      "False\n",
      "True\n"
     ]
    }
   ],
   "source": [
    "a = True\n",
    "b = False\n",
    "\n",
    "print(not a)\n",
    "print(not b)"
   ]
  },
  {
   "cell_type": "code",
   "execution_count": 210,
   "id": "26d11899",
   "metadata": {},
   "outputs": [
    {
     "name": "stdout",
     "output_type": "stream",
     "text": [
      "Please login\n"
     ]
    }
   ],
   "source": [
    "user = 'Admin'\n",
    "logged_in = False\n",
    "\n",
    "## here not logged in would evaluate to True\n",
    "if not logged_in:\n",
    "    print('Please login')\n",
    "else:\n",
    "    print('Welcome!')"
   ]
  },
  {
   "cell_type": "markdown",
   "id": "f6dbb105",
   "metadata": {},
   "source": [
    "### Object identity\n",
    "* = --> assignment operator\n",
    "* == --> checks for equality (same value, contents)\n",
    "* 'is' --> checking if the variables are pointing to the same object are and have same ID or whether they are the same objects in memory"
   ]
  },
  {
   "cell_type": "code",
   "execution_count": 2,
   "id": "c203f91f",
   "metadata": {},
   "outputs": [
    {
     "data": {
      "text/plain": [
       "True"
      ]
     },
     "execution_count": 2,
     "metadata": {},
     "output_type": "execute_result"
    }
   ],
   "source": [
    "### 2 objects can be equal but not be the same object in memory\n",
    "a = [1,2,3]\n",
    "b = [1,2,3]\n",
    "\n",
    "# a == b would return true coz same objects\n",
    "a == b"
   ]
  },
  {
   "cell_type": "code",
   "execution_count": 3,
   "id": "69b3aa16",
   "metadata": {},
   "outputs": [
    {
     "data": {
      "text/plain": [
       "False"
      ]
     },
     "execution_count": 3,
     "metadata": {},
     "output_type": "execute_result"
    }
   ],
   "source": [
    "# False coz 2 different objects in memory created when initialized\n",
    "a is b"
   ]
  },
  {
   "cell_type": "code",
   "execution_count": 4,
   "id": "bdccad73",
   "metadata": {},
   "outputs": [
    {
     "name": "stdout",
     "output_type": "stream",
     "text": [
      "4362156992\n",
      "4366544576\n"
     ]
    }
   ],
   "source": [
    "print(id(a))\n",
    "print(id(b))"
   ]
  },
  {
   "cell_type": "code",
   "execution_count": 5,
   "id": "8ea8f955",
   "metadata": {},
   "outputs": [
    {
     "name": "stdout",
     "output_type": "stream",
     "text": [
      "4362156992\n",
      "4362156992\n",
      "True\n",
      "True\n"
     ]
    }
   ],
   "source": [
    "b = a\n",
    "print(id(a))\n",
    "print(id(b))\n",
    "print(a is b)\n",
    "# coz both are same objects in memory\n",
    "# equality would also be same\n",
    "print(a == b)"
   ]
  },
  {
   "cell_type": "markdown",
   "id": "14beb496",
   "metadata": {},
   "source": [
    "#### None"
   ]
  },
  {
   "cell_type": "code",
   "execution_count": 243,
   "id": "f04f1dcb",
   "metadata": {},
   "outputs": [
    {
     "data": {
      "text/plain": [
       "True"
      ]
     },
     "execution_count": 243,
     "metadata": {},
     "output_type": "execute_result"
    }
   ],
   "source": [
    "a = None\n",
    "a is None"
   ]
  },
  {
   "cell_type": "code",
   "execution_count": 244,
   "id": "ec11f85a",
   "metadata": {},
   "outputs": [
    {
     "data": {
      "text/plain": [
       "True"
      ]
     },
     "execution_count": 244,
     "metadata": {},
     "output_type": "execute_result"
    }
   ],
   "source": [
    "b = 5\n",
    "b is not None"
   ]
  },
  {
   "cell_type": "markdown",
   "id": "204d3764",
   "metadata": {},
   "source": [
    "### So all the above conditionals based on what python evaluates to true or false\n",
    "### So what does python evaluate to true or false?"
   ]
  },
  {
   "cell_type": "code",
   "execution_count": 217,
   "id": "0c768301",
   "metadata": {},
   "outputs": [
    {
     "name": "stdout",
     "output_type": "stream",
     "text": [
      "Result is False\n"
     ]
    }
   ],
   "source": [
    "condition = False\n",
    "\n",
    "if condition:\n",
    "    print('Result is True')\n",
    "else:\n",
    "    print('Result is False')"
   ]
  },
  {
   "cell_type": "code",
   "execution_count": 218,
   "id": "3a2b8bf1",
   "metadata": {},
   "outputs": [
    {
     "name": "stdout",
     "output_type": "stream",
     "text": [
      "Result is False\n"
     ]
    }
   ],
   "source": [
    "condition = None\n",
    "\n",
    "if condition:\n",
    "    print('Result is True')\n",
    "else:\n",
    "    print('Result is False')"
   ]
  },
  {
   "cell_type": "code",
   "execution_count": 219,
   "id": "7560c9ac",
   "metadata": {},
   "outputs": [
    {
     "name": "stdout",
     "output_type": "stream",
     "text": [
      "Result is False\n"
     ]
    }
   ],
   "source": [
    "condition = 0\n",
    "\n",
    "if condition:\n",
    "    print('Result is True')\n",
    "else:\n",
    "    print('Result is False')"
   ]
  },
  {
   "cell_type": "code",
   "execution_count": 221,
   "id": "18fb80f6",
   "metadata": {},
   "outputs": [
    {
     "name": "stdout",
     "output_type": "stream",
     "text": [
      "Result is True\n"
     ]
    }
   ],
   "source": [
    "# so 0 to false and any other number true\n",
    "condition = 10\n",
    "\n",
    "if condition:\n",
    "    print('Result is True')\n",
    "else:\n",
    "    print('Result is False')"
   ]
  },
  {
   "cell_type": "code",
   "execution_count": 222,
   "id": "47b371c6",
   "metadata": {},
   "outputs": [
    {
     "name": "stdout",
     "output_type": "stream",
     "text": [
      "Result is False\n"
     ]
    }
   ],
   "source": [
    "# any empty sequence would evaluate to false\n",
    "condition = []\n",
    "\n",
    "if condition:\n",
    "    print('Result is True')\n",
    "else:\n",
    "    print('Result is False')"
   ]
  },
  {
   "cell_type": "code",
   "execution_count": 223,
   "id": "7bff457a",
   "metadata": {},
   "outputs": [
    {
     "name": "stdout",
     "output_type": "stream",
     "text": [
      "Result is False\n"
     ]
    }
   ],
   "source": [
    "condition = ''\n",
    "\n",
    "if condition:\n",
    "    print('Result is True')\n",
    "else:\n",
    "    print('Result is False')"
   ]
  },
  {
   "cell_type": "code",
   "execution_count": 225,
   "id": "fa8d3fe6",
   "metadata": {},
   "outputs": [
    {
     "name": "stdout",
     "output_type": "stream",
     "text": [
      "Result is False\n"
     ]
    }
   ],
   "source": [
    "condition = {}\n",
    "\n",
    "if condition:\n",
    "    print('Result is True')\n",
    "else:\n",
    "    print('Result is False')"
   ]
  },
  {
   "cell_type": "code",
   "execution_count": 226,
   "id": "a286eaca",
   "metadata": {},
   "outputs": [],
   "source": [
    "### The above important in some functions when you want to do some operations based on if \n",
    "### some particualr list or sequence is empty or not\n",
    "### Ex: if there are any students who failed in the class, need to take some action\n",
    "### Say a function is supposed to return some value. Don't have to call any particular method,\n",
    "### just need to boolean check that sequence"
   ]
  },
  {
   "cell_type": "code",
   "execution_count": null,
   "id": "431ee185",
   "metadata": {},
   "outputs": [],
   "source": [
    "### So everything else should evaluate to True"
   ]
  },
  {
   "cell_type": "code",
   "execution_count": 227,
   "id": "aa38c04e",
   "metadata": {},
   "outputs": [
    {
     "name": "stdout",
     "output_type": "stream",
     "text": [
      "Result is True\n"
     ]
    }
   ],
   "source": [
    "condition = 'test'\n",
    "\n",
    "if condition:\n",
    "    print('Result is True')\n",
    "else:\n",
    "    print('Result is False')"
   ]
  },
  {
   "cell_type": "code",
   "execution_count": 159,
   "id": "f62179ee",
   "metadata": {},
   "outputs": [],
   "source": [
    "### Have an idea of what evaluates to true and what to false ###"
   ]
  },
  {
   "cell_type": "markdown",
   "id": "7672155a",
   "metadata": {},
   "source": [
    "## Built-in Data Structures\n",
    "### Tuples, lists, dictionaries, sets"
   ]
  },
  {
   "cell_type": "markdown",
   "id": "47b3026a",
   "metadata": {},
   "source": [
    "#### Help you to work with sequential data. Set - unordered collection of unique items"
   ]
  },
  {
   "cell_type": "markdown",
   "id": "8fc12af2",
   "metadata": {},
   "source": [
    "## LISTS"
   ]
  },
  {
   "cell_type": "markdown",
   "id": "43a1c414",
   "metadata": {},
   "source": [
    "* Variable length \n",
    "* Contents can be modified in place\n",
    "* Mutable"
   ]
  },
  {
   "cell_type": "code",
   "execution_count": 161,
   "id": "d85e595e",
   "metadata": {},
   "outputs": [
    {
     "data": {
      "text/plain": [
       "['John',\n",
       " 'Amy',\n",
       " 'Mike',\n",
       " 'Ron',\n",
       " 'Katie',\n",
       " 'Alice',\n",
       " 'Hanna',\n",
       " 'Jordan',\n",
       " 'Andy',\n",
       " 'Sam']"
      ]
     },
     "execution_count": 161,
     "metadata": {},
     "output_type": "execute_result"
    }
   ],
   "source": [
    "employees = ['John', 'Amy', 'Mike', 'Ron', 'Katie', 'Alice', 'Hanna', 'Jordan', 'Andy', 'Sam']\n",
    "employees"
   ]
  },
  {
   "cell_type": "code",
   "execution_count": 264,
   "id": "d533c32c",
   "metadata": {},
   "outputs": [
    {
     "data": {
      "text/plain": [
       "10"
      ]
     },
     "execution_count": 264,
     "metadata": {},
     "output_type": "execute_result"
    }
   ],
   "source": [
    "len(employees)"
   ]
  },
  {
   "cell_type": "code",
   "execution_count": 265,
   "id": "3029dbc2",
   "metadata": {},
   "outputs": [
    {
     "data": {
      "text/plain": [
       "'Katie'"
      ]
     },
     "execution_count": 265,
     "metadata": {},
     "output_type": "execute_result"
    }
   ],
   "source": [
    "## access individual values based on location/index\n",
    "employees[4]"
   ]
  },
  {
   "cell_type": "code",
   "execution_count": 266,
   "id": "6a5d7dd3",
   "metadata": {},
   "outputs": [
    {
     "data": {
      "text/plain": [
       "'John'"
      ]
     },
     "execution_count": 266,
     "metadata": {},
     "output_type": "execute_result"
    }
   ],
   "source": [
    "employees[0]"
   ]
  },
  {
   "cell_type": "code",
   "execution_count": 267,
   "id": "ceb4aaf9",
   "metadata": {},
   "outputs": [
    {
     "data": {
      "text/plain": [
       "'Sam'"
      ]
     },
     "execution_count": 267,
     "metadata": {},
     "output_type": "execute_result"
    }
   ],
   "source": [
    "# convenient to access using last index coz then don't have to worry about len of list \n",
    "# even if additions or deletions\n",
    "employees[-1]"
   ]
  },
  {
   "cell_type": "code",
   "execution_count": 268,
   "id": "2de559b4",
   "metadata": {},
   "outputs": [
    {
     "ename": "IndexError",
     "evalue": "list index out of range",
     "output_type": "error",
     "traceback": [
      "\u001b[0;31m---------------------------------------------------------------------------\u001b[0m",
      "\u001b[0;31mIndexError\u001b[0m                                Traceback (most recent call last)",
      "Cell \u001b[0;32mIn[268], line 1\u001b[0m\n\u001b[0;32m----> 1\u001b[0m \u001b[43memployees\u001b[49m\u001b[43m[\u001b[49m\u001b[38;5;241;43m10\u001b[39;49m\u001b[43m]\u001b[49m\n",
      "\u001b[0;31mIndexError\u001b[0m: list index out of range"
     ]
    }
   ],
   "source": [
    "employees[10]"
   ]
  },
  {
   "cell_type": "markdown",
   "id": "ec7dfa11",
   "metadata": {},
   "source": [
    "### Slicing\n",
    "* to access/extract certain elements of a string or list\n",
    "* extremely useful for \n",
    "    * stripping out certain values from lists\n",
    "    * getting a substring of a characters from a string"
   ]
  },
  {
   "cell_type": "code",
   "execution_count": 269,
   "id": "3b217c89",
   "metadata": {},
   "outputs": [
    {
     "data": {
      "text/plain": [
       "['John', 'Amy']"
      ]
     },
     "execution_count": 269,
     "metadata": {},
     "output_type": "execute_result"
    }
   ],
   "source": [
    "# range of values\n",
    "employees[0:2]"
   ]
  },
  {
   "cell_type": "code",
   "execution_count": 270,
   "id": "799e348f",
   "metadata": {},
   "outputs": [
    {
     "data": {
      "text/plain": [
       "['Hanna', 'Jordan']"
      ]
     },
     "execution_count": 270,
     "metadata": {},
     "output_type": "execute_result"
    }
   ],
   "source": [
    "employees[-4:-2]"
   ]
  },
  {
   "cell_type": "code",
   "execution_count": 271,
   "id": "d234a35f",
   "metadata": {},
   "outputs": [
    {
     "data": {
      "text/plain": [
       "['John', 'Amy']"
      ]
     },
     "execution_count": 271,
     "metadata": {},
     "output_type": "execute_result"
    }
   ],
   "source": [
    "employees[:2]"
   ]
  },
  {
   "cell_type": "code",
   "execution_count": 162,
   "id": "e3145bf7",
   "metadata": {},
   "outputs": [
    {
     "data": {
      "text/plain": [
       "['Mike', 'Ron', 'Katie', 'Alice']"
      ]
     },
     "execution_count": 162,
     "metadata": {},
     "output_type": "execute_result"
    }
   ],
   "source": [
    "# to get until the last element - either get the len, then +1\n",
    "## sya you want to get till Alice so give end as 6\n",
    "employees[2:6]"
   ]
  },
  {
   "cell_type": "code",
   "execution_count": 273,
   "id": "e033b9c7",
   "metadata": {},
   "outputs": [
    {
     "data": {
      "text/plain": [
       "['Mike', 'Ron', 'Katie', 'Alice', 'Hanna', 'Jordan', 'Andy', 'Sam']"
      ]
     },
     "execution_count": 273,
     "metadata": {},
     "output_type": "execute_result"
    }
   ],
   "source": [
    "# or just leave ending index empty so don't have to worry about length\n",
    "employees[2:]"
   ]
  },
  {
   "cell_type": "code",
   "execution_count": 274,
   "id": "b0ea3efc",
   "metadata": {},
   "outputs": [
    {
     "data": {
      "text/plain": [
       "['John', 'Amy', 'Mike']"
      ]
     },
     "execution_count": 274,
     "metadata": {},
     "output_type": "execute_result"
    }
   ],
   "source": [
    "# from beginning as well\n",
    "employees[:3]"
   ]
  },
  {
   "cell_type": "code",
   "execution_count": 163,
   "id": "648d46e8",
   "metadata": {},
   "outputs": [
    {
     "data": {
      "text/plain": [
       "['Mike', 'Katie', 'Hanna', 'Andy']"
      ]
     },
     "execution_count": 163,
     "metadata": {},
     "output_type": "execute_result"
    }
   ],
   "source": [
    "# step allows to skip a certain number of values\n",
    "# default step is 1 so same is not even specifying a step\n",
    "## L[start:stop:step]\n",
    "employees[2:-1:2]"
   ]
  },
  {
   "cell_type": "code",
   "execution_count": null,
   "id": "150eb4d0",
   "metadata": {},
   "outputs": [],
   "source": [
    "# negative step - does in reverse"
   ]
  },
  {
   "cell_type": "code",
   "execution_count": 280,
   "id": "71f9f872",
   "metadata": {},
   "outputs": [
    {
     "data": {
      "text/plain": [
       "['Sam', 'Andy', 'Jordan', 'Hanna', 'Alice', 'Katie', 'Ron']"
      ]
     },
     "execution_count": 280,
     "metadata": {},
     "output_type": "execute_result"
    }
   ],
   "source": [
    "employees[-1:2:-1]"
   ]
  },
  {
   "cell_type": "code",
   "execution_count": 281,
   "id": "5e72c7e0",
   "metadata": {},
   "outputs": [
    {
     "data": {
      "text/plain": [
       "['Sam', 'Jordan', 'Alice', 'Ron']"
      ]
     },
     "execution_count": 281,
     "metadata": {},
     "output_type": "execute_result"
    }
   ],
   "source": [
    "employees[-1:2:-2]"
   ]
  },
  {
   "cell_type": "code",
   "execution_count": 164,
   "id": "0aee9dd9",
   "metadata": {},
   "outputs": [
    {
     "data": {
      "text/plain": [
       "['Sam',\n",
       " 'Andy',\n",
       " 'Jordan',\n",
       " 'Hanna',\n",
       " 'Alice',\n",
       " 'Katie',\n",
       " 'Ron',\n",
       " 'Mike',\n",
       " 'Amy',\n",
       " 'John']"
      ]
     },
     "execution_count": 164,
     "metadata": {},
     "output_type": "execute_result"
    }
   ],
   "source": [
    "# entire list in reverse\n",
    "employees[::-1]"
   ]
  },
  {
   "cell_type": "code",
   "execution_count": 165,
   "id": "f6668d9e",
   "metadata": {},
   "outputs": [
    {
     "data": {
      "text/plain": [
       "[]"
      ]
     },
     "execution_count": 165,
     "metadata": {},
     "output_type": "execute_result"
    }
   ],
   "source": [
    "# Empty coz doesn't have anywhere to go beyond 3rd element coz its index is the starting point\n",
    "employees[2:-1:-1]"
   ]
  },
  {
   "cell_type": "markdown",
   "id": "ab5ee039",
   "metadata": {},
   "source": [
    "### Slicing strings"
   ]
  },
  {
   "cell_type": "code",
   "execution_count": 172,
   "id": "6376b4f9",
   "metadata": {},
   "outputs": [
    {
     "data": {
      "text/plain": [
       "'https://www.pitt.edu'"
      ]
     },
     "execution_count": 172,
     "metadata": {},
     "output_type": "execute_result"
    }
   ],
   "source": [
    "url_ex = 'https://www.pitt.edu'\n",
    "url_ex"
   ]
  },
  {
   "cell_type": "code",
   "execution_count": 173,
   "id": "f084ca5c",
   "metadata": {},
   "outputs": [
    {
     "data": {
      "text/plain": [
       "8"
      ]
     },
     "execution_count": 173,
     "metadata": {},
     "output_type": "execute_result"
    }
   ],
   "source": [
    "url_ex.find('w')"
   ]
  },
  {
   "cell_type": "code",
   "execution_count": 287,
   "id": "a27ebba9",
   "metadata": {},
   "outputs": [
    {
     "name": "stdout",
     "output_type": "stream",
     "text": [
      ".edu\n"
     ]
    }
   ],
   "source": [
    "url_ex[-4:]"
   ]
  },
  {
   "cell_type": "code",
   "execution_count": 290,
   "id": "8a85bb69",
   "metadata": {},
   "outputs": [
    {
     "data": {
      "text/plain": [
       "'www.pitt.edu'"
      ]
     },
     "execution_count": 290,
     "metadata": {},
     "output_type": "execute_result"
    }
   ],
   "source": [
    "# print url without https\n",
    "url_ex[8:]"
   ]
  },
  {
   "cell_type": "code",
   "execution_count": 292,
   "id": "92fe840a",
   "metadata": {},
   "outputs": [
    {
     "data": {
      "text/plain": [
       "11"
      ]
     },
     "execution_count": 292,
     "metadata": {},
     "output_type": "execute_result"
    }
   ],
   "source": [
    "url_ex.find('.p')"
   ]
  },
  {
   "cell_type": "code",
   "execution_count": 294,
   "id": "6843faad",
   "metadata": {},
   "outputs": [
    {
     "data": {
      "text/plain": [
       "'pitt'"
      ]
     },
     "execution_count": 294,
     "metadata": {},
     "output_type": "execute_result"
    }
   ],
   "source": [
    "url_ex[12:-4]"
   ]
  },
  {
   "cell_type": "code",
   "execution_count": 36,
   "id": "870a32e7",
   "metadata": {},
   "outputs": [
    {
     "data": {
      "text/plain": [
       "14"
      ]
     },
     "execution_count": 36,
     "metadata": {},
     "output_type": "execute_result"
    }
   ],
   "source": [
    "course_name = 'Data Analytics'\n",
    "len(course_name)"
   ]
  },
  {
   "cell_type": "code",
   "execution_count": 37,
   "id": "de7ec5aa",
   "metadata": {},
   "outputs": [
    {
     "data": {
      "text/plain": [
       "'t'"
      ]
     },
     "execution_count": 37,
     "metadata": {},
     "output_type": "execute_result"
    }
   ],
   "source": [
    "course_name[10]"
   ]
  },
  {
   "cell_type": "code",
   "execution_count": 38,
   "id": "872ccfc6",
   "metadata": {},
   "outputs": [
    {
     "ename": "IndexError",
     "evalue": "string index out of range",
     "output_type": "error",
     "traceback": [
      "\u001b[0;31m---------------------------------------------------------------------------\u001b[0m",
      "\u001b[0;31mIndexError\u001b[0m                                Traceback (most recent call last)",
      "Cell \u001b[0;32mIn[38], line 1\u001b[0m\n\u001b[0;32m----> 1\u001b[0m \u001b[43mcourse_name\u001b[49m\u001b[43m[\u001b[49m\u001b[38;5;241;43m15\u001b[39;49m\u001b[43m]\u001b[49m\n",
      "\u001b[0;31mIndexError\u001b[0m: string index out of range"
     ]
    }
   ],
   "source": [
    "course_name[15]"
   ]
  },
  {
   "cell_type": "code",
   "execution_count": 39,
   "id": "07e4de60",
   "metadata": {},
   "outputs": [
    {
     "data": {
      "text/plain": [
       "'Data '"
      ]
     },
     "execution_count": 39,
     "metadata": {},
     "output_type": "execute_result"
    }
   ],
   "source": [
    "# 1st index is inclusive where as the second one is not\n",
    "course_name[0:5]"
   ]
  },
  {
   "cell_type": "code",
   "execution_count": 40,
   "id": "24773463",
   "metadata": {},
   "outputs": [
    {
     "data": {
      "text/plain": [
       "'Data '"
      ]
     },
     "execution_count": 40,
     "metadata": {},
     "output_type": "execute_result"
    }
   ],
   "source": [
    "course_name[:5]"
   ]
  },
  {
   "cell_type": "code",
   "execution_count": 41,
   "id": "623bd11e",
   "metadata": {},
   "outputs": [
    {
     "data": {
      "text/plain": [
       "'Analytics'"
      ]
     },
     "execution_count": 41,
     "metadata": {},
     "output_type": "execute_result"
    }
   ],
   "source": [
    "course_name[5:]"
   ]
  },
  {
   "cell_type": "markdown",
   "id": "989d469a",
   "metadata": {},
   "source": [
    "### Modifying Lists"
   ]
  },
  {
   "cell_type": "code",
   "execution_count": 295,
   "id": "f1943070",
   "metadata": {},
   "outputs": [
    {
     "data": {
      "text/plain": [
       "['John',\n",
       " 'Amy',\n",
       " 'Mike',\n",
       " 'Ron',\n",
       " 'Katie',\n",
       " 'Alice',\n",
       " 'Hanna',\n",
       " 'Jordan',\n",
       " 'Andy',\n",
       " 'Sam',\n",
       " 'Noah']"
      ]
     },
     "execution_count": 295,
     "metadata": {},
     "output_type": "execute_result"
    }
   ],
   "source": [
    "#### append - add an item to the list\n",
    "employees.append('Noah')\n",
    "employees"
   ]
  },
  {
   "cell_type": "code",
   "execution_count": 300,
   "id": "90609764",
   "metadata": {},
   "outputs": [],
   "source": [
    "### append to specific location\n",
    "employees.insert(0, 'Claire')\n",
    "# With insert, append - gets added multiple times for each execution"
   ]
  },
  {
   "cell_type": "code",
   "execution_count": 301,
   "id": "d0ef4c94",
   "metadata": {},
   "outputs": [
    {
     "data": {
      "text/plain": [
       "['Claire',\n",
       " 'Claire',\n",
       " 'Claire',\n",
       " 'Claire',\n",
       " 'Claire',\n",
       " 'John',\n",
       " 'Amy',\n",
       " 'Mike',\n",
       " 'Ron',\n",
       " 'Katie',\n",
       " 'Alice',\n",
       " 'Hanna',\n",
       " 'Jordan',\n",
       " 'Andy',\n",
       " 'Sam',\n",
       " 'Noah']"
      ]
     },
     "execution_count": 301,
     "metadata": {},
     "output_type": "execute_result"
    }
   ],
   "source": [
    "employees"
   ]
  },
  {
   "cell_type": "code",
   "execution_count": 166,
   "id": "645cda3c",
   "metadata": {},
   "outputs": [
    {
     "data": {
      "text/plain": [
       "'John'"
      ]
     },
     "execution_count": 166,
     "metadata": {},
     "output_type": "execute_result"
    }
   ],
   "source": [
    "# pop returns the element that is removed\n",
    "employees.pop(0)"
   ]
  },
  {
   "cell_type": "code",
   "execution_count": 167,
   "id": "2eb81cf8",
   "metadata": {},
   "outputs": [
    {
     "data": {
      "text/plain": [
       "['Amy', 'Mike', 'Ron', 'Katie', 'Alice', 'Hanna', 'Jordan', 'Andy', 'Sam']"
      ]
     },
     "execution_count": 167,
     "metadata": {},
     "output_type": "execute_result"
    }
   ],
   "source": [
    "employees"
   ]
  },
  {
   "cell_type": "code",
   "execution_count": 307,
   "id": "a4570055",
   "metadata": {},
   "outputs": [
    {
     "data": {
      "text/plain": [
       "[['Amanda', 'Joseph', 'Brandon', 'Katie'],\n",
       " 'Claire',\n",
       " 'John',\n",
       " 'Amy',\n",
       " 'Mike',\n",
       " 'Ron',\n",
       " 'Katie',\n",
       " 'Alice',\n",
       " 'Hanna',\n",
       " 'Jordan',\n",
       " 'Andy',\n",
       " 'Sam',\n",
       " 'Noah']"
      ]
     },
     "execution_count": 307,
     "metadata": {},
     "output_type": "execute_result"
    }
   ],
   "source": [
    "### when we have multiple values to add\n",
    "new_employees = ['Amanda', 'Joseph', 'Brandon', 'Katie']\n",
    "\n",
    "# if we use insert - added as a list\n",
    "employees.insert(0, new_employees)\n",
    "employees"
   ]
  },
  {
   "cell_type": "markdown",
   "id": "723b31d6",
   "metadata": {},
   "source": [
    "############\n",
    "#### insert is computationally expensive compared with append, \n",
    "#### because references to subsequent elements have to be shifted \n",
    "#### internally to make room for the new element. If you need to insert\n",
    "#### elements at both the beginning and end of a sequence, you may wish\n",
    "#### to explore collections.deque, a double-ended queue, which is \n",
    "#### optimized for this purpose and found in the Python Standard Library.\n",
    "############"
   ]
  },
  {
   "cell_type": "code",
   "execution_count": 308,
   "id": "8950ab89",
   "metadata": {},
   "outputs": [
    {
     "data": {
      "text/plain": [
       "['Amanda', 'Joseph', 'Brandon', 'Katie']"
      ]
     },
     "execution_count": 308,
     "metadata": {},
     "output_type": "execute_result"
    }
   ],
   "source": [
    "## added the entire list but not the individual values.  \n",
    "## Can have list inside a list but not what we wanted\n",
    "employees[0]"
   ]
  },
  {
   "cell_type": "code",
   "execution_count": 309,
   "id": "566ff8be",
   "metadata": {},
   "outputs": [],
   "source": [
    "# So use extend method\n",
    "employees.extend(new_employees)"
   ]
  },
  {
   "cell_type": "code",
   "execution_count": 310,
   "id": "a3f24e23",
   "metadata": {},
   "outputs": [
    {
     "data": {
      "text/plain": [
       "[['Amanda', 'Joseph', 'Brandon', 'Katie'],\n",
       " 'Claire',\n",
       " 'John',\n",
       " 'Amy',\n",
       " 'Mike',\n",
       " 'Ron',\n",
       " 'Katie',\n",
       " 'Alice',\n",
       " 'Hanna',\n",
       " 'Jordan',\n",
       " 'Andy',\n",
       " 'Sam',\n",
       " 'Noah',\n",
       " 'Amanda',\n",
       " 'Joseph',\n",
       " 'Brandon',\n",
       " 'Katie']"
      ]
     },
     "execution_count": 310,
     "metadata": {},
     "output_type": "execute_result"
    }
   ],
   "source": [
    "employees # can see added to the end"
   ]
  },
  {
   "cell_type": "code",
   "execution_count": 311,
   "id": "0ba96304",
   "metadata": {},
   "outputs": [
    {
     "data": {
      "text/plain": [
       "['Amanda', 'Joseph', 'Brandon', 'Katie']"
      ]
     },
     "execution_count": 311,
     "metadata": {},
     "output_type": "execute_result"
    }
   ],
   "source": [
    "employees.pop(0)"
   ]
  },
  {
   "cell_type": "code",
   "execution_count": 312,
   "id": "03f4d401",
   "metadata": {},
   "outputs": [
    {
     "data": {
      "text/plain": [
       "['Claire',\n",
       " 'John',\n",
       " 'Amy',\n",
       " 'Mike',\n",
       " 'Ron',\n",
       " 'Katie',\n",
       " 'Alice',\n",
       " 'Hanna',\n",
       " 'Jordan',\n",
       " 'Andy',\n",
       " 'Sam',\n",
       " 'Noah',\n",
       " 'Amanda',\n",
       " 'Joseph',\n",
       " 'Brandon',\n",
       " 'Katie']"
      ]
     },
     "execution_count": 312,
     "metadata": {},
     "output_type": "execute_result"
    }
   ],
   "source": [
    "employees"
   ]
  },
  {
   "cell_type": "code",
   "execution_count": 313,
   "id": "6b4bce16",
   "metadata": {},
   "outputs": [],
   "source": [
    "employees.append(new_employees)"
   ]
  },
  {
   "cell_type": "code",
   "execution_count": 314,
   "id": "826f3a9b",
   "metadata": {},
   "outputs": [
    {
     "data": {
      "text/plain": [
       "['Claire',\n",
       " 'John',\n",
       " 'Amy',\n",
       " 'Mike',\n",
       " 'Ron',\n",
       " 'Katie',\n",
       " 'Alice',\n",
       " 'Hanna',\n",
       " 'Jordan',\n",
       " 'Andy',\n",
       " 'Sam',\n",
       " 'Noah',\n",
       " 'Amanda',\n",
       " 'Joseph',\n",
       " 'Brandon',\n",
       " 'Katie',\n",
       " ['Amanda', 'Joseph', 'Brandon', 'Katie']]"
      ]
     },
     "execution_count": 314,
     "metadata": {},
     "output_type": "execute_result"
    }
   ],
   "source": [
    "employees"
   ]
  },
  {
   "cell_type": "code",
   "execution_count": 315,
   "id": "9a98fe55",
   "metadata": {},
   "outputs": [
    {
     "data": {
      "text/plain": [
       "['Amanda', 'Joseph', 'Brandon', 'Katie']"
      ]
     },
     "execution_count": 315,
     "metadata": {},
     "output_type": "execute_result"
    }
   ],
   "source": [
    "employees.pop(-1)"
   ]
  },
  {
   "cell_type": "code",
   "execution_count": 316,
   "id": "9cd8d539",
   "metadata": {},
   "outputs": [
    {
     "data": {
      "text/plain": [
       "['Claire',\n",
       " 'John',\n",
       " 'Amy',\n",
       " 'Mike',\n",
       " 'Ron',\n",
       " 'Katie',\n",
       " 'Alice',\n",
       " 'Hanna',\n",
       " 'Jordan',\n",
       " 'Andy',\n",
       " 'Sam',\n",
       " 'Noah',\n",
       " 'Amanda',\n",
       " 'Joseph',\n",
       " 'Brandon',\n",
       " 'Katie']"
      ]
     },
     "execution_count": 316,
     "metadata": {},
     "output_type": "execute_result"
    }
   ],
   "source": [
    "employees"
   ]
  },
  {
   "cell_type": "code",
   "execution_count": 319,
   "id": "df5f1be7",
   "metadata": {},
   "outputs": [
    {
     "data": {
      "text/plain": [
       "'Katie'"
      ]
     },
     "execution_count": 319,
     "metadata": {},
     "output_type": "execute_result"
    }
   ],
   "source": [
    "employees.pop(4)"
   ]
  },
  {
   "cell_type": "code",
   "execution_count": 320,
   "id": "74920c1f",
   "metadata": {},
   "outputs": [
    {
     "data": {
      "text/plain": [
       "['Claire',\n",
       " 'John',\n",
       " 'Amy',\n",
       " 'Mike',\n",
       " 'Alice',\n",
       " 'Hanna',\n",
       " 'Jordan',\n",
       " 'Andy',\n",
       " 'Sam',\n",
       " 'Noah',\n",
       " 'Amanda',\n",
       " 'Joseph',\n",
       " 'Brandon',\n",
       " 'Katie']"
      ]
     },
     "execution_count": 320,
     "metadata": {},
     "output_type": "execute_result"
    }
   ],
   "source": [
    "employees"
   ]
  },
  {
   "cell_type": "code",
   "execution_count": 321,
   "id": "df65298c",
   "metadata": {},
   "outputs": [
    {
     "data": {
      "text/plain": [
       "'Alice'"
      ]
     },
     "execution_count": 321,
     "metadata": {},
     "output_type": "execute_result"
    }
   ],
   "source": [
    "employees.pop(4)"
   ]
  },
  {
   "cell_type": "code",
   "execution_count": 317,
   "id": "05a8d4b4",
   "metadata": {},
   "outputs": [],
   "source": [
    "# Elements can be removed by value with remove, which locates the first\n",
    "# such value and removes it from the list\n",
    "employees.remove('Ron')"
   ]
  },
  {
   "cell_type": "code",
   "execution_count": 318,
   "id": "0bbce912",
   "metadata": {},
   "outputs": [
    {
     "data": {
      "text/plain": [
       "['Claire',\n",
       " 'John',\n",
       " 'Amy',\n",
       " 'Mike',\n",
       " 'Katie',\n",
       " 'Alice',\n",
       " 'Hanna',\n",
       " 'Jordan',\n",
       " 'Andy',\n",
       " 'Sam',\n",
       " 'Noah',\n",
       " 'Amanda',\n",
       " 'Joseph',\n",
       " 'Brandon',\n",
       " 'Katie']"
      ]
     },
     "execution_count": 318,
     "metadata": {},
     "output_type": "execute_result"
    }
   ],
   "source": [
    "employees"
   ]
  },
  {
   "cell_type": "code",
   "execution_count": null,
   "id": "cd652705",
   "metadata": {},
   "outputs": [],
   "source": [
    "## Pop returns the value - so can use it with stacks and queues to \n",
    "## remove elements until it is empty"
   ]
  },
  {
   "cell_type": "markdown",
   "id": "ead0c2f1",
   "metadata": {},
   "source": [
    "### Sorting Lists"
   ]
  },
  {
   "cell_type": "code",
   "execution_count": 324,
   "id": "53eab1ea",
   "metadata": {},
   "outputs": [
    {
     "data": {
      "text/plain": [
       "['Katie',\n",
       " 'Brandon',\n",
       " 'Joseph',\n",
       " 'Amanda',\n",
       " 'Noah',\n",
       " 'Sam',\n",
       " 'Andy',\n",
       " 'Jordan',\n",
       " 'Hanna',\n",
       " 'Mike',\n",
       " 'Amy',\n",
       " 'John',\n",
       " 'Claire']"
      ]
     },
     "execution_count": 324,
     "metadata": {},
     "output_type": "execute_result"
    }
   ],
   "source": [
    "employees.reverse()\n",
    "employees"
   ]
  },
  {
   "cell_type": "code",
   "execution_count": 325,
   "id": "aa8d3302",
   "metadata": {},
   "outputs": [
    {
     "data": {
      "text/plain": [
       "['Amanda',\n",
       " 'Amy',\n",
       " 'Andy',\n",
       " 'Brandon',\n",
       " 'Claire',\n",
       " 'Hanna',\n",
       " 'John',\n",
       " 'Jordan',\n",
       " 'Joseph',\n",
       " 'Katie',\n",
       " 'Mike',\n",
       " 'Noah',\n",
       " 'Sam']"
      ]
     },
     "execution_count": 325,
     "metadata": {},
     "output_type": "execute_result"
    }
   ],
   "source": [
    "employees.sort()\n",
    "employees"
   ]
  },
  {
   "cell_type": "code",
   "execution_count": 326,
   "id": "2b3a5b53",
   "metadata": {},
   "outputs": [
    {
     "data": {
      "text/plain": [
       "[2, 3, 6, 34, 90]"
      ]
     },
     "execution_count": 326,
     "metadata": {},
     "output_type": "execute_result"
    }
   ],
   "source": [
    "## numbers sorted in ascending order\n",
    "num_list = [34, 6, 2, 90, 3]\n",
    "num_list.sort()\n",
    "num_list"
   ]
  },
  {
   "cell_type": "code",
   "execution_count": 328,
   "id": "19807387",
   "metadata": {},
   "outputs": [
    {
     "name": "stdout",
     "output_type": "stream",
     "text": [
      "['Sam', 'Noah', 'Mike', 'Katie', 'Joseph', 'Jordan', 'John', 'Hanna', 'Claire', 'Brandon', 'Andy', 'Amy', 'Amanda']\n",
      "[90, 34, 6, 3, 2]\n"
     ]
    }
   ],
   "source": [
    "## to sort in descending --> could use sort then use reverse but better way below\n",
    "employees.sort(reverse=True)\n",
    "num_list.sort(reverse=True)\n",
    "\n",
    "print(employees)\n",
    "print(num_list)"
   ]
  },
  {
   "cell_type": "code",
   "execution_count": 329,
   "id": "9d8c6c71",
   "metadata": {},
   "outputs": [
    {
     "data": {
      "text/plain": [
       "['Sam',\n",
       " 'Noah',\n",
       " 'Mike',\n",
       " 'Katie',\n",
       " 'Joseph',\n",
       " 'Jordan',\n",
       " 'John',\n",
       " 'Hanna',\n",
       " 'Claire',\n",
       " 'Brandon',\n",
       " 'Andy',\n",
       " 'Amy',\n",
       " 'Amanda']"
      ]
     },
     "execution_count": 329,
     "metadata": {},
     "output_type": "execute_result"
    }
   ],
   "source": [
    "## Sorting the original lis - to avoid that, can use sorted method\n",
    "sorted(employees)\n",
    "employees"
   ]
  },
  {
   "cell_type": "code",
   "execution_count": 330,
   "id": "5e3a1d90",
   "metadata": {},
   "outputs": [
    {
     "name": "stdout",
     "output_type": "stream",
     "text": [
      "['Amanda', 'Amy', 'Andy', 'Brandon', 'Claire', 'Hanna', 'John', 'Jordan', 'Joseph', 'Katie', 'Mike', 'Noah', 'Sam']\n"
     ]
    }
   ],
   "source": [
    "emp_sorted = sorted(employees)\n",
    "print(emp_sorted)"
   ]
  },
  {
   "cell_type": "code",
   "execution_count": 446,
   "id": "8c54b06a",
   "metadata": {},
   "outputs": [
    {
     "data": {
      "text/plain": [
       "['Sam',\n",
       " 'Amy',\n",
       " 'Noah',\n",
       " 'Mike',\n",
       " 'John',\n",
       " 'Andy',\n",
       " 'Katie',\n",
       " 'Hanna',\n",
       " 'Joseph',\n",
       " 'Jordan',\n",
       " 'Claire',\n",
       " 'Amanda',\n",
       " 'Brandon']"
      ]
     },
     "execution_count": 446,
     "metadata": {},
     "output_type": "execute_result"
    }
   ],
   "source": [
    "# can sort using a sort key - based on a function\n",
    "employees.sort(key=len)\n",
    "employees"
   ]
  },
  {
   "cell_type": "code",
   "execution_count": 122,
   "id": "73ae7ff3",
   "metadata": {},
   "outputs": [],
   "source": [
    "## sort - in-place, sorted - returns a new"
   ]
  },
  {
   "cell_type": "code",
   "execution_count": 126,
   "id": "3208cf0c",
   "metadata": {},
   "outputs": [
    {
     "name": "stdout",
     "output_type": "stream",
     "text": [
      "[-6, -5, -4, 1, 2, 3]\n"
     ]
    }
   ],
   "source": [
    "neg_nums = [-6, -5, -4, 1, 2, 3]\n",
    "print(sorted(neg_nums)) # ascending by default"
   ]
  },
  {
   "cell_type": "code",
   "execution_count": 127,
   "id": "609298d9",
   "metadata": {},
   "outputs": [
    {
     "name": "stdout",
     "output_type": "stream",
     "text": [
      "[1, 2, 3, -4, -5, -6]\n"
     ]
    }
   ],
   "source": [
    "## But what to sort abs\n",
    "print(sorted(neg_nums, key=abs))"
   ]
  },
  {
   "cell_type": "markdown",
   "id": "e9103384",
   "metadata": {},
   "source": [
    "### Min, max, sum"
   ]
  },
  {
   "cell_type": "code",
   "execution_count": 331,
   "id": "0d80e9d3",
   "metadata": {},
   "outputs": [
    {
     "data": {
      "text/plain": [
       "2"
      ]
     },
     "execution_count": 331,
     "metadata": {},
     "output_type": "execute_result"
    }
   ],
   "source": [
    "min(num_list)"
   ]
  },
  {
   "cell_type": "code",
   "execution_count": 332,
   "id": "ddb552dc",
   "metadata": {},
   "outputs": [
    {
     "data": {
      "text/plain": [
       "90"
      ]
     },
     "execution_count": 332,
     "metadata": {},
     "output_type": "execute_result"
    }
   ],
   "source": [
    "max(num_list)"
   ]
  },
  {
   "cell_type": "code",
   "execution_count": 333,
   "id": "39ccbb68",
   "metadata": {},
   "outputs": [
    {
     "data": {
      "text/plain": [
       "135"
      ]
     },
     "execution_count": 333,
     "metadata": {},
     "output_type": "execute_result"
    }
   ],
   "source": [
    "sum(num_list)"
   ]
  },
  {
   "cell_type": "markdown",
   "id": "aac102d5",
   "metadata": {},
   "source": [
    "### Find index of a value"
   ]
  },
  {
   "cell_type": "code",
   "execution_count": 334,
   "id": "20540040",
   "metadata": {},
   "outputs": [
    {
     "data": {
      "text/plain": [
       "8"
      ]
     },
     "execution_count": 334,
     "metadata": {},
     "output_type": "execute_result"
    }
   ],
   "source": [
    "#find or index\n",
    "employees.index('Claire')"
   ]
  },
  {
   "cell_type": "code",
   "execution_count": 335,
   "id": "02a90864",
   "metadata": {},
   "outputs": [
    {
     "ename": "ValueError",
     "evalue": "13 is not in list",
     "output_type": "error",
     "traceback": [
      "\u001b[0;31m---------------------------------------------------------------------------\u001b[0m",
      "\u001b[0;31mValueError\u001b[0m                                Traceback (most recent call last)",
      "Cell \u001b[0;32mIn[335], line 2\u001b[0m\n\u001b[1;32m      1\u001b[0m \u001b[38;5;66;03m# value error if idx doesn't exist\u001b[39;00m\n\u001b[0;32m----> 2\u001b[0m \u001b[43memployees\u001b[49m\u001b[38;5;241;43m.\u001b[39;49m\u001b[43mindex\u001b[49m\u001b[43m(\u001b[49m\u001b[38;5;241;43m13\u001b[39;49m\u001b[43m)\u001b[49m\n",
      "\u001b[0;31mValueError\u001b[0m: 13 is not in list"
     ]
    }
   ],
   "source": [
    "# value error if idx doesn't exist\n",
    "employees.index(13)"
   ]
  },
  {
   "cell_type": "code",
   "execution_count": 336,
   "id": "06018a57",
   "metadata": {},
   "outputs": [
    {
     "data": {
      "text/plain": [
       "False"
      ]
     },
     "execution_count": 336,
     "metadata": {},
     "output_type": "execute_result"
    }
   ],
   "source": [
    "## Check whether a value is there in the list or not\n",
    "'Matt' in employees"
   ]
  },
  {
   "cell_type": "code",
   "execution_count": 337,
   "id": "1dfb9027",
   "metadata": {},
   "outputs": [
    {
     "data": {
      "text/plain": [
       "True"
      ]
     },
     "execution_count": 337,
     "metadata": {},
     "output_type": "execute_result"
    }
   ],
   "source": [
    "'Amy' in employees"
   ]
  },
  {
   "cell_type": "markdown",
   "id": "f9d91d0e",
   "metadata": {},
   "source": [
    "## List to string"
   ]
  },
  {
   "cell_type": "code",
   "execution_count": 338,
   "id": "224f582e",
   "metadata": {},
   "outputs": [
    {
     "data": {
      "text/plain": [
       "'Sam, Noah, Mike, Katie, Joseph, Jordan, John, Hanna, Claire, Brandon, Andy, Amy, Amanda'"
      ]
     },
     "execution_count": 338,
     "metadata": {},
     "output_type": "execute_result"
    }
   ],
   "source": [
    "employees_str = ', '.join(employees)\n",
    "employees_str"
   ]
  },
  {
   "cell_type": "code",
   "execution_count": 339,
   "id": "d3e21f75",
   "metadata": {},
   "outputs": [
    {
     "data": {
      "text/plain": [
       "'Sam-Noah-Mike-Katie-Joseph-Jordan-John-Hanna-Claire-Brandon-Andy-Amy-Amanda'"
      ]
     },
     "execution_count": 339,
     "metadata": {},
     "output_type": "execute_result"
    }
   ],
   "source": [
    "employees_str = '-'.join(employees)\n",
    "employees_str"
   ]
  },
  {
   "cell_type": "markdown",
   "id": "da9de7be",
   "metadata": {},
   "source": [
    "## String to list"
   ]
  },
  {
   "cell_type": "code",
   "execution_count": 340,
   "id": "c700818e",
   "metadata": {},
   "outputs": [
    {
     "data": {
      "text/plain": [
       "['Sam',\n",
       " 'Noah',\n",
       " 'Mike',\n",
       " 'Katie',\n",
       " 'Joseph',\n",
       " 'Jordan',\n",
       " 'John',\n",
       " 'Hanna',\n",
       " 'Claire',\n",
       " 'Brandon',\n",
       " 'Andy',\n",
       " 'Amy',\n",
       " 'Amanda']"
      ]
     },
     "execution_count": 340,
     "metadata": {},
     "output_type": "execute_result"
    }
   ],
   "source": [
    "emp_list_from_str = employees_str.split('-')\n",
    "emp_list_from_str"
   ]
  },
  {
   "cell_type": "code",
   "execution_count": null,
   "id": "b69f6caf",
   "metadata": {},
   "outputs": [],
   "source": [
    "### NOT SURE - LET THEM STUDY? ### START"
   ]
  },
  {
   "cell_type": "code",
   "execution_count": 445,
   "id": "711f3de9",
   "metadata": {},
   "outputs": [
    {
     "data": {
      "text/plain": [
       "[1, 2, 3, 4, 5, 6]"
      ]
     },
     "execution_count": 445,
     "metadata": {},
     "output_type": "execute_result"
    }
   ],
   "source": [
    "# Concatenating and combining lists\n",
    "[1,2,3] + [4,5,6]"
   ]
  },
  {
   "cell_type": "markdown",
   "id": "f4d39710",
   "metadata": {},
   "source": [
    "## TUPLES\n",
    "#### lists - mutable, tuples - immutable, can't be modified\n",
    "#### fixed-length, immutable sequence of Python objects which, once assigned, cannot be changed"
   ]
  },
  {
   "cell_type": "code",
   "execution_count": 341,
   "id": "5bb574ba",
   "metadata": {},
   "outputs": [
    {
     "name": "stdout",
     "output_type": "stream",
     "text": [
      "['Japan', 'Brazil', 'Spain', 'Kenya', 'Australia']\n",
      "['Japan', 'Brazil', 'Spain', 'Kenya', 'Australia']\n"
     ]
    }
   ],
   "source": [
    "list1 = ['Japan', 'Brazil', 'Spain', 'Kenya', 'Australia']\n",
    "list2 = list1\n",
    "print(list1)\n",
    "print(list2)"
   ]
  },
  {
   "cell_type": "code",
   "execution_count": 342,
   "id": "c1b6314d",
   "metadata": {},
   "outputs": [
    {
     "name": "stdout",
     "output_type": "stream",
     "text": [
      "['Italy', 'Brazil', 'Spain', 'Kenya', 'Australia']\n",
      "['Italy', 'Brazil', 'Spain', 'Kenya', 'Australia']\n"
     ]
    }
   ],
   "source": [
    "list1[0] = 'Italy'\n",
    "print(list1)\n",
    "print(list2)"
   ]
  },
  {
   "cell_type": "code",
   "execution_count": 436,
   "id": "d76088a2",
   "metadata": {},
   "outputs": [
    {
     "name": "stdout",
     "output_type": "stream",
     "text": [
      "('Japan', 'Brazil', 'Spain', 'Kenya', 'Australia')\n",
      "('Japan', 'Brazil', 'Spain', 'Kenya', 'Australia')\n"
     ]
    }
   ],
   "source": [
    "## Both changed - if yo know that you are dealing with a list of values\n",
    "## that are not going to change, then can use tuple\n",
    "tuple1 = ('Japan', 'Brazil', 'Spain', 'Kenya', 'Australia')\n",
    "tuple2 = tuple1\n",
    "print(tuple1)\n",
    "print(tuple2)"
   ]
  },
  {
   "cell_type": "code",
   "execution_count": 437,
   "id": "dd88dcbc",
   "metadata": {},
   "outputs": [
    {
     "ename": "TypeError",
     "evalue": "'tuple' object does not support item assignment",
     "output_type": "error",
     "traceback": [
      "\u001b[0;31m---------------------------------------------------------------------------\u001b[0m",
      "\u001b[0;31mTypeError\u001b[0m                                 Traceback (most recent call last)",
      "Cell \u001b[0;32mIn[437], line 1\u001b[0m\n\u001b[0;32m----> 1\u001b[0m \u001b[43mtuple1\u001b[49m\u001b[43m[\u001b[49m\u001b[38;5;241;43m0\u001b[39;49m\u001b[43m]\u001b[49m \u001b[38;5;241m=\u001b[39m \u001b[38;5;124m'\u001b[39m\u001b[38;5;124mItaly\u001b[39m\u001b[38;5;124m'\u001b[39m\n\u001b[1;32m      2\u001b[0m \u001b[38;5;28mprint\u001b[39m(tuple1)\n\u001b[1;32m      3\u001b[0m \u001b[38;5;28mprint\u001b[39m(tuple2)\n",
      "\u001b[0;31mTypeError\u001b[0m: 'tuple' object does not support item assignment"
     ]
    }
   ],
   "source": [
    "tuple1[0] = 'Italy'\n",
    "print(tuple1)\n",
    "print(tuple2)"
   ]
  },
  {
   "cell_type": "code",
   "execution_count": 438,
   "id": "93b38afb",
   "metadata": {},
   "outputs": [],
   "source": [
    "## error coz tuple immutable and coz of this doesn't have as many \n",
    "## methods as a list coz lot of methods of list involved mutating \n",
    "## the object\n",
    "#### If you want something that you can. modify --> use list\n",
    "#### If something that you know not gonna change --> use tuple\n"
   ]
  },
  {
   "cell_type": "code",
   "execution_count": 439,
   "id": "d3c1ae20",
   "metadata": {},
   "outputs": [
    {
     "data": {
      "text/plain": [
       "1"
      ]
     },
     "execution_count": 439,
     "metadata": {},
     "output_type": "execute_result"
    }
   ],
   "source": [
    "tuple1.count('Japan')"
   ]
  },
  {
   "cell_type": "code",
   "execution_count": 441,
   "id": "fd98b077",
   "metadata": {},
   "outputs": [
    {
     "data": {
      "text/plain": [
       "2"
      ]
     },
     "execution_count": 441,
     "metadata": {},
     "output_type": "execute_result"
    }
   ],
   "source": [
    "tuple1.index('Spain')"
   ]
  },
  {
   "cell_type": "code",
   "execution_count": null,
   "id": "f9d71bf0",
   "metadata": {},
   "outputs": [],
   "source": [
    "tuple1.count('Japan')"
   ]
  },
  {
   "cell_type": "code",
   "execution_count": 413,
   "id": "74c780ba",
   "metadata": {},
   "outputs": [
    {
     "data": {
      "text/plain": [
       "('s', 't', 'r', 'i', 'n', 'g')"
      ]
     },
     "execution_count": 413,
     "metadata": {},
     "output_type": "execute_result"
    }
   ],
   "source": [
    "# convert any sequence to tuple\n",
    "str_tuple = tuple('string')\n",
    "str_tuple"
   ]
  },
  {
   "cell_type": "code",
   "execution_count": 414,
   "id": "8f502029",
   "metadata": {},
   "outputs": [
    {
     "data": {
      "text/plain": [
       "((1, 2, 3), (4, 5))"
      ]
     },
     "execution_count": 414,
     "metadata": {},
     "output_type": "execute_result"
    }
   ],
   "source": [
    "## nested tuples\n",
    "nested_tuple = (1,2,3), (4,5)\n",
    "nested_tuple"
   ]
  },
  {
   "cell_type": "code",
   "execution_count": 415,
   "id": "923e19e8",
   "metadata": {},
   "outputs": [
    {
     "name": "stdout",
     "output_type": "stream",
     "text": [
      "(1, 2, 3)\n",
      "(4, 5)\n"
     ]
    }
   ],
   "source": [
    "print(nested_tuple[0])\n",
    "print(nested_tuple[1])"
   ]
  },
  {
   "cell_type": "code",
   "execution_count": null,
   "id": "6c5d5dd7",
   "metadata": {},
   "outputs": [],
   "source": [
    "### While the tuples themselves may not be modified, \n",
    "## but the objects inside the tuple can be modified if they are mutable\n",
    "## But once the tuple is created it’s not possible to modify which \n",
    "## object is stored in each slot"
   ]
  },
  {
   "cell_type": "code",
   "execution_count": 418,
   "id": "8d3e148c",
   "metadata": {},
   "outputs": [
    {
     "ename": "TypeError",
     "evalue": "'tuple' object does not support item assignment",
     "output_type": "error",
     "traceback": [
      "\u001b[0;31m---------------------------------------------------------------------------\u001b[0m",
      "\u001b[0;31mTypeError\u001b[0m                                 Traceback (most recent call last)",
      "Cell \u001b[0;32mIn[418], line 2\u001b[0m\n\u001b[1;32m      1\u001b[0m tuple1 \u001b[38;5;241m=\u001b[39m \u001b[38;5;28mtuple\u001b[39m([\u001b[38;5;124m'\u001b[39m\u001b[38;5;124mfoo\u001b[39m\u001b[38;5;124m'\u001b[39m, [\u001b[38;5;241m1\u001b[39m, \u001b[38;5;241m2\u001b[39m], \u001b[38;5;28;01mTrue\u001b[39;00m])\n\u001b[0;32m----> 2\u001b[0m \u001b[43mtuple1\u001b[49m\u001b[43m[\u001b[49m\u001b[38;5;241;43m2\u001b[39;49m\u001b[43m]\u001b[49m \u001b[38;5;241m=\u001b[39m \u001b[38;5;28;01mFalse\u001b[39;00m\n\u001b[1;32m      3\u001b[0m tuple1\n",
      "\u001b[0;31mTypeError\u001b[0m: 'tuple' object does not support item assignment"
     ]
    }
   ],
   "source": [
    "tuple1 = tuple(['foo', [1, 2], True])\n",
    "tuple1[2] = False\n",
    "tuple1"
   ]
  },
  {
   "cell_type": "code",
   "execution_count": 419,
   "id": "2c60f405",
   "metadata": {},
   "outputs": [
    {
     "data": {
      "text/plain": [
       "('foo', [1, 2, 3], True)"
      ]
     },
     "execution_count": 419,
     "metadata": {},
     "output_type": "execute_result"
    }
   ],
   "source": [
    "tuple1[1].append(3)\n",
    "tuple1"
   ]
  },
  {
   "cell_type": "code",
   "execution_count": null,
   "id": "b3213a9d",
   "metadata": {},
   "outputs": [],
   "source": [
    "### NOT SURE - LET THEM STUDY? ### START"
   ]
  },
  {
   "cell_type": "code",
   "execution_count": 421,
   "id": "facb9bc1",
   "metadata": {},
   "outputs": [
    {
     "ename": "TypeError",
     "evalue": "can only concatenate tuple (not \"str\") to tuple",
     "output_type": "error",
     "traceback": [
      "\u001b[0;31m---------------------------------------------------------------------------\u001b[0m",
      "\u001b[0;31mTypeError\u001b[0m                                 Traceback (most recent call last)",
      "Cell \u001b[0;32mIn[421], line 2\u001b[0m\n\u001b[1;32m      1\u001b[0m \u001b[38;5;66;03m## Concatenate tuples\u001b[39;00m\n\u001b[0;32m----> 2\u001b[0m \u001b[43m(\u001b[49m\u001b[38;5;241;43m1\u001b[39;49m\u001b[43m,\u001b[49m\u001b[43m \u001b[49m\u001b[38;5;124;43m'\u001b[39;49m\u001b[38;5;124;43mMath\u001b[39;49m\u001b[38;5;124;43m'\u001b[39;49m\u001b[43m,\u001b[49m\u001b[43m \u001b[49m\u001b[38;5;28;43;01mFalse\u001b[39;49;00m\u001b[43m)\u001b[49m\u001b[43m \u001b[49m\u001b[38;5;241;43m+\u001b[39;49m\u001b[43m \u001b[49m\u001b[43m(\u001b[49m\u001b[38;5;241;43m25\u001b[39;49m\u001b[43m,\u001b[49m\u001b[43m \u001b[49m\u001b[38;5;241;43m3.2\u001b[39;49m\u001b[43m)\u001b[49m\u001b[43m \u001b[49m\u001b[38;5;241;43m+\u001b[39;49m\u001b[43m \u001b[49m\u001b[43m(\u001b[49m\u001b[38;5;124;43m'\u001b[39;49m\u001b[38;5;124;43mC20\u001b[39;49m\u001b[38;5;124;43m'\u001b[39;49m\u001b[43m)\u001b[49m\n",
      "\u001b[0;31mTypeError\u001b[0m: can only concatenate tuple (not \"str\") to tuple"
     ]
    }
   ],
   "source": [
    "## Concatenate tuples\n",
    "(1, 'Math', False) + (25, 3.2) + ('C20')"
   ]
  },
  {
   "cell_type": "code",
   "execution_count": 422,
   "id": "47a87b6f",
   "metadata": {},
   "outputs": [
    {
     "data": {
      "text/plain": [
       "(1, 'Math', False, 25, 3.2, 'C20')"
      ]
     },
     "execution_count": 422,
     "metadata": {},
     "output_type": "execute_result"
    }
   ],
   "source": [
    "## Concatenate tuples\n",
    "(1, 'Math', False) + (25, 3.2) + ('C20',)"
   ]
  },
  {
   "cell_type": "code",
   "execution_count": null,
   "id": "0b34e7d8",
   "metadata": {},
   "outputs": [],
   "source": [
    "# Multiplying a tuple by an integer, as with lists, has the effect of\n",
    "# concatenating that many copies of the tuple"
   ]
  },
  {
   "cell_type": "code",
   "execution_count": 423,
   "id": "adfe438a",
   "metadata": {},
   "outputs": [
    {
     "data": {
      "text/plain": [
       "'HelloHelloHello'"
      ]
     },
     "execution_count": 423,
     "metadata": {},
     "output_type": "execute_result"
    }
   ],
   "source": [
    "('Hello') * 3"
   ]
  },
  {
   "cell_type": "code",
   "execution_count": 425,
   "id": "042dcc64",
   "metadata": {},
   "outputs": [
    {
     "data": {
      "text/plain": [
       "('Hello', 'Hello', 'Hello')"
      ]
     },
     "execution_count": 425,
     "metadata": {},
     "output_type": "execute_result"
    }
   ],
   "source": [
    "('Hello',) * 3"
   ]
  },
  {
   "cell_type": "code",
   "execution_count": null,
   "id": "ee6a257e",
   "metadata": {},
   "outputs": [],
   "source": [
    "# Note that the objects themselves are not copied, only the references \n",
    "# to them."
   ]
  },
  {
   "cell_type": "code",
   "execution_count": 426,
   "id": "694b8402",
   "metadata": {},
   "outputs": [
    {
     "data": {
      "text/plain": [
       "4371106160"
      ]
     },
     "execution_count": 426,
     "metadata": {},
     "output_type": "execute_result"
    }
   ],
   "source": [
    "msg = 'Hi '\n",
    "id(msg)"
   ]
  },
  {
   "cell_type": "code",
   "execution_count": 427,
   "id": "3363a8c8",
   "metadata": {},
   "outputs": [
    {
     "data": {
      "text/plain": [
       "4371109936"
      ]
     },
     "execution_count": 427,
     "metadata": {},
     "output_type": "execute_result"
    }
   ],
   "source": [
    "msg_mult = msg*2\n",
    "id(msg_mult)"
   ]
  },
  {
   "cell_type": "code",
   "execution_count": 428,
   "id": "c0bf05b1",
   "metadata": {},
   "outputs": [
    {
     "data": {
      "text/plain": [
       "4358074864"
      ]
     },
     "execution_count": 428,
     "metadata": {},
     "output_type": "execute_result"
    }
   ],
   "source": [
    "msg_tup = ('Hi', )\n",
    "id(msg_tup)"
   ]
  },
  {
   "cell_type": "code",
   "execution_count": 429,
   "id": "27fb6be4",
   "metadata": {},
   "outputs": [
    {
     "data": {
      "text/plain": [
       "4371992768"
      ]
     },
     "execution_count": 429,
     "metadata": {},
     "output_type": "execute_result"
    }
   ],
   "source": [
    "msg_tup_mult = msg_tup * 3\n",
    "id(msg_tup_mult)"
   ]
  },
  {
   "cell_type": "code",
   "execution_count": null,
   "id": "45bbecbe",
   "metadata": {},
   "outputs": [],
   "source": [
    "## Unpacking tuples"
   ]
  },
  {
   "cell_type": "code",
   "execution_count": 430,
   "id": "dfe7e4d3",
   "metadata": {},
   "outputs": [
    {
     "data": {
      "text/plain": [
       "30"
      ]
     },
     "execution_count": 430,
     "metadata": {},
     "output_type": "execute_result"
    }
   ],
   "source": [
    "## If you try to assign to a tuple-like expression of variables, \n",
    "## Python will attempt to unpack the value on the righthand side of \n",
    "## the equals sign\n",
    "\n",
    "tuple1 = (10, 20, 30)\n",
    "a,b,c = tuple1\n",
    "c"
   ]
  },
  {
   "cell_type": "code",
   "execution_count": 431,
   "id": "7c3871cf",
   "metadata": {},
   "outputs": [
    {
     "data": {
      "text/plain": [
       "3"
      ]
     },
     "execution_count": 431,
     "metadata": {},
     "output_type": "execute_result"
    }
   ],
   "source": [
    "# Even sequences with nested tuples can be unpacked\n",
    "tup = 1,2,(3,4)\n",
    "a,b,(c,d) = tup\n",
    "c"
   ]
  },
  {
   "cell_type": "code",
   "execution_count": null,
   "id": "5ba8a534",
   "metadata": {},
   "outputs": [],
   "source": [
    "## Swap variables"
   ]
  },
  {
   "cell_type": "code",
   "execution_count": 432,
   "id": "15a6f44a",
   "metadata": {},
   "outputs": [
    {
     "name": "stdout",
     "output_type": "stream",
     "text": [
      "1\n",
      "2\n"
     ]
    }
   ],
   "source": [
    "a, b = 1,2\n",
    "print(a)\n",
    "print(b)"
   ]
  },
  {
   "cell_type": "code",
   "execution_count": 433,
   "id": "c98b4db3",
   "metadata": {},
   "outputs": [
    {
     "name": "stdout",
     "output_type": "stream",
     "text": [
      "2\n",
      "1\n"
     ]
    }
   ],
   "source": [
    "b, a = a, b\n",
    "print(a)\n",
    "print(b)"
   ]
  },
  {
   "cell_type": "code",
   "execution_count": null,
   "id": "81d24f28",
   "metadata": {},
   "outputs": [],
   "source": [
    "### NOT SURE - LET THEM STUDY? ### END"
   ]
  },
  {
   "cell_type": "markdown",
   "id": "43219c2a",
   "metadata": {},
   "source": [
    "## SETS\n",
    "#### unordered, no duplicates"
   ]
  },
  {
   "cell_type": "code",
   "execution_count": 360,
   "id": "4a08fb2f",
   "metadata": {},
   "outputs": [
    {
     "data": {
      "text/plain": [
       "{'Australia', 'Brazil', 'Japan', 'Kenya', 'Spain'}"
      ]
     },
     "execution_count": 360,
     "metadata": {},
     "output_type": "execute_result"
    }
   ],
   "source": [
    "countries = {'Japan', 'Brazil', 'Spain', 'Kenya', 'Australia'}\n",
    "countries"
   ]
  },
  {
   "cell_type": "code",
   "execution_count": 365,
   "id": "4774d886",
   "metadata": {},
   "outputs": [
    {
     "data": {
      "text/plain": [
       "{'Australia', 'Brazil', 'Japan', 'Kenya', 'Spain'}"
      ]
     },
     "execution_count": 365,
     "metadata": {},
     "output_type": "execute_result"
    }
   ],
   "source": [
    "countries"
   ]
  },
  {
   "cell_type": "code",
   "execution_count": null,
   "id": "80bad29d",
   "metadata": {},
   "outputs": [],
   "source": [
    "## unlike lists or tuples, sets dont care about order so sometimes the\n",
    "## order can change with each execution\n",
    "\n",
    "## sets dont care about order so some of the common use cases for set\n",
    "## is to test whether a value is part of the set and also to remove \n",
    "## duplicates"
   ]
  },
  {
   "cell_type": "code",
   "execution_count": 367,
   "id": "94b34fef",
   "metadata": {},
   "outputs": [
    {
     "data": {
      "text/plain": [
       "{'Australia', 'Brazil', 'Japan', 'Kenya', 'Spain'}"
      ]
     },
     "execution_count": 367,
     "metadata": {},
     "output_type": "execute_result"
    }
   ],
   "source": [
    "countries = {'Japan', 'Brazil', 'Spain', 'Kenya', 'Australia', 'Japan'}\n",
    "countries"
   ]
  },
  {
   "cell_type": "code",
   "execution_count": 368,
   "id": "b5ef1cf6",
   "metadata": {},
   "outputs": [],
   "source": [
    "## membership test - to test whether a value is part of the set or not\n",
    "## sets do this lot more efficiently that list or tuple - sets optimized\n",
    "## for this\n",
    "\n",
    "\n",
    "#########\n",
    "# Checking whether a list contains a value is a lot slower than doing \n",
    "# so with dictionaries and sets (to be introduced shortly), as Python \n",
    "# makes a linear scan across the values of the list, whereas it can \n",
    "# check the others (based on hash tables) in constant time.\n",
    "#########"
   ]
  },
  {
   "cell_type": "code",
   "execution_count": 369,
   "id": "aa9135c6",
   "metadata": {},
   "outputs": [
    {
     "data": {
      "text/plain": [
       "False"
      ]
     },
     "execution_count": 369,
     "metadata": {},
     "output_type": "execute_result"
    }
   ],
   "source": [
    "'Iran' in countries"
   ]
  },
  {
   "cell_type": "code",
   "execution_count": null,
   "id": "ef69191c",
   "metadata": {},
   "outputs": [],
   "source": [
    "## Another important thing - sets help to determine either what values\n",
    "## are shared and not shared"
   ]
  },
  {
   "cell_type": "code",
   "execution_count": 370,
   "id": "318230d4",
   "metadata": {},
   "outputs": [
    {
     "data": {
      "text/plain": [
       "{'Chile', 'Iran', 'Japan', 'Kenya', 'Spain'}"
      ]
     },
     "execution_count": 370,
     "metadata": {},
     "output_type": "execute_result"
    }
   ],
   "source": [
    "countries1 = {'Japan', 'Chile', 'Spain', 'Kenya', 'Iran', 'Japan'}\n",
    "countries1"
   ]
  },
  {
   "cell_type": "code",
   "execution_count": 371,
   "id": "6321ee9a",
   "metadata": {},
   "outputs": [
    {
     "data": {
      "text/plain": [
       "{'Japan', 'Kenya', 'Spain'}"
      ]
     },
     "execution_count": 371,
     "metadata": {},
     "output_type": "execute_result"
    }
   ],
   "source": [
    "countries.intersection(countries1)"
   ]
  },
  {
   "cell_type": "code",
   "execution_count": 450,
   "id": "c4ce4807",
   "metadata": {},
   "outputs": [
    {
     "data": {
      "text/plain": [
       "{'Japan', 'Kenya', 'Spain'}"
      ]
     },
     "execution_count": 450,
     "metadata": {},
     "output_type": "execute_result"
    }
   ],
   "source": [
    "countries & countries1"
   ]
  },
  {
   "cell_type": "code",
   "execution_count": 373,
   "id": "0109d758",
   "metadata": {},
   "outputs": [
    {
     "data": {
      "text/plain": [
       "{'Australia', 'Brazil'}"
      ]
     },
     "execution_count": 373,
     "metadata": {},
     "output_type": "execute_result"
    }
   ],
   "source": [
    "# in countries but not in countries1\n",
    "countries.difference(countries1)"
   ]
  },
  {
   "cell_type": "code",
   "execution_count": 451,
   "id": "2aabda6c",
   "metadata": {},
   "outputs": [
    {
     "data": {
      "text/plain": [
       "{'Australia', 'Brazil'}"
      ]
     },
     "execution_count": 451,
     "metadata": {},
     "output_type": "execute_result"
    }
   ],
   "source": [
    "countries - countries1"
   ]
  },
  {
   "cell_type": "code",
   "execution_count": null,
   "id": "42fd4c24",
   "metadata": {},
   "outputs": [],
   "source": [
    "##################\n",
    "# If you pass an input that is not a set to methods like union and \n",
    "# intersection, Python will convert the input to a set before executing\n",
    "# the operation. When using the binary operators, both objects must \n",
    "# already be sets.\n",
    "#################"
   ]
  },
  {
   "cell_type": "code",
   "execution_count": 374,
   "id": "2376f836",
   "metadata": {},
   "outputs": [
    {
     "data": {
      "text/plain": [
       "{'Australia', 'Brazil', 'Chile', 'Iran', 'Japan', 'Kenya', 'Spain'}"
      ]
     },
     "execution_count": 374,
     "metadata": {},
     "output_type": "execute_result"
    }
   ],
   "source": [
    "# combine\n",
    "countries.union(countries1)\n",
    "\n",
    "## much more performant than lists or tuples"
   ]
  },
  {
   "cell_type": "code",
   "execution_count": 449,
   "id": "b053460f",
   "metadata": {},
   "outputs": [
    {
     "data": {
      "text/plain": [
       "{'Australia', 'Brazil', 'Chile', 'Iran', 'Japan', 'Kenya', 'Spain'}"
      ]
     },
     "execution_count": 449,
     "metadata": {},
     "output_type": "execute_result"
    }
   ],
   "source": [
    "# can use binary operator | for union\n",
    "countries | countries1"
   ]
  },
  {
   "cell_type": "code",
   "execution_count": null,
   "id": "01f1a659",
   "metadata": {},
   "outputs": [],
   "source": [
    "### Creating empty list, tuple, set\n",
    "emp_list = []\n",
    "emp_list = list()\n",
    "\n",
    "emp_tuple = ()\n",
    "emp_tuple = tuple()\n",
    "\n",
    "emp_set = {} ### this doesn't work coz creates an empty dictionary\n",
    "\n",
    "            ### so will have to use set() class below\n",
    "emp_set = set()"
   ]
  },
  {
   "cell_type": "code",
   "execution_count": 444,
   "id": "2855fef9",
   "metadata": {},
   "outputs": [],
   "source": [
    "### NOT SURE - LET THEM STUDY? ### END"
   ]
  },
  {
   "cell_type": "code",
   "execution_count": 443,
   "id": "28b71a04",
   "metadata": {},
   "outputs": [
    {
     "data": {
      "text/plain": [
       "[4, 5, 6]"
      ]
     },
     "execution_count": 443,
     "metadata": {},
     "output_type": "execute_result"
    }
   ],
   "source": [
    "## tuple can be passed to a list\n",
    "tuple1 = (4, 5, 6)\n",
    "list1 = list(tuple1)\n",
    "list1"
   ]
  },
  {
   "cell_type": "code",
   "execution_count": 448,
   "id": "1d6dab6a",
   "metadata": {},
   "outputs": [
    {
     "data": {
      "text/plain": [
       "{2, 4, 5, 23, 26, 60}"
      ]
     },
     "execution_count": 448,
     "metadata": {},
     "output_type": "execute_result"
    }
   ],
   "source": [
    "## list can be passed to a set\n",
    "set1 = set([23,5,26,4, 2,4, 23, 60])\n",
    "set1"
   ]
  },
  {
   "cell_type": "code",
   "execution_count": null,
   "id": "3a1d69bd",
   "metadata": {},
   "outputs": [],
   "source": [
    "### Check subset or superset"
   ]
  },
  {
   "cell_type": "code",
   "execution_count": 458,
   "id": "c3a8c2ae",
   "metadata": {},
   "outputs": [
    {
     "data": {
      "text/plain": [
       "dict"
      ]
     },
     "execution_count": 458,
     "metadata": {},
     "output_type": "execute_result"
    }
   ],
   "source": [
    "b_set = {}\n",
    "type(b_set)"
   ]
  },
  {
   "cell_type": "code",
   "execution_count": 457,
   "id": "b10c05fa",
   "metadata": {},
   "outputs": [
    {
     "data": {
      "text/plain": [
       "set"
      ]
     },
     "execution_count": 457,
     "metadata": {},
     "output_type": "execute_result"
    }
   ],
   "source": [
    "a_set = {1, 2, 3, 4, 5}\n",
    "type(a_set)"
   ]
  },
  {
   "cell_type": "code",
   "execution_count": 455,
   "id": "4ee30223",
   "metadata": {},
   "outputs": [],
   "source": [
    "set1 = {1,2,3}\n",
    "set2 = {1,2,3,4,5}"
   ]
  },
  {
   "cell_type": "code",
   "execution_count": 459,
   "id": "423f5f99",
   "metadata": {},
   "outputs": [
    {
     "data": {
      "text/plain": [
       "True"
      ]
     },
     "execution_count": 459,
     "metadata": {},
     "output_type": "execute_result"
    }
   ],
   "source": [
    "set1.issubset(set2)"
   ]
  },
  {
   "cell_type": "code",
   "execution_count": 460,
   "id": "27a9b5bb",
   "metadata": {},
   "outputs": [
    {
     "data": {
      "text/plain": [
       "True"
      ]
     },
     "execution_count": 460,
     "metadata": {},
     "output_type": "execute_result"
    }
   ],
   "source": [
    "set2.issuperset(set1)"
   ]
  },
  {
   "cell_type": "code",
   "execution_count": 461,
   "id": "0b9d68d4",
   "metadata": {},
   "outputs": [
    {
     "data": {
      "text/plain": [
       "False"
      ]
     },
     "execution_count": 461,
     "metadata": {},
     "output_type": "execute_result"
    }
   ],
   "source": [
    "### set equality\n",
    "# 2 sets equal if and onlyif their contents are equal\n",
    "set1 == set2"
   ]
  },
  {
   "cell_type": "code",
   "execution_count": 462,
   "id": "3b7c0a9c",
   "metadata": {},
   "outputs": [
    {
     "data": {
      "text/plain": [
       "True"
      ]
     },
     "execution_count": 462,
     "metadata": {},
     "output_type": "execute_result"
    }
   ],
   "source": [
    "set3 = {1,2,3}\n",
    "set1 == set3"
   ]
  },
  {
   "cell_type": "code",
   "execution_count": null,
   "id": "82a94a95",
   "metadata": {},
   "outputs": [],
   "source": []
  },
  {
   "cell_type": "markdown",
   "id": "44cca5e5",
   "metadata": {},
   "source": [
    "## DICTIONARIES\n",
    "\n",
    "#### helps us to work with key value pairs - simialr to hash map; akin to a physical dictionary"
   ]
  },
  {
   "cell_type": "code",
   "execution_count": 99,
   "id": "4b6dae2e",
   "metadata": {},
   "outputs": [
    {
     "data": {
      "text/plain": [
       "{'name': 'Josh', 'age': 24, 'courses': ['Physics', 'Math', 'Biology']}"
      ]
     },
     "execution_count": 99,
     "metadata": {},
     "output_type": "execute_result"
    }
   ],
   "source": [
    "students = {'name': 'Josh', 'age': 24, 'courses': ['Physics', 'Math', 'Biology']}\n",
    "students"
   ]
  },
  {
   "cell_type": "code",
   "execution_count": 100,
   "id": "480b3f27",
   "metadata": {},
   "outputs": [
    {
     "data": {
      "text/plain": [
       "24"
      ]
     },
     "execution_count": 100,
     "metadata": {},
     "output_type": "execute_result"
    }
   ],
   "source": [
    "# access one element\n",
    "students['age']"
   ]
  },
  {
   "cell_type": "code",
   "execution_count": 101,
   "id": "468007d9",
   "metadata": {},
   "outputs": [
    {
     "data": {
      "text/plain": [
       "['Physics', 'Math', 'Biology']"
      ]
     },
     "execution_count": 101,
     "metadata": {},
     "output_type": "execute_result"
    }
   ],
   "source": [
    "students['courses']"
   ]
  },
  {
   "cell_type": "code",
   "execution_count": 102,
   "id": "9a258f62",
   "metadata": {},
   "outputs": [],
   "source": [
    "## values of can be of any type\n",
    "## keys - currently string but can be any immutable data type.\n",
    "## Usually string, int"
   ]
  },
  {
   "cell_type": "code",
   "execution_count": 103,
   "id": "697ecf68",
   "metadata": {},
   "outputs": [],
   "source": [
    "## just to show -- change 'name' to 1 and print the key and then \n",
    "## change back to 'name'"
   ]
  },
  {
   "cell_type": "code",
   "execution_count": 104,
   "id": "29c3d231",
   "metadata": {},
   "outputs": [
    {
     "ename": "KeyError",
     "evalue": "'phone'",
     "output_type": "error",
     "traceback": [
      "\u001b[0;31m---------------------------------------------------------------------------\u001b[0m",
      "\u001b[0;31mKeyError\u001b[0m                                  Traceback (most recent call last)",
      "Cell \u001b[0;32mIn[104], line 2\u001b[0m\n\u001b[1;32m      1\u001b[0m \u001b[38;5;66;03m## access a key that doens't exist\u001b[39;00m\n\u001b[0;32m----> 2\u001b[0m \u001b[43mstudents\u001b[49m\u001b[43m[\u001b[49m\u001b[38;5;124;43m'\u001b[39;49m\u001b[38;5;124;43mphone\u001b[39;49m\u001b[38;5;124;43m'\u001b[39;49m\u001b[43m]\u001b[49m\n",
      "\u001b[0;31mKeyError\u001b[0m: 'phone'"
     ]
    }
   ],
   "source": [
    "## access a key that doens't exist\n",
    "students['phone']"
   ]
  },
  {
   "cell_type": "code",
   "execution_count": 105,
   "id": "6458eb79",
   "metadata": {},
   "outputs": [],
   "source": [
    "# but may be we don't want error everytime but instead \n",
    "## None or defaut value --> use .get"
   ]
  },
  {
   "cell_type": "code",
   "execution_count": 106,
   "id": "f67b872d",
   "metadata": {},
   "outputs": [
    {
     "data": {
      "text/plain": [
       "'Josh'"
      ]
     },
     "execution_count": 106,
     "metadata": {},
     "output_type": "execute_result"
    }
   ],
   "source": [
    "students.get('name')"
   ]
  },
  {
   "cell_type": "code",
   "execution_count": 107,
   "id": "46d8d466",
   "metadata": {},
   "outputs": [],
   "source": [
    "students.get('phone') # returns none"
   ]
  },
  {
   "cell_type": "code",
   "execution_count": 108,
   "id": "bfe47055",
   "metadata": {},
   "outputs": [
    {
     "data": {
      "text/plain": [
       "'Not Found'"
      ]
     },
     "execution_count": 108,
     "metadata": {},
     "output_type": "execute_result"
    }
   ],
   "source": [
    "# can also specify a default value\n",
    "students.get('phone', 'Not Found')"
   ]
  },
  {
   "cell_type": "code",
   "execution_count": 109,
   "id": "1d096c91",
   "metadata": {},
   "outputs": [
    {
     "data": {
      "text/plain": [
       "'333-3333'"
      ]
     },
     "execution_count": 109,
     "metadata": {},
     "output_type": "execute_result"
    }
   ],
   "source": [
    "## Adding a new value to the dictioanry\n",
    "students['phone'] ='333-3333'\n",
    "students.get('phone', 'Not Found')"
   ]
  },
  {
   "cell_type": "code",
   "execution_count": 110,
   "id": "8a2880f2",
   "metadata": {},
   "outputs": [
    {
     "data": {
      "text/plain": [
       "{'name': 'Jamie',\n",
       " 'age': 24,\n",
       " 'courses': ['Physics', 'Math', 'Biology'],\n",
       " 'phone': '333-3333'}"
      ]
     },
     "execution_count": 110,
     "metadata": {},
     "output_type": "execute_result"
    }
   ],
   "source": [
    "##If the key already exists, updates the value of the key\n",
    "students['name'] ='Jamie'\n",
    "students"
   ]
  },
  {
   "cell_type": "code",
   "execution_count": 111,
   "id": "15fdfe89",
   "metadata": {},
   "outputs": [
    {
     "data": {
      "text/plain": [
       "{'name': 'Aaron',\n",
       " 'age': 29,\n",
       " 'courses': ['Physics', 'Math', 'Biology'],\n",
       " 'phone': '333-2492',\n",
       " 'city': 'New York'}"
      ]
     },
     "execution_count": 111,
     "metadata": {},
     "output_type": "execute_result"
    }
   ],
   "source": [
    "## can also update using update method. Especially useful when we want\n",
    "## to update multiple values at a time\n",
    "students.update({'name': 'Aaron', 'age': 29, 'phone': '333-2492', 'city': 'New York'})\n",
    "students\n",
    "\n",
    "## The update method changes dictionaries in place, so any existing \n",
    "## keys in the data passed to update will have their old values \n",
    "## discarded."
   ]
  },
  {
   "cell_type": "code",
   "execution_count": 112,
   "id": "a524d90d",
   "metadata": {},
   "outputs": [],
   "source": [
    "### Delete a specific key and its value\n",
    "del students['age']"
   ]
  },
  {
   "cell_type": "code",
   "execution_count": 113,
   "id": "fa3e998b",
   "metadata": {},
   "outputs": [
    {
     "data": {
      "text/plain": [
       "{'name': 'Aaron',\n",
       " 'courses': ['Physics', 'Math', 'Biology'],\n",
       " 'phone': '333-2492',\n",
       " 'city': 'New York'}"
      ]
     },
     "execution_count": 113,
     "metadata": {},
     "output_type": "execute_result"
    }
   ],
   "source": [
    "students"
   ]
  },
  {
   "cell_type": "code",
   "execution_count": 114,
   "id": "d9601d90",
   "metadata": {},
   "outputs": [],
   "source": [
    "## Could also remove using pop method akin to lists\n",
    "# pop method (which simultaneously returns the value and deletes the key\n",
    "phone = students.pop('phone')"
   ]
  },
  {
   "cell_type": "code",
   "execution_count": 115,
   "id": "87632e98",
   "metadata": {},
   "outputs": [
    {
     "name": "stdout",
     "output_type": "stream",
     "text": [
      "{'name': 'Aaron', 'courses': ['Physics', 'Math', 'Biology'], 'city': 'New York'}\n",
      "333-2492\n"
     ]
    }
   ],
   "source": [
    "# can print the value removed\n",
    "print(students)\n",
    "print(phone)"
   ]
  },
  {
   "cell_type": "code",
   "execution_count": 116,
   "id": "2a909239",
   "metadata": {},
   "outputs": [
    {
     "data": {
      "text/plain": [
       "3"
      ]
     },
     "execution_count": 116,
     "metadata": {},
     "output_type": "execute_result"
    }
   ],
   "source": [
    "## to see how many keys exist\n",
    "len(students)"
   ]
  },
  {
   "cell_type": "code",
   "execution_count": 117,
   "id": "2be5ad95",
   "metadata": {},
   "outputs": [
    {
     "data": {
      "text/plain": [
       "dict_keys(['name', 'courses', 'city'])"
      ]
     },
     "execution_count": 117,
     "metadata": {},
     "output_type": "execute_result"
    }
   ],
   "source": [
    "## to see all keys\n",
    "students.keys()"
   ]
  },
  {
   "cell_type": "code",
   "execution_count": 118,
   "id": "83de5fc6",
   "metadata": {},
   "outputs": [
    {
     "data": {
      "text/plain": [
       "dict_values(['Aaron', ['Physics', 'Math', 'Biology'], 'New York'])"
      ]
     },
     "execution_count": 118,
     "metadata": {},
     "output_type": "execute_result"
    }
   ],
   "source": [
    "students.values()"
   ]
  },
  {
   "cell_type": "code",
   "execution_count": 119,
   "id": "af50cc2c",
   "metadata": {},
   "outputs": [
    {
     "data": {
      "text/plain": [
       "dict_items([('name', 'Aaron'), ('courses', ['Physics', 'Math', 'Biology']), ('city', 'New York')])"
      ]
     },
     "execution_count": 119,
     "metadata": {},
     "output_type": "execute_result"
    }
   ],
   "source": [
    "students.items()"
   ]
  },
  {
   "cell_type": "code",
   "execution_count": 120,
   "id": "90ca78f6",
   "metadata": {},
   "outputs": [
    {
     "data": {
      "text/plain": [
       "True"
      ]
     },
     "execution_count": 120,
     "metadata": {},
     "output_type": "execute_result"
    }
   ],
   "source": [
    "# check if a dictionary contains a key using the same syntax used for \n",
    "# checking whether a list or tuple contains a value\n",
    "'city' in students"
   ]
  },
  {
   "cell_type": "code",
   "execution_count": 128,
   "id": "a3858c2d",
   "metadata": {},
   "outputs": [
    {
     "name": "stdout",
     "output_type": "stream",
     "text": [
      "['city', 'courses', 'name']\n"
     ]
    }
   ],
   "source": [
    "sorted_students = sorted(students)\n",
    "print(sorted_students) # just sorts the keys"
   ]
  },
  {
   "cell_type": "code",
   "execution_count": 133,
   "id": "637d7348",
   "metadata": {},
   "outputs": [
    {
     "name": "stdout",
     "output_type": "stream",
     "text": [
      "{'John': 'CS', 'Amy': 'ME', 'Aaron': 'EE', 'Bill': 'Nursing', 'Sam': 'Business'}\n"
     ]
    }
   ],
   "source": [
    "## Creating dict from tuples\n",
    "stu_name = ('John', 'Amy', 'Aaron', 'Bill', 'Sam')\n",
    "stu_major = ('CS', 'ME', 'EE', 'Nursing', 'Business')\n",
    "\n",
    "stu_tuple = zip(stu_name, stu_major)\n",
    "\n",
    "stu_dict = dict(stu_tuple)\n",
    "\n",
    "print(stu_dict)"
   ]
  },
  {
   "cell_type": "code",
   "execution_count": 134,
   "id": "9a2973ce",
   "metadata": {},
   "outputs": [
    {
     "name": "stdout",
     "output_type": "stream",
     "text": [
      "{'John': 'CS', 'Amy': 'ME', 'Aaron': 'EE', 'Bill': 'Nursing', 'Sam': 'Business'}\n"
     ]
    }
   ],
   "source": [
    "## Creating dict from lists, works too\n",
    "stu_name = ['John', 'Amy', 'Aaron', 'Bill', 'Sam']\n",
    "stu_major = ['CS', 'ME', 'EE', 'Nursing', 'Business']\n",
    "\n",
    "stu_tuple = zip(stu_name, stu_major)\n",
    "\n",
    "stu_dict = dict(stu_tuple)\n",
    "\n",
    "print(stu_dict)"
   ]
  },
  {
   "cell_type": "markdown",
   "id": "59f4ec15",
   "metadata": {},
   "source": [
    "## LOOPING"
   ]
  },
  {
   "cell_type": "markdown",
   "id": "f2fbe5cc",
   "metadata": {},
   "source": [
    "### For Loops\n",
    "* Iterate a certain number of times"
   ]
  },
  {
   "cell_type": "code",
   "execution_count": 49,
   "id": "d65af17f",
   "metadata": {},
   "outputs": [],
   "source": [
    "nums = [2,5,7,9]"
   ]
  },
  {
   "cell_type": "code",
   "execution_count": 28,
   "id": "f9085abf",
   "metadata": {},
   "outputs": [
    {
     "name": "stdout",
     "output_type": "stream",
     "text": [
      "2\n",
      "5\n",
      "7\n",
      "9\n"
     ]
    }
   ],
   "source": [
    "for num in nums:\n",
    "    print(num)"
   ]
  },
  {
   "cell_type": "markdown",
   "id": "2cf6d940",
   "metadata": {},
   "source": [
    "#### break - to terminate loop execution"
   ]
  },
  {
   "cell_type": "code",
   "execution_count": 34,
   "id": "9863ea88",
   "metadata": {},
   "outputs": [
    {
     "name": "stdout",
     "output_type": "stream",
     "text": [
      "2\n",
      "5\n",
      "Found 7\n"
     ]
    }
   ],
   "source": [
    "for num in nums:\n",
    "    if num == 7:\n",
    "        print(f'Found {num}')\n",
    "        break\n",
    "    print(num)    "
   ]
  },
  {
   "cell_type": "markdown",
   "id": "aea6e9a4",
   "metadata": {},
   "source": [
    "#### continue - to ignore a value and continue with next execution"
   ]
  },
  {
   "cell_type": "code",
   "execution_count": 33,
   "id": "ccd522a3",
   "metadata": {},
   "outputs": [
    {
     "name": "stdout",
     "output_type": "stream",
     "text": [
      "2\n",
      "5\n",
      "Found 7\n",
      "9\n"
     ]
    }
   ],
   "source": [
    "for num in nums:\n",
    "    if num == 7:\n",
    "        print(f'Found {num}')\n",
    "        continue\n",
    "    print(num)"
   ]
  },
  {
   "cell_type": "markdown",
   "id": "278ca025",
   "metadata": {},
   "source": [
    "### Looping through Strings"
   ]
  },
  {
   "cell_type": "code",
   "execution_count": 277,
   "id": "12c15b6f",
   "metadata": {},
   "outputs": [
    {
     "name": "stdout",
     "output_type": "stream",
     "text": [
      "H\n",
      "e\n",
      "l\n",
      "l\n",
      "o\n"
     ]
    }
   ],
   "source": [
    "str = 'Hello'\n",
    "\n",
    "# Simialr to lists - can access each element\n",
    "for char in str:\n",
    "    print(char)"
   ]
  },
  {
   "cell_type": "code",
   "execution_count": 278,
   "id": "27966a98",
   "metadata": {},
   "outputs": [
    {
     "name": "stdout",
     "output_type": "stream",
     "text": [
      "H\n",
      "E\n",
      "L\n",
      "L\n",
      "O\n"
     ]
    }
   ],
   "source": [
    "# Can perform operations while iterating\n",
    "for char in str:\n",
    "    print(char.capitalize()) # print(char.upper()) -- "
   ]
  },
  {
   "cell_type": "markdown",
   "id": "2fe9e7fa",
   "metadata": {},
   "source": [
    "### Nested Loops"
   ]
  },
  {
   "cell_type": "code",
   "execution_count": 279,
   "id": "28b571e0",
   "metadata": {},
   "outputs": [
    {
     "name": "stdout",
     "output_type": "stream",
     "text": [
      "1 x\n",
      "1 y\n",
      "1 z\n",
      "2 x\n",
      "2 y\n",
      "2 z\n",
      "3 x\n",
      "3 y\n",
      "3 z\n",
      "4 x\n",
      "4 y\n",
      "4 z\n",
      "5 x\n",
      "5 y\n",
      "5 z\n",
      "6 x\n",
      "6 y\n",
      "6 z\n",
      "7 x\n",
      "7 y\n",
      "7 z\n",
      "8 x\n",
      "8 y\n",
      "8 z\n",
      "9 x\n",
      "9 y\n",
      "9 z\n",
      "10 x\n",
      "10 y\n",
      "10 z\n"
     ]
    }
   ],
   "source": [
    "for num in nums:\n",
    "    for letter in 'xyz':\n",
    "        print(num, letter)"
   ]
  },
  {
   "cell_type": "markdown",
   "id": "48aaf582",
   "metadata": {},
   "source": [
    "* Gives every combination \n",
    "* Need to be careful as the combinations can grow pretty fast"
   ]
  },
  {
   "cell_type": "markdown",
   "id": "2e622541",
   "metadata": {},
   "source": [
    "### range()\n",
    "* To execute a loop a fixed number of times"
   ]
  },
  {
   "cell_type": "code",
   "execution_count": 280,
   "id": "0269e099",
   "metadata": {},
   "outputs": [
    {
     "name": "stdout",
     "output_type": "stream",
     "text": [
      "0\n",
      "1\n",
      "2\n",
      "3\n",
      "4\n",
      "5\n",
      "6\n",
      "7\n",
      "8\n",
      "9\n"
     ]
    }
   ],
   "source": [
    "for i in range(10):\n",
    "    print(i)"
   ]
  },
  {
   "cell_type": "markdown",
   "id": "c3faf007",
   "metadata": {},
   "source": [
    "* i starts from 0 and goes till 9 --> 10 values starting from 0 index"
   ]
  },
  {
   "cell_type": "code",
   "execution_count": 282,
   "id": "0ca509e2",
   "metadata": {},
   "outputs": [
    {
     "name": "stdout",
     "output_type": "stream",
     "text": [
      "1\n",
      "2\n",
      "3\n",
      "4\n",
      "5\n",
      "6\n",
      "7\n",
      "8\n",
      "9\n",
      "10\n"
     ]
    }
   ],
   "source": [
    "#### If we want to start from 1 instead and consider 10 values\n",
    "for i in range(1,11):\n",
    "    print(i)"
   ]
  },
  {
   "cell_type": "code",
   "execution_count": 283,
   "id": "3dbd5a02",
   "metadata": {},
   "outputs": [
    {
     "name": "stdout",
     "output_type": "stream",
     "text": [
      "2\n",
      "4\n",
      "6\n",
      "8\n"
     ]
    }
   ],
   "source": [
    "## let's say sometimes we don't know before hand what list we are working \n",
    "# with but just know that we are going to get a list with certain elements\n",
    "# In such cases, use range and len as below.\n",
    "\n",
    "#### Explain with an example of printing address cards for as many number of employees.\n",
    "### You don't need to iterate through actual employee objects just need to know how many times\n",
    "\n",
    "## common use of range is for iterating through sequences by index\n",
    "num_list = [1,2,3,4]\n",
    "\n",
    "for idx in range(len(num_list)):\n",
    "    print(num_list[idx] * 2)"
   ]
  },
  {
   "cell_type": "markdown",
   "id": "ddd4b469",
   "metadata": {},
   "source": [
    "### While Loops\n",
    "* Executed until a certain condition is met or until we encounter a break"
   ]
  },
  {
   "cell_type": "code",
   "execution_count": 284,
   "id": "614edb1a",
   "metadata": {},
   "outputs": [
    {
     "name": "stdout",
     "output_type": "stream",
     "text": [
      "0\n",
      "1\n",
      "2\n",
      "3\n",
      "4\n",
      "5\n",
      "6\n",
      "7\n",
      "8\n",
      "9\n"
     ]
    }
   ],
   "source": [
    "x = 0\n",
    "while x < 10:\n",
    "    # stop till here and show what's wrong\n",
    "    print(x)\n",
    "    x += 1\n",
    "    \n",
    "## What's wrong with above? Will get executed indefinitely coz x = 0\n",
    "# is always < 10. So to break or end the loop, need to increment it by 1"
   ]
  },
  {
   "cell_type": "code",
   "execution_count": 63,
   "id": "d1dd4022",
   "metadata": {},
   "outputs": [
    {
     "name": "stdout",
     "output_type": "stream",
     "text": [
      "0\n",
      "1\n",
      "2\n",
      "3\n",
      "4\n"
     ]
    }
   ],
   "source": [
    "## At any point we can break the loop by including a condition\n",
    "x = 0\n",
    "while x < 10:\n",
    "    if x == 5:\n",
    "        break\n",
    "    print(x)\n",
    "    x += 1"
   ]
  },
  {
   "cell_type": "code",
   "execution_count": 69,
   "id": "b96f71d3",
   "metadata": {},
   "outputs": [
    {
     "name": "stdout",
     "output_type": "stream",
     "text": [
      "0\n",
      "1\n",
      "2\n",
      "3\n",
      "4\n"
     ]
    }
   ],
   "source": [
    "### Can have a loop going on forever until we encounter a value that we are looking for\n",
    "\n",
    "### May be you want to keep checking for a DB connection -- until its available, you will keep checking for it\n",
    "\n",
    "x = 0\n",
    "\n",
    "while True:\n",
    "    if x == 5:\n",
    "        break\n",
    "    print(x)\n",
    "    x += 1\n",
    "    \n",
    "## In most environments and terminals, can break a loop by ctrl + c\n",
    "## or cmnd + c"
   ]
  },
  {
   "cell_type": "code",
   "execution_count": 289,
   "id": "b2beaac7",
   "metadata": {},
   "outputs": [
    {
     "name": "stdout",
     "output_type": "stream",
     "text": [
      "0 John\n",
      "1 Amy\n",
      "2 Ryan\n"
     ]
    }
   ],
   "source": [
    "emp_dict = ['John', 'Amy', 'Ryan']\n",
    "\n",
    "for idx, name in enumerate(emp_dict):\n",
    "    print(idx, name)"
   ]
  },
  {
   "cell_type": "markdown",
   "id": "d223657f",
   "metadata": {},
   "source": [
    "## LIST COMPREHENSIONS\n",
    "* Easier and more readable way to create a list"
   ]
  },
  {
   "cell_type": "code",
   "execution_count": null,
   "id": "acee0c80",
   "metadata": {},
   "outputs": [],
   "source": [
    "## Let's first see for loops and then will see list comprehensions \n",
    "# how easy they are to use, read, and write"
   ]
  },
  {
   "cell_type": "code",
   "execution_count": 72,
   "id": "5fed6e83",
   "metadata": {},
   "outputs": [
    {
     "name": "stdout",
     "output_type": "stream",
     "text": [
      "[1, 2, 3, 4, 5, 6, 7, 8, 9, 10]\n"
     ]
    }
   ],
   "source": [
    "# Let's say we want to create the below list\n",
    "nums = [1,2,3,4,5,6,7,8,9,10]\n",
    "\n",
    "# So first we start by creating an empty list\n",
    "num_list = []\n",
    "for n in nums:\n",
    "    num_list.append(n)\n",
    "print(num_list)"
   ]
  },
  {
   "cell_type": "code",
   "execution_count": 74,
   "id": "548f12f6",
   "metadata": {},
   "outputs": [
    {
     "name": "stdout",
     "output_type": "stream",
     "text": [
      "[1, 2, 3, 4, 5, 6, 7, 8, 9, 10]\n"
     ]
    }
   ],
   "source": [
    "## Now let's see with comprehensions\n",
    "num_list = [n for n in nums]\n",
    "print(num_list)\n",
    "\n",
    "## Very easy to write and understand -  like reading a sentence"
   ]
  },
  {
   "cell_type": "code",
   "execution_count": 75,
   "id": "d0a3df60",
   "metadata": {},
   "outputs": [
    {
     "name": "stdout",
     "output_type": "stream",
     "text": [
      "[1, 4, 9, 16, 25, 36, 49, 64, 81, 100]\n"
     ]
    }
   ],
   "source": [
    "## Let's get n^2 for each n in num\n",
    "\n",
    "## Usual approach with for loop\n",
    "num_sq_list = []\n",
    "for n in nums:\n",
    "    num_sq_list.append(n*n)\n",
    "print(num_sq_list)"
   ]
  },
  {
   "cell_type": "code",
   "execution_count": 77,
   "id": "ba332985",
   "metadata": {},
   "outputs": [
    {
     "name": "stdout",
     "output_type": "stream",
     "text": [
      "[1, 4, 9, 16, 25, 36, 49, 64, 81, 100]\n"
     ]
    }
   ],
   "source": [
    "### List comprehesnion way - better than maps and lamdas\n",
    "num_sq_list = [n*n for n in nums]\n",
    "print(num_sq_list)"
   ]
  },
  {
   "cell_type": "code",
   "execution_count": 78,
   "id": "72b7e888",
   "metadata": {},
   "outputs": [
    {
     "name": "stdout",
     "output_type": "stream",
     "text": [
      "[2, 4, 6, 8, 10]\n"
     ]
    }
   ],
   "source": [
    "### create a new list with only evens - have the class do, then show\n",
    "even_num_list = []\n",
    "\n",
    "for n in nums:\n",
    "    if n%2 == 0:\n",
    "        even_num_list.append(n)\n",
    "print(even_num_list)"
   ]
  },
  {
   "cell_type": "code",
   "execution_count": 80,
   "id": "e0c7ea7d",
   "metadata": {},
   "outputs": [
    {
     "name": "stdout",
     "output_type": "stream",
     "text": [
      "[2, 4, 6, 8, 10]\n"
     ]
    }
   ],
   "source": [
    "### list comp way\n",
    "\n",
    "even_num_list = [n for n in nums if n%2 == 0]\n",
    "print(even_num_list)\n",
    "\n",
    "# similar to filter and lambda functions"
   ]
  },
  {
   "cell_type": "code",
   "execution_count": 81,
   "id": "6033ee47",
   "metadata": {},
   "outputs": [
    {
     "name": "stdout",
     "output_type": "stream",
     "text": [
      "[(1, 'a'), (1, 'b'), (1, 'c'), (1, 'd'), (2, 'a'), (2, 'b'), (2, 'c'), (2, 'd'), (3, 'a'), (3, 'b'), (3, 'c'), (3, 'd'), (4, 'a'), (4, 'b'), (4, 'c'), (4, 'd')]\n"
     ]
    }
   ],
   "source": [
    "# Get a number, letter pair for each num in '1234' and for each letter \n",
    "# in 'abcd'\n",
    "\n",
    "## for loop way \n",
    "\n",
    "pair_list = []\n",
    "\n",
    "for num in range(1,5):\n",
    "    for char in 'abcd':\n",
    "        pair_list.append((num, char)) ## appending a tuple\n",
    "        \n",
    "print(pair_list)"
   ]
  },
  {
   "cell_type": "code",
   "execution_count": 82,
   "id": "1f9a39b2",
   "metadata": {},
   "outputs": [
    {
     "name": "stdout",
     "output_type": "stream",
     "text": [
      "[(1, 'a'), (1, 'b'), (1, 'c'), (1, 'd'), (2, 'a'), (2, 'b'), (2, 'c'), (2, 'd'), (3, 'a'), (3, 'b'), (3, 'c'), (3, 'd')]\n"
     ]
    }
   ],
   "source": [
    "## List comp way\n",
    "\n",
    "pair_list = [ (num, char) for num in range(1,4) for char in 'abcd']\n",
    "print(pair_list)"
   ]
  },
  {
   "cell_type": "code",
   "execution_count": 290,
   "id": "df1d1a7c",
   "metadata": {},
   "outputs": [
    {
     "name": "stdout",
     "output_type": "stream",
     "text": [
      "{'USA': 'Washington DC', 'France': 'Paris', 'Spain': 'Madrid', 'Germany': 'Berlin', 'Japan': 'Tokyo'}\n"
     ]
    }
   ],
   "source": [
    "## Dictionary Comprehensions ##\n",
    "\n",
    "countries = ['USA', 'France', 'Spain', 'Germany', 'Japan']\n",
    "capitals = ['Washington DC', 'Paris', 'Madrid', 'Berlin', 'Tokyo']\n",
    "\n",
    "# above both match index to index -- related to one another idx to idx\n",
    "## Show zip function --> zip function matches 1:1 in a tuple\n",
    "\n",
    "country_dict = {}\n",
    "\n",
    "for cntry, cap in zip(countries, capitals):\n",
    "    country_dict[cntry] = cap\n",
    "print(country_dict)"
   ]
  },
  {
   "cell_type": "code",
   "execution_count": 91,
   "id": "7d8d7690",
   "metadata": {},
   "outputs": [
    {
     "name": "stdout",
     "output_type": "stream",
     "text": [
      "{'USA': 'Washington DC', 'France': 'Paris', 'Spain': 'Madrid', 'Germany': 'Berlin', 'Japan': 'Tokyo'}\n"
     ]
    }
   ],
   "source": [
    "## Let's do list comp way\n",
    "\n",
    "country_dict = {cntry:cap for cntry, cap in zip (countries, capitals)}\n",
    "print(country_dict)"
   ]
  },
  {
   "cell_type": "code",
   "execution_count": 92,
   "id": "93ea4255",
   "metadata": {},
   "outputs": [
    {
     "name": "stdout",
     "output_type": "stream",
     "text": [
      "{'USA': 'Washington DC', 'France': 'Paris', 'Germany': 'Berlin', 'Japan': 'Tokyo'}\n"
     ]
    }
   ],
   "source": [
    "### Easy to add restrictions. May be we don't want to add Spain to the list\n",
    "country_dict = {cntry:cap for cntry, cap in zip (countries, capitals) if cntry != 'Spain'}\n",
    "print(country_dict)\n",
    "\n",
    "## comp - make it easy to add loops and conditions on existing comps"
   ]
  },
  {
   "cell_type": "code",
   "execution_count": 94,
   "id": "9d18000c",
   "metadata": {},
   "outputs": [
    {
     "name": "stdout",
     "output_type": "stream",
     "text": [
      "{1, 2, 3, 4, 5, 6, 7, 8, 9}\n"
     ]
    }
   ],
   "source": [
    "## Set Comprehensions ##\n",
    "\n",
    "## Set - all unique values\n",
    "\n",
    "num_list = [1,1,2,1,3,4,3,4,5,5,6,7,8,7,9,9]\n",
    "\n",
    "## Creating by for loop way\n",
    "\n",
    "num_set = set()\n",
    "\n",
    "for n in num_list:\n",
    "    num_set.add(n)\n",
    "print(num_set)"
   ]
  },
  {
   "cell_type": "code",
   "execution_count": 95,
   "id": "74125b8c",
   "metadata": {},
   "outputs": [
    {
     "name": "stdout",
     "output_type": "stream",
     "text": [
      "{1, 2, 3, 4, 5, 6, 7, 8, 9}\n"
     ]
    }
   ],
   "source": [
    "## List comp way\n",
    "\n",
    "my_set = {n for n in num_list}\n",
    "print(my_set)"
   ]
  },
  {
   "cell_type": "markdown",
   "id": "763519a5",
   "metadata": {},
   "source": [
    "## FUNCTIONS"
   ]
  },
  {
   "cell_type": "markdown",
   "id": "41cbb4da",
   "metadata": {},
   "source": [
    "_Some instructions packed together that perform certain tasks_"
   ]
  },
  {
   "cell_type": "markdown",
   "id": "7872a0a3",
   "metadata": {},
   "source": [
    "### Empty Function"
   ]
  },
  {
   "cell_type": "code",
   "execution_count": 175,
   "id": "42e0d2cd",
   "metadata": {},
   "outputs": [],
   "source": [
    "# () --> where we take parameters but don't have any now\n",
    "def ex_func():\n",
    "    # just to have an empty function but not defining anything to be executed yet\n",
    "    # so just having 'pass' here won't throw any errors saying blank function\n",
    "    pass"
   ]
  },
  {
   "cell_type": "code",
   "execution_count": 176,
   "id": "82be3a9a",
   "metadata": {},
   "outputs": [],
   "source": [
    "ex_func()"
   ]
  },
  {
   "cell_type": "code",
   "execution_count": null,
   "id": "f9d1d299",
   "metadata": {},
   "outputs": [],
   "source": [
    "# executes only with () but if we don't give, then it will just print the details that it is a function in main memory "
   ]
  },
  {
   "cell_type": "code",
   "execution_count": 177,
   "id": "f277eeae",
   "metadata": {},
   "outputs": [
    {
     "data": {
      "text/plain": [
       "<function __main__.ex_func()>"
      ]
     },
     "execution_count": 177,
     "metadata": {},
     "output_type": "execute_result"
    }
   ],
   "source": [
    "ex_func"
   ]
  },
  {
   "cell_type": "code",
   "execution_count": 179,
   "id": "28b05a46",
   "metadata": {},
   "outputs": [
    {
     "name": "stdout",
     "output_type": "stream",
     "text": [
      "None\n"
     ]
    }
   ],
   "source": [
    "# Prints None since we are not doing anything  inside the function yet\n",
    "print(ex_func())"
   ]
  },
  {
   "cell_type": "markdown",
   "id": "6d85c765",
   "metadata": {},
   "source": [
    "### Valid Function"
   ]
  },
  {
   "cell_type": "code",
   "execution_count": 196,
   "id": "103512a6",
   "metadata": {},
   "outputs": [],
   "source": [
    "# Let's add something to func\n",
    "def ex_func():\n",
    "    print('Hello')"
   ]
  },
  {
   "cell_type": "code",
   "execution_count": 197,
   "id": "f25b30b2",
   "metadata": {},
   "outputs": [],
   "source": [
    "## One advantage of functions is code re-usability. We can use the same function multiple times to perform a repetitive task\n",
    "## Specific purpose and available in a single location but can be accessed depending on its scope\n",
    "## Can make any changes only in a single location and the changes would be reflected wherever used"
   ]
  },
  {
   "cell_type": "code",
   "execution_count": 198,
   "id": "65209a11",
   "metadata": {},
   "outputs": [
    {
     "name": "stdout",
     "output_type": "stream",
     "text": [
      "Hello\n",
      "None\n",
      "Hello\n",
      "None\n"
     ]
    }
   ],
   "source": [
    "print(ex_func())\n",
    "print(ex_func())\n",
    "## with 2 prints - the actual function gets executed and also the outer print statement which prints None"
   ]
  },
  {
   "cell_type": "code",
   "execution_count": 199,
   "id": "ea00dedf",
   "metadata": {},
   "outputs": [
    {
     "name": "stdout",
     "output_type": "stream",
     "text": [
      "Hello\n"
     ]
    }
   ],
   "source": [
    "ex_func()"
   ]
  },
  {
   "cell_type": "code",
   "execution_count": 200,
   "id": "f9573d94",
   "metadata": {},
   "outputs": [
    {
     "name": "stdout",
     "output_type": "stream",
     "text": [
      "Hello\n"
     ]
    }
   ],
   "source": [
    "ex_func()"
   ]
  },
  {
   "cell_type": "code",
   "execution_count": 201,
   "id": "2bb1bb24",
   "metadata": {},
   "outputs": [],
   "source": [
    "###### This is called keeping your code - DRY - Don't Repeat Yourself ######"
   ]
  },
  {
   "cell_type": "markdown",
   "id": "deb2500a",
   "metadata": {},
   "source": [
    "### Returning Values"
   ]
  },
  {
   "cell_type": "markdown",
   "id": "3cafcc7c",
   "metadata": {},
   "source": [
    "* Powerful feature of functions where certain value can be returned as a result of some actions\n",
    "* Function takes an input and returns a value"
   ]
  },
  {
   "cell_type": "code",
   "execution_count": 229,
   "id": "b0565456",
   "metadata": {},
   "outputs": [],
   "source": [
    "def ex_func():\n",
    "    return 'Hello'"
   ]
  },
  {
   "cell_type": "code",
   "execution_count": 230,
   "id": "65b104bb",
   "metadata": {},
   "outputs": [
    {
     "data": {
      "text/plain": [
       "'Hello'"
      ]
     },
     "execution_count": 230,
     "metadata": {},
     "output_type": "execute_result"
    }
   ],
   "source": [
    "ex_func()"
   ]
  },
  {
   "cell_type": "code",
   "execution_count": 231,
   "id": "4b30205b",
   "metadata": {},
   "outputs": [
    {
     "data": {
      "text/plain": [
       "'hello'"
      ]
     },
     "execution_count": 231,
     "metadata": {},
     "output_type": "execute_result"
    }
   ],
   "source": [
    "## Can apply other functions to returned values\n",
    "ex_func().lower()"
   ]
  },
  {
   "cell_type": "code",
   "execution_count": 247,
   "id": "9da14676",
   "metadata": {},
   "outputs": [
    {
     "data": {
      "text/plain": [
       "'Hello'"
      ]
     },
     "execution_count": 247,
     "metadata": {},
     "output_type": "execute_result"
    }
   ],
   "source": [
    "greeting = ex_func()\n",
    "greeting"
   ]
  },
  {
   "cell_type": "markdown",
   "id": "1fa720ba",
   "metadata": {},
   "source": [
    "### Returning Multiple Values"
   ]
  },
  {
   "cell_type": "code",
   "execution_count": 248,
   "id": "ff914982",
   "metadata": {},
   "outputs": [],
   "source": [
    "def basic_calc(a, b):\n",
    "    num_sum = a+b\n",
    "    num_diff = a-b\n",
    "    num_prod = a*b\n",
    "    \n",
    "    return num_sum, num_diff, num_prod"
   ]
  },
  {
   "cell_type": "code",
   "execution_count": 249,
   "id": "3cef7e16",
   "metadata": {},
   "outputs": [
    {
     "data": {
      "text/plain": [
       "(25, 5, 150)"
      ]
     },
     "execution_count": 249,
     "metadata": {},
     "output_type": "execute_result"
    }
   ],
   "source": [
    "basic_calc(15,10)"
   ]
  },
  {
   "cell_type": "code",
   "execution_count": 250,
   "id": "f0bf7879",
   "metadata": {},
   "outputs": [
    {
     "data": {
      "text/plain": [
       "(25, 5, 150)"
      ]
     },
     "execution_count": 250,
     "metadata": {},
     "output_type": "execute_result"
    }
   ],
   "source": [
    "res = basic_calc(15, 10)\n",
    "res"
   ]
  },
  {
   "cell_type": "code",
   "execution_count": 254,
   "id": "841ec06c",
   "metadata": {},
   "outputs": [
    {
     "name": "stdout",
     "output_type": "stream",
     "text": [
      "sum_res:  25\n",
      "diff_res:  5\n",
      "mult_res:  150\n"
     ]
    }
   ],
   "source": [
    "sum_res, diff_res, mult_res = basic_calc(15, 10)\n",
    "print('sum_res: ', sum_res)\n",
    "print('diff_res: ', diff_res)\n",
    "print('mult_res: ', mult_res)"
   ]
  },
  {
   "cell_type": "markdown",
   "id": "45e0e8d7",
   "metadata": {},
   "source": [
    "### Passing Arguments"
   ]
  },
  {
   "cell_type": "code",
   "execution_count": 207,
   "id": "dbb969e4",
   "metadata": {},
   "outputs": [],
   "source": [
    "def ex_func(greeting, name):\n",
    "    return f'{greeting} {name}'"
   ]
  },
  {
   "cell_type": "code",
   "execution_count": 208,
   "id": "5a990518",
   "metadata": {},
   "outputs": [
    {
     "ename": "TypeError",
     "evalue": "ex_func() missing 2 required positional arguments: 'greeting' and 'name'",
     "output_type": "error",
     "traceback": [
      "\u001b[0;31m---------------------------------------------------------------------------\u001b[0m",
      "\u001b[0;31mTypeError\u001b[0m                                 Traceback (most recent call last)",
      "Cell \u001b[0;32mIn[208], line 1\u001b[0m\n\u001b[0;32m----> 1\u001b[0m \u001b[43mex_func\u001b[49m\u001b[43m(\u001b[49m\u001b[43m)\u001b[49m\n",
      "\u001b[0;31mTypeError\u001b[0m: ex_func() missing 2 required positional arguments: 'greeting' and 'name'"
     ]
    }
   ],
   "source": [
    "ex_func()"
   ]
  },
  {
   "cell_type": "code",
   "execution_count": 209,
   "id": "bbef57e8",
   "metadata": {},
   "outputs": [
    {
     "data": {
      "text/plain": [
       "'Hello Class'"
      ]
     },
     "execution_count": 209,
     "metadata": {},
     "output_type": "execute_result"
    }
   ],
   "source": [
    "ex_func('Hello', 'Class')"
   ]
  },
  {
   "cell_type": "code",
   "execution_count": 240,
   "id": "b1875543",
   "metadata": {},
   "outputs": [],
   "source": [
    "#### variables greeting, name are local to the function - local scope so they don't affect anything outside of \n",
    "#### the function"
   ]
  },
  {
   "cell_type": "markdown",
   "id": "4be90419",
   "metadata": {},
   "source": [
    "### Variable Scope"
   ]
  },
  {
   "cell_type": "code",
   "execution_count": 238,
   "id": "b031b096",
   "metadata": {},
   "outputs": [],
   "source": [
    "def create_list():\n",
    "    ''' ex_list is local to the function'''\n",
    "    ex_list = []\n",
    "    # range(5) --> considers values from 0,1,2,3,4\n",
    "    for i in range(5):\n",
    "        ex_list.append(i)\n",
    "    print('Example list from within the function: ', ex_list)"
   ]
  },
  {
   "cell_type": "code",
   "execution_count": 241,
   "id": "74ddf9b1",
   "metadata": {},
   "outputs": [
    {
     "name": "stdout",
     "output_type": "stream",
     "text": [
      "Example list from within the function:  [0, 1, 2, 3, 4]\n"
     ]
    },
    {
     "ename": "NameError",
     "evalue": "name 'ex_list' is not defined",
     "output_type": "error",
     "traceback": [
      "\u001b[0;31m---------------------------------------------------------------------------\u001b[0m",
      "\u001b[0;31mNameError\u001b[0m                                 Traceback (most recent call last)",
      "Cell \u001b[0;32mIn[241], line 2\u001b[0m\n\u001b[1;32m      1\u001b[0m create_list()\n\u001b[0;32m----> 2\u001b[0m \u001b[38;5;28mprint\u001b[39m(\u001b[38;5;124m'\u001b[39m\u001b[38;5;124mex_list from outside the function: \u001b[39m\u001b[38;5;124m'\u001b[39m, \u001b[43mex_list\u001b[49m)\n",
      "\u001b[0;31mNameError\u001b[0m: name 'ex_list' is not defined"
     ]
    }
   ],
   "source": [
    "create_list()\n",
    "print('ex_list from outside the function: ', ex_list)"
   ]
  },
  {
   "cell_type": "code",
   "execution_count": 243,
   "id": "4e020dbe",
   "metadata": {},
   "outputs": [],
   "source": [
    "# ex_list is global now\n",
    "ex_list = []\n",
    "\n",
    "def create_list():    \n",
    "    for i in range(5):\n",
    "        ex_list.append(i)\n",
    "    print('Example list from within the function: ', ex_list)"
   ]
  },
  {
   "cell_type": "code",
   "execution_count": 245,
   "id": "ba11eebc",
   "metadata": {},
   "outputs": [
    {
     "name": "stdout",
     "output_type": "stream",
     "text": [
      "Example list from within the function:  [0, 1, 2, 3, 4, 0, 1, 2, 3, 4]\n",
      "ex_list from outside the function:  [0, 1, 2, 3, 4, 0, 1, 2, 3, 4]\n"
     ]
    }
   ],
   "source": [
    "create_list()\n",
    "print('ex_list from outside the function: ', ex_list)"
   ]
  },
  {
   "cell_type": "code",
   "execution_count": 246,
   "id": "c4670af5",
   "metadata": {},
   "outputs": [
    {
     "name": "stdout",
     "output_type": "stream",
     "text": [
      "Example list from within the function:  [0, 1, 2, 3, 4, 0, 1, 2, 3, 4, 0, 1, 2, 3, 4]\n",
      "ex_list from outside the function:  [0, 1, 2, 3, 4, 0, 1, 2, 3, 4, 0, 1, 2, 3, 4]\n"
     ]
    }
   ],
   "source": [
    "create_list()\n",
    "print('ex_list from outside the function: ', ex_list)"
   ]
  },
  {
   "cell_type": "markdown",
   "id": "ff324f3b",
   "metadata": {},
   "source": [
    "### 'global' keyword"
   ]
  },
  {
   "cell_type": "code",
   "execution_count": 275,
   "id": "e1d17383",
   "metadata": {},
   "outputs": [],
   "source": [
    "def create_list():\n",
    "    ''' ex_list is global'''\n",
    "    global gl_list\n",
    "    gl_list = []\n",
    "    # range(5) --> considers values from 0,1,2,3,4\n",
    "    for i in range(5):\n",
    "        gl_list.append(i)\n",
    "    print('Example list from within the function: ', gl_list)"
   ]
  },
  {
   "cell_type": "code",
   "execution_count": 276,
   "id": "7b23bb37",
   "metadata": {},
   "outputs": [
    {
     "name": "stdout",
     "output_type": "stream",
     "text": [
      "Example list from within the function:  [0, 1, 2, 3, 4]\n",
      "ex_list from outside the function:  [0, 1, 2, 3, 4]\n"
     ]
    }
   ],
   "source": [
    "create_list()\n",
    "print('ex_list from outside the function: ', gl_list)"
   ]
  },
  {
   "cell_type": "markdown",
   "id": "4d5c05ca",
   "metadata": {},
   "source": [
    "#### IMPORTANT NOTE:\n",
    "\n",
    "* Know how it works but avoiding over-using it.\n",
    "* Typically, global variables are used to store some kind of state in a system. \n",
    "* If you find yourself using a lot of them, it may indicate a need for object-oriented programming."
   ]
  },
  {
   "cell_type": "markdown",
   "id": "8eb27d88",
   "metadata": {},
   "source": [
    "### Default Values for Arguments"
   ]
  },
  {
   "cell_type": "markdown",
   "id": "61869128",
   "metadata": {},
   "source": [
    "* In the above greeting, name are required arguments i.e function will throw an error if we call it without   specifying any values for those arguments\n",
    "* We can use default values to fall back onto if no values are passed to the arguments"
   ]
  },
  {
   "cell_type": "code",
   "execution_count": 210,
   "id": "d748aee9",
   "metadata": {},
   "outputs": [
    {
     "ename": "SyntaxError",
     "evalue": "non-default argument follows default argument (686097984.py, line 1)",
     "output_type": "error",
     "traceback": [
      "\u001b[0;36m  Cell \u001b[0;32mIn[210], line 1\u001b[0;36m\u001b[0m\n\u001b[0;31m    def ex_func(greeting='Hello', f_name, l_name):\u001b[0m\n\u001b[0m                                  ^\u001b[0m\n\u001b[0;31mSyntaxError\u001b[0m\u001b[0;31m:\u001b[0m non-default argument follows default argument\n"
     ]
    }
   ],
   "source": [
    "def ex_func(greeting='Hello', f_name, l_name):\n",
    "    return f'{greeting} {f_name} {l_name}'"
   ]
  },
  {
   "cell_type": "markdown",
   "id": "1698dfc1",
   "metadata": {},
   "source": [
    "#### Required positional or non-default arguments should come before default or key-word arguments"
   ]
  },
  {
   "cell_type": "code",
   "execution_count": 211,
   "id": "3c5891ab",
   "metadata": {},
   "outputs": [],
   "source": [
    "def ex_func(f_name, l_name, greeting='Hello'):\n",
    "    return f'{greeting} {f_name} {l_name}'"
   ]
  },
  {
   "cell_type": "code",
   "execution_count": 212,
   "id": "79aae6ea",
   "metadata": {},
   "outputs": [
    {
     "data": {
      "text/plain": [
       "'Hello John Doe'"
      ]
     },
     "execution_count": 212,
     "metadata": {},
     "output_type": "execute_result"
    }
   ],
   "source": [
    "ex_func('John', 'Doe')"
   ]
  },
  {
   "cell_type": "code",
   "execution_count": 214,
   "id": "3aec3b08",
   "metadata": {},
   "outputs": [
    {
     "data": {
      "text/plain": [
       "'Welcome John Doe'"
      ]
     },
     "execution_count": 214,
     "metadata": {},
     "output_type": "execute_result"
    }
   ],
   "source": [
    "# can pass our own greeting with specifying key value\n",
    "ex_func('John', 'Doe', greeting='Welcome')"
   ]
  },
  {
   "cell_type": "code",
   "execution_count": 215,
   "id": "11efe3ec",
   "metadata": {},
   "outputs": [
    {
     "data": {
      "text/plain": [
       "'Welcome Doe John'"
      ]
     },
     "execution_count": 215,
     "metadata": {},
     "output_type": "execute_result"
    }
   ],
   "source": [
    "ex_func('Doe', 'John', greeting='Welcome')"
   ]
  },
  {
   "cell_type": "code",
   "execution_count": 217,
   "id": "3fa82e9c",
   "metadata": {},
   "outputs": [
    {
     "data": {
      "text/plain": [
       "'Welcome John Doe'"
      ]
     },
     "execution_count": 217,
     "metadata": {},
     "output_type": "execute_result"
    }
   ],
   "source": [
    "# Can send in any order but then specify using the arg name\n",
    "ex_func(l_name='Doe', f_name='John', greeting='Welcome')"
   ]
  },
  {
   "cell_type": "markdown",
   "id": "0616171d",
   "metadata": {},
   "source": [
    "### *args, **kwargs\n",
    "* Allow us to accept an arbitrary number of positional (*args) or keyword arguments (**kwargs)"
   ]
  },
  {
   "cell_type": "code",
   "execution_count": 219,
   "id": "c6e88f69",
   "metadata": {},
   "outputs": [],
   "source": [
    "# Common to see in python functions\n",
    "def emp_info(*args, **kwargs):\n",
    "    print('args: ', args)\n",
    "    print('kwargs', kwargs)"
   ]
  },
  {
   "cell_type": "markdown",
   "id": "ea1b28a4",
   "metadata": {},
   "source": [
    "* Let's say emp_info takes positional arguments on projects worked and then some random number of skills \n",
    "* In both these situations, we can't tell how many of these positional or keyword arguments there would be hence, we use *args, **kwargs\n",
    "* args and kwargs are conventionally used but any other names can be used. \n",
    "* But recommended to follow conventions, so stick with those"
   ]
  },
  {
   "cell_type": "code",
   "execution_count": 220,
   "id": "a810c25b",
   "metadata": {},
   "outputs": [
    {
     "name": "stdout",
     "output_type": "stream",
     "text": [
      "args:  ('Web-App', 'DB')\n",
      "kwargs {'name': 'John Doe', 'city': 'Paris'}\n"
     ]
    }
   ],
   "source": [
    "emp_info(\"Web-App\", 'DB', name='John Doe', city='Paris')"
   ]
  },
  {
   "cell_type": "code",
   "execution_count": 221,
   "id": "18652edf",
   "metadata": {},
   "outputs": [],
   "source": [
    "## Observe that args is a tuple, kwargs is a dictionary with key-value pairs\n",
    "## Can do anything with these data structures now"
   ]
  },
  {
   "cell_type": "code",
   "execution_count": 223,
   "id": "21354072",
   "metadata": {},
   "outputs": [],
   "source": [
    "## Let's say we want to pass these values instead of declaring when calling the function\n",
    "projects = ['Web-App', 'DB']\n",
    "details = {'name': 'John Doe', 'city': 'Paris'}"
   ]
  },
  {
   "cell_type": "code",
   "execution_count": 226,
   "id": "417615ae",
   "metadata": {},
   "outputs": [
    {
     "name": "stdout",
     "output_type": "stream",
     "text": [
      "args:  (['Web-App', 'DB'], {'name': 'John Doe', 'city': 'Paris'})\n",
      "kwargs {}\n"
     ]
    }
   ],
   "source": [
    "emp_info(projects, details)\n",
    "#not what we wanted, just considered for the args"
   ]
  },
  {
   "cell_type": "code",
   "execution_count": 227,
   "id": "9cf90a46",
   "metadata": {},
   "outputs": [
    {
     "name": "stdout",
     "output_type": "stream",
     "text": [
      "args:  ('Web-App', 'DB')\n",
      "kwargs {'name': 'John Doe', 'city': 'Paris'}\n"
     ]
    }
   ],
   "source": [
    "## Use * and ** accordingly to unpack\n",
    "emp_info(*projects, **details)"
   ]
  }
 ],
 "metadata": {
  "kernelspec": {
   "display_name": "Python 3 (ipykernel)",
   "language": "python",
   "name": "python3"
  },
  "language_info": {
   "codemirror_mode": {
    "name": "ipython",
    "version": 3
   },
   "file_extension": ".py",
   "mimetype": "text/x-python",
   "name": "python",
   "nbconvert_exporter": "python",
   "pygments_lexer": "ipython3",
   "version": "3.10.8"
  }
 },
 "nbformat": 4,
 "nbformat_minor": 5
}
