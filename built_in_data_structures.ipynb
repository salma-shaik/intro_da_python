{
 "cells": [
  {
   "cell_type": "markdown",
   "id": "83ffe20f",
   "metadata": {},
   "source": [
    "### Modifying Lists"
   ]
  },
  {
   "cell_type": "code",
   "execution_count": 1,
   "id": "8b3bbf32",
   "metadata": {},
   "outputs": [
    {
     "data": {
      "text/plain": [
       "['John',\n",
       " 'Amy',\n",
       " 'Mike',\n",
       " 'Ron',\n",
       " 'Katie',\n",
       " 'Alice',\n",
       " 'Hanna',\n",
       " 'Jordan',\n",
       " 'Andy',\n",
       " 'Sam']"
      ]
     },
     "execution_count": 1,
     "metadata": {},
     "output_type": "execute_result"
    }
   ],
   "source": [
    "employees = ['John', 'Amy', 'Mike', 'Ron', 'Katie', 'Alice', 'Hanna', 'Jordan', 'Andy', 'Sam']\n",
    "employees"
   ]
  },
  {
   "cell_type": "markdown",
   "id": "663ee9fd",
   "metadata": {},
   "source": [
    "#### Modifying and adding new elements"
   ]
  },
  {
   "cell_type": "code",
   "execution_count": 34,
   "id": "2f100bd8",
   "metadata": {},
   "outputs": [
    {
     "data": {
      "text/plain": [
       "['Sam',\n",
       " 'Mike',\n",
       " 'Andy',\n",
       " 'Katie',\n",
       " 'Hanna',\n",
       " 'John Doe',\n",
       " 'Joseph',\n",
       " 'Jordan',\n",
       " 'Claire',\n",
       " 'Brandon']"
      ]
     },
     "execution_count": 34,
     "metadata": {},
     "output_type": "execute_result"
    }
   ],
   "source": [
    "# To change the value of an existing list element, access the element\n",
    "# by the index and assign the new value\n",
    "\n",
    "employees[5] = 'John Doe'\n",
    "employees"
   ]
  },
  {
   "cell_type": "code",
   "execution_count": null,
   "id": "12d98654",
   "metadata": {},
   "outputs": [],
   "source": []
  },
  {
   "cell_type": "code",
   "execution_count": 2,
   "id": "6df69538",
   "metadata": {},
   "outputs": [
    {
     "data": {
      "text/plain": [
       "['John',\n",
       " 'Amy',\n",
       " 'Mike',\n",
       " 'Ron',\n",
       " 'Katie',\n",
       " 'Alice',\n",
       " 'Hanna',\n",
       " 'Jordan',\n",
       " 'Andy',\n",
       " 'Sam',\n",
       " 'Noah']"
      ]
     },
     "execution_count": 2,
     "metadata": {},
     "output_type": "execute_result"
    }
   ],
   "source": [
    "# append - add an item to the list\n",
    "employees.append('Noah')\n",
    "employees"
   ]
  },
  {
   "cell_type": "code",
   "execution_count": 3,
   "id": "e413c94a",
   "metadata": {},
   "outputs": [
    {
     "data": {
      "text/plain": [
       "['Claire',\n",
       " 'John',\n",
       " 'Amy',\n",
       " 'Mike',\n",
       " 'Ron',\n",
       " 'Katie',\n",
       " 'Alice',\n",
       " 'Hanna',\n",
       " 'Jordan',\n",
       " 'Andy',\n",
       " 'Sam',\n",
       " 'Noah']"
      ]
     },
     "execution_count": 3,
     "metadata": {},
     "output_type": "execute_result"
    }
   ],
   "source": [
    "# insert - add an item to the list at a specific location\n",
    "employees.insert(0, 'Claire')\n",
    "employees"
   ]
  },
  {
   "cell_type": "code",
   "execution_count": 8,
   "id": "239e2c60",
   "metadata": {},
   "outputs": [
    {
     "data": {
      "text/plain": [
       "[['Joseph', 'Brandon', 'Katie'],\n",
       " 'Claire',\n",
       " 'John',\n",
       " 'Mike',\n",
       " 'Ron',\n",
       " 'Katie',\n",
       " 'Alice',\n",
       " 'Hanna',\n",
       " 'Jordan',\n",
       " 'Andy',\n",
       " 'Sam']"
      ]
     },
     "execution_count": 8,
     "metadata": {},
     "output_type": "execute_result"
    }
   ],
   "source": [
    "## When we have multiple values to add \n",
    "new_employees = ['Joseph', 'Brandon', 'Katie']\n",
    "                 \n",
    "# If we use insert - need to specify a particular location where the new elements should be inserted\n",
    "employees.insert(0, new_employees)             \n",
    "\n",
    "employees"
   ]
  },
  {
   "cell_type": "code",
   "execution_count": null,
   "id": "34b5b9ab",
   "metadata": {},
   "outputs": [],
   "source": [
    "## But with insert, the new list is just added as a list. Most often, the \n",
    "# requirement would be to add individuals elements of the list as a new\n",
    "# entry. extend mehtod helps t achieve this"
   ]
  },
  {
   "cell_type": "code",
   "execution_count": 9,
   "id": "b2a0f0e7",
   "metadata": {},
   "outputs": [
    {
     "data": {
      "text/plain": [
       "[['Joseph', 'Brandon', 'Katie'],\n",
       " 'Claire',\n",
       " 'John',\n",
       " 'Mike',\n",
       " 'Ron',\n",
       " 'Katie',\n",
       " 'Alice',\n",
       " 'Hanna',\n",
       " 'Jordan',\n",
       " 'Andy',\n",
       " 'Sam',\n",
       " 'Joseph',\n",
       " 'Brandon',\n",
       " 'Katie']"
      ]
     },
     "execution_count": 9,
     "metadata": {},
     "output_type": "execute_result"
    }
   ],
   "source": [
    "employees.extend(new_employees)\n",
    "employees"
   ]
  },
  {
   "cell_type": "markdown",
   "id": "7be90c6c",
   "metadata": {},
   "source": [
    "'insert' is computationally expensive compared with append, \n",
    "because references to subsequent elements have to be shifted \n",
    "internally to make room for the new element. If you need to insert\n",
    "elements at both the beginning and end of a sequence, you may wish\n",
    "to explore collections.deque, a double-ended queue, which is \n",
    "optimized for this purpose and found in the Python Standard Library."
   ]
  },
  {
   "cell_type": "markdown",
   "id": "87ea5a68",
   "metadata": {},
   "source": [
    "#### Removing elements"
   ]
  },
  {
   "cell_type": "code",
   "execution_count": 10,
   "id": "a537152b",
   "metadata": {},
   "outputs": [
    {
     "data": {
      "text/plain": [
       "'Katie'"
      ]
     },
     "execution_count": 10,
     "metadata": {},
     "output_type": "execute_result"
    }
   ],
   "source": [
    "# pop - delete the last element in the list - Last In First Out (LIFO)\n",
    "# pop returns the elemnt(s) removed\n",
    "employees.pop()"
   ]
  },
  {
   "cell_type": "code",
   "execution_count": 11,
   "id": "7dd071ec",
   "metadata": {},
   "outputs": [
    {
     "data": {
      "text/plain": [
       "'John'"
      ]
     },
     "execution_count": 11,
     "metadata": {},
     "output_type": "execute_result"
    }
   ],
   "source": [
    "# pop - to remove an element from a particular location, pass the index value\n",
    "employees.pop(2)"
   ]
  },
  {
   "cell_type": "code",
   "execution_count": 12,
   "id": "3ae48a91",
   "metadata": {},
   "outputs": [
    {
     "data": {
      "text/plain": [
       "['Joseph', 'Brandon', 'Katie']"
      ]
     },
     "execution_count": 12,
     "metadata": {},
     "output_type": "execute_result"
    }
   ],
   "source": [
    "employees.pop(0)"
   ]
  },
  {
   "cell_type": "code",
   "execution_count": 13,
   "id": "c9489240",
   "metadata": {},
   "outputs": [],
   "source": [
    "# 'remove' - removes an element by value\n",
    "# If there are duplicate entries, first such value is located and removed from the lis\n",
    "# 'remove' - doesn't return the element that is removed from the list\n",
    "employees.remove('Ron')"
   ]
  },
  {
   "cell_type": "code",
   "execution_count": 14,
   "id": "cfe832d5",
   "metadata": {},
   "outputs": [
    {
     "data": {
      "text/plain": [
       "['Claire',\n",
       " 'Mike',\n",
       " 'Katie',\n",
       " 'Alice',\n",
       " 'Hanna',\n",
       " 'Jordan',\n",
       " 'Andy',\n",
       " 'Sam',\n",
       " 'Joseph',\n",
       " 'Brandon']"
      ]
     },
     "execution_count": 14,
     "metadata": {},
     "output_type": "execute_result"
    }
   ],
   "source": [
    "employees"
   ]
  },
  {
   "cell_type": "markdown",
   "id": "cb1872be",
   "metadata": {},
   "source": [
    "#### Re-ordering and Sorting Lists"
   ]
  },
  {
   "cell_type": "code",
   "execution_count": 16,
   "id": "398896ae",
   "metadata": {},
   "outputs": [
    {
     "data": {
      "text/plain": [
       "['Brandon',\n",
       " 'Joseph',\n",
       " 'Sam',\n",
       " 'Andy',\n",
       " 'Jordan',\n",
       " 'Hanna',\n",
       " 'Alice',\n",
       " 'Katie',\n",
       " 'Mike',\n",
       " 'Claire']"
      ]
     },
     "execution_count": 16,
     "metadata": {},
     "output_type": "execute_result"
    }
   ],
   "source": [
    "employees.reverse()\n",
    "employees"
   ]
  },
  {
   "cell_type": "code",
   "execution_count": 17,
   "id": "ceda0ef9",
   "metadata": {},
   "outputs": [
    {
     "data": {
      "text/plain": [
       "['Alice',\n",
       " 'Andy',\n",
       " 'Brandon',\n",
       " 'Claire',\n",
       " 'Hanna',\n",
       " 'Jordan',\n",
       " 'Joseph',\n",
       " 'Katie',\n",
       " 'Mike',\n",
       " 'Sam']"
      ]
     },
     "execution_count": 17,
     "metadata": {},
     "output_type": "execute_result"
    }
   ],
   "source": [
    "# 'sort()' --> sorts in ascending order either alphabetically or numerically\n",
    "employees.sort()\n",
    "employees"
   ]
  },
  {
   "cell_type": "code",
   "execution_count": 18,
   "id": "c85aaf61",
   "metadata": {},
   "outputs": [
    {
     "data": {
      "text/plain": [
       "[2, 3, 6, 34, 90]"
      ]
     },
     "execution_count": 18,
     "metadata": {},
     "output_type": "execute_result"
    }
   ],
   "source": [
    "## numbers sorted in ascending order\n",
    "num_list = [34, 6, 2, 90, 3]\n",
    "num_list.sort()\n",
    "num_list"
   ]
  },
  {
   "cell_type": "code",
   "execution_count": 19,
   "id": "8c29ee4e",
   "metadata": {},
   "outputs": [
    {
     "name": "stdout",
     "output_type": "stream",
     "text": [
      "['Sam', 'Mike', 'Katie', 'Joseph', 'Jordan', 'Hanna', 'Claire', 'Brandon', 'Andy', 'Alice']\n",
      "[90, 34, 6, 3, 2]\n"
     ]
    }
   ],
   "source": [
    "## to sort in descending --> could use sort then use reverse but better way is to use reverse=True flag\n",
    "employees.sort(reverse=True)\n",
    "num_list.sort(reverse=True)\n",
    "\n",
    "print(employees)\n",
    "print(num_list)"
   ]
  },
  {
   "cell_type": "code",
   "execution_count": 20,
   "id": "4d6b702e",
   "metadata": {},
   "outputs": [
    {
     "name": "stdout",
     "output_type": "stream",
     "text": [
      "['Sam', 'Mike', 'Katie', 'Joseph', 'Jordan', 'Hanna', 'Claire', 'Brandon', 'Andy', 'Alice']\n",
      "['Alice', 'Andy', 'Brandon', 'Claire', 'Hanna', 'Jordan', 'Joseph', 'Katie', 'Mike', 'Sam']\n"
     ]
    }
   ],
   "source": [
    "## 'sort()' --> sorts the original list in place\n",
    "## If we don't want to modify the original list, we can 'sorted' method which returns a new sorted list\n",
    "srtd_emps = sorted(employees)\n",
    "\n",
    "print(employees)\n",
    "print(srtd_emps)"
   ]
  },
  {
   "cell_type": "code",
   "execution_count": 21,
   "id": "4c226d49",
   "metadata": {},
   "outputs": [
    {
     "data": {
      "text/plain": [
       "['Sam',\n",
       " 'Mike',\n",
       " 'Andy',\n",
       " 'Katie',\n",
       " 'Hanna',\n",
       " 'Alice',\n",
       " 'Joseph',\n",
       " 'Jordan',\n",
       " 'Claire',\n",
       " 'Brandon']"
      ]
     },
     "execution_count": 21,
     "metadata": {},
     "output_type": "execute_result"
    }
   ],
   "source": [
    "## can sort using a sort key - based on a function\n",
    "# for example, we might sort employees based on the length of their names\n",
    "\n",
    "employees.sort(key=len)\n",
    "employees"
   ]
  },
  {
   "cell_type": "code",
   "execution_count": 22,
   "id": "8ccf60cd",
   "metadata": {},
   "outputs": [
    {
     "name": "stdout",
     "output_type": "stream",
     "text": [
      "[-6, -5, -4, 1, 2, 3]\n"
     ]
    }
   ],
   "source": [
    "# If we have some negative numbers to sort\n",
    "neg_nums = [-6, -5, -4, 1, 2, 3]\n",
    "# sorted in ascending order by default\n",
    "print(sorted(neg_nums)) "
   ]
  },
  {
   "cell_type": "code",
   "execution_count": 23,
   "id": "e6f451ff",
   "metadata": {},
   "outputs": [
    {
     "name": "stdout",
     "output_type": "stream",
     "text": [
      "[1, 2, 3, -4, -5, -6]\n"
     ]
    }
   ],
   "source": [
    "## We could sort by absolute values\n",
    "print(sorted(neg_nums, key=abs))"
   ]
  },
  {
   "cell_type": "markdown",
   "id": "c5c535e0",
   "metadata": {},
   "source": [
    "#### Finding the min, max, sum of list elements"
   ]
  },
  {
   "cell_type": "code",
   "execution_count": 24,
   "id": "0a1176f7",
   "metadata": {},
   "outputs": [
    {
     "name": "stdout",
     "output_type": "stream",
     "text": [
      "2\n",
      "90\n",
      "135\n"
     ]
    }
   ],
   "source": [
    "print(min(num_list))\n",
    "print(max(num_list))\n",
    "print(sum(num_list))"
   ]
  },
  {
   "cell_type": "markdown",
   "id": "f51a2c6d",
   "metadata": {},
   "source": [
    "#### Finding the index of an element"
   ]
  },
  {
   "cell_type": "code",
   "execution_count": 25,
   "id": "602fe0e0",
   "metadata": {},
   "outputs": [
    {
     "data": {
      "text/plain": [
       "8"
      ]
     },
     "execution_count": 25,
     "metadata": {},
     "output_type": "execute_result"
    }
   ],
   "source": [
    "employees.index('Claire')"
   ]
  },
  {
   "cell_type": "code",
   "execution_count": 27,
   "id": "c9b57dec",
   "metadata": {},
   "outputs": [
    {
     "ename": "ValueError",
     "evalue": "'Tom' is not in list",
     "output_type": "error",
     "traceback": [
      "\u001b[0;31m---------------------------------------------------------------------------\u001b[0m",
      "\u001b[0;31mValueError\u001b[0m                                Traceback (most recent call last)",
      "Cell \u001b[0;32mIn[27], line 2\u001b[0m\n\u001b[1;32m      1\u001b[0m \u001b[38;5;66;03m# value error if element doesn't exist\u001b[39;00m\n\u001b[0;32m----> 2\u001b[0m \u001b[43memployees\u001b[49m\u001b[38;5;241;43m.\u001b[39;49m\u001b[43mindex\u001b[49m\u001b[43m(\u001b[49m\u001b[38;5;124;43m'\u001b[39;49m\u001b[38;5;124;43mTom\u001b[39;49m\u001b[38;5;124;43m'\u001b[39;49m\u001b[43m)\u001b[49m\n",
      "\u001b[0;31mValueError\u001b[0m: 'Tom' is not in list"
     ]
    }
   ],
   "source": [
    "# value error if element doesn't exist\n",
    "employees.index('Tom')"
   ]
  },
  {
   "cell_type": "markdown",
   "id": "fe1b5105",
   "metadata": {},
   "source": [
    "#### Using the 'in' operator"
   ]
  },
  {
   "cell_type": "code",
   "execution_count": 28,
   "id": "9f9addfc",
   "metadata": {},
   "outputs": [
    {
     "data": {
      "text/plain": [
       "False"
      ]
     },
     "execution_count": 28,
     "metadata": {},
     "output_type": "execute_result"
    }
   ],
   "source": [
    "## Check whether a value is there in the list or not\n",
    "'Matt' in employees"
   ]
  },
  {
   "cell_type": "code",
   "execution_count": 30,
   "id": "a087ef5a",
   "metadata": {},
   "outputs": [
    {
     "data": {
      "text/plain": [
       "True"
      ]
     },
     "execution_count": 30,
     "metadata": {},
     "output_type": "execute_result"
    }
   ],
   "source": [
    "'Alice' in employees"
   ]
  },
  {
   "cell_type": "markdown",
   "id": "f8cf87d4",
   "metadata": {},
   "source": [
    "#### List to String"
   ]
  },
  {
   "cell_type": "code",
   "execution_count": 31,
   "id": "677d6e39",
   "metadata": {},
   "outputs": [
    {
     "data": {
      "text/plain": [
       "'Sam, Mike, Andy, Katie, Hanna, Alice, Joseph, Jordan, Claire, Brandon'"
      ]
     },
     "execution_count": 31,
     "metadata": {},
     "output_type": "execute_result"
    }
   ],
   "source": [
    "# 'join' - We can join the elements of the list together with a ',' to concatenate\n",
    "# all the list elements to form a string\n",
    "\n",
    "employees_str = ', '.join(employees)\n",
    "employees_str"
   ]
  },
  {
   "cell_type": "code",
   "execution_count": 32,
   "id": "a4825cfe",
   "metadata": {},
   "outputs": [
    {
     "data": {
      "text/plain": [
       "'Sam-Mike-Andy-Katie-Hanna-Alice-Joseph-Jordan-Claire-Brandon'"
      ]
     },
     "execution_count": 32,
     "metadata": {},
     "output_type": "execute_result"
    }
   ],
   "source": [
    "# Can use any other character with join\n",
    "employees_str = '-'.join(employees)\n",
    "employees_str"
   ]
  },
  {
   "cell_type": "markdown",
   "id": "cd0bde94",
   "metadata": {},
   "source": [
    "#### String to List"
   ]
  },
  {
   "cell_type": "code",
   "execution_count": 33,
   "id": "4d04613f",
   "metadata": {},
   "outputs": [
    {
     "data": {
      "text/plain": [
       "['Sam',\n",
       " 'Mike',\n",
       " 'Andy',\n",
       " 'Katie',\n",
       " 'Hanna',\n",
       " 'Alice',\n",
       " 'Joseph',\n",
       " 'Jordan',\n",
       " 'Claire',\n",
       " 'Brandon']"
      ]
     },
     "execution_count": 33,
     "metadata": {},
     "output_type": "execute_result"
    }
   ],
   "source": [
    "# can split string chars into list elements by using a particualr split character\n",
    "# Let's split the 'employees_str' on '-'\n",
    "\n",
    "emp_list_from_str = employees_str.split('-')\n",
    "emp_list_from_str"
   ]
  },
  {
   "cell_type": "markdown",
   "id": "6b200102",
   "metadata": {},
   "source": [
    "## TUPLES"
   ]
  },
  {
   "cell_type": "markdown",
   "id": "44a4f94e",
   "metadata": {},
   "source": [
    "* sequence of values similar to lists but immutable\n",
    "* Immutable --> Once a tuple is created, new values cannot be added "
   ]
  },
  {
   "cell_type": "code",
   "execution_count": 35,
   "id": "88c4841d",
   "metadata": {},
   "outputs": [
    {
     "data": {
      "text/plain": [
       "('Japan', 'Brazil', 'Spain', 'Kenya', 'Australia')"
      ]
     },
     "execution_count": 35,
     "metadata": {},
     "output_type": "execute_result"
    }
   ],
   "source": [
    "tup1 = ('Japan', 'Brazil', 'Spain', 'Kenya', 'Australia')\n",
    "tup1"
   ]
  },
  {
   "cell_type": "code",
   "execution_count": 37,
   "id": "df74996a",
   "metadata": {},
   "outputs": [
    {
     "ename": "TypeError",
     "evalue": "'tuple' object does not support item assignment",
     "output_type": "error",
     "traceback": [
      "\u001b[0;31m---------------------------------------------------------------------------\u001b[0m",
      "\u001b[0;31mTypeError\u001b[0m                                 Traceback (most recent call last)",
      "Cell \u001b[0;32mIn[37], line 2\u001b[0m\n\u001b[1;32m      1\u001b[0m \u001b[38;5;66;03m# If we try to change the value of an existing element, we get type error\u001b[39;00m\n\u001b[0;32m----> 2\u001b[0m \u001b[43mtup1\u001b[49m\u001b[43m[\u001b[49m\u001b[38;5;241;43m3\u001b[39;49m\u001b[43m]\u001b[49m \u001b[38;5;241m=\u001b[39m \u001b[38;5;124m'\u001b[39m\u001b[38;5;124mItaly\u001b[39m\u001b[38;5;124m'\u001b[39m\n\u001b[1;32m      3\u001b[0m tup1\n",
      "\u001b[0;31mTypeError\u001b[0m: 'tuple' object does not support item assignment"
     ]
    }
   ],
   "source": [
    "# If we try to change the value of an existing element, we get type error\n",
    "tup1[3] = 'Italy'\n",
    "tup1"
   ]
  },
  {
   "cell_type": "code",
   "execution_count": 38,
   "id": "0443b7bf",
   "metadata": {},
   "outputs": [
    {
     "data": {
      "text/plain": [
       "1"
      ]
     },
     "execution_count": 38,
     "metadata": {},
     "output_type": "execute_result"
    }
   ],
   "source": [
    "## Few tuple methods\n",
    "tup1.count('Japan')"
   ]
  },
  {
   "cell_type": "code",
   "execution_count": 39,
   "id": "b71f235c",
   "metadata": {},
   "outputs": [
    {
     "data": {
      "text/plain": [
       "2"
      ]
     },
     "execution_count": 39,
     "metadata": {},
     "output_type": "execute_result"
    }
   ],
   "source": [
    "tup1.index('Spain')"
   ]
  },
  {
   "cell_type": "code",
   "execution_count": 40,
   "id": "4a48bc4d",
   "metadata": {},
   "outputs": [
    {
     "data": {
      "text/plain": [
       "('s', 't', 'r', 'i', 'n', 'g')"
      ]
     },
     "execution_count": 40,
     "metadata": {},
     "output_type": "execute_result"
    }
   ],
   "source": [
    "# convert any sequence to tuple\n",
    "str_tuple = tuple('string')\n",
    "str_tuple"
   ]
  },
  {
   "cell_type": "code",
   "execution_count": 41,
   "id": "e5a127bf",
   "metadata": {},
   "outputs": [
    {
     "data": {
      "text/plain": [
       "'Spain'"
      ]
     },
     "execution_count": 41,
     "metadata": {},
     "output_type": "execute_result"
    }
   ],
   "source": [
    "# Accessing tuple elements\n",
    "tup1[2]"
   ]
  },
  {
   "cell_type": "markdown",
   "id": "074e1bc0",
   "metadata": {},
   "source": [
    "While the tuples themselves may not be modified, but the objects inside the tuple can be modified if they are mutable\n",
    "But once the tuple is created it’s not possible to modify which \n",
    "object is stored in each slot"
   ]
  },
  {
   "cell_type": "code",
   "execution_count": 42,
   "id": "7ea18dac",
   "metadata": {},
   "outputs": [
    {
     "data": {
      "text/plain": [
       "('foo', [1, 2, 3], True)"
      ]
     },
     "execution_count": 42,
     "metadata": {},
     "output_type": "execute_result"
    }
   ],
   "source": [
    "tuple1 = tuple(['foo', [1, 2], True])\n",
    "\n",
    "# Here, the second tuple element [1,2] is mutable so we can modify that element\n",
    "tuple1[1].append(3)\n",
    "tuple1"
   ]
  },
  {
   "cell_type": "markdown",
   "id": "69f06174",
   "metadata": {},
   "source": [
    "### Basic arithmetic operations on tuples"
   ]
  },
  {
   "cell_type": "markdown",
   "id": "6a3a9a84",
   "metadata": {},
   "source": [
    "#### Concatenate tuples"
   ]
  },
  {
   "cell_type": "code",
   "execution_count": 44,
   "id": "3a4a3950",
   "metadata": {},
   "outputs": [
    {
     "data": {
      "text/plain": [
       "(1, 'Math', False, 25, 3.2, 'C20')"
      ]
     },
     "execution_count": 44,
     "metadata": {},
     "output_type": "execute_result"
    }
   ],
   "source": [
    "(1, 'Math', False) + (25, 3.2) + ('C20',)"
   ]
  },
  {
   "cell_type": "code",
   "execution_count": 49,
   "id": "e4cbb349",
   "metadata": {},
   "outputs": [
    {
     "ename": "TypeError",
     "evalue": "can only concatenate tuple (not \"str\") to tuple",
     "output_type": "error",
     "traceback": [
      "\u001b[0;31m---------------------------------------------------------------------------\u001b[0m",
      "\u001b[0;31mTypeError\u001b[0m                                 Traceback (most recent call last)",
      "Cell \u001b[0;32mIn[49], line 5\u001b[0m\n\u001b[1;32m      1\u001b[0m \u001b[38;5;66;03m## Observe the ',' after 'C20' in the third tuple. When there is only a single element in\u001b[39;00m\n\u001b[1;32m      2\u001b[0m \u001b[38;5;66;03m## the tuple, we need to include a ',' otherwise, it will be considered as string as shown below\u001b[39;00m\n\u001b[1;32m      3\u001b[0m \u001b[38;5;66;03m## The same applies for lists too\u001b[39;00m\n\u001b[0;32m----> 5\u001b[0m \u001b[43m(\u001b[49m\u001b[38;5;241;43m1\u001b[39;49m\u001b[43m,\u001b[49m\u001b[43m \u001b[49m\u001b[38;5;124;43m'\u001b[39;49m\u001b[38;5;124;43mMath\u001b[39;49m\u001b[38;5;124;43m'\u001b[39;49m\u001b[43m,\u001b[49m\u001b[43m \u001b[49m\u001b[38;5;28;43;01mFalse\u001b[39;49;00m\u001b[43m)\u001b[49m\u001b[43m \u001b[49m\u001b[38;5;241;43m+\u001b[39;49m\u001b[43m \u001b[49m\u001b[43m(\u001b[49m\u001b[38;5;241;43m25\u001b[39;49m\u001b[43m,\u001b[49m\u001b[43m \u001b[49m\u001b[38;5;241;43m3.2\u001b[39;49m\u001b[43m)\u001b[49m\u001b[43m \u001b[49m\u001b[38;5;241;43m+\u001b[39;49m\u001b[43m \u001b[49m\u001b[43m(\u001b[49m\u001b[38;5;124;43m'\u001b[39;49m\u001b[38;5;124;43mC20\u001b[39;49m\u001b[38;5;124;43m'\u001b[39;49m\u001b[43m)\u001b[49m\n",
      "\u001b[0;31mTypeError\u001b[0m: can only concatenate tuple (not \"str\") to tuple"
     ]
    }
   ],
   "source": [
    "## Observe the ',' after 'C20' in the third tuple. When there is only a single element in\n",
    "## the tuple, we need to include a ',' otherwise, it will be considered as string as shown below\n",
    "## The same applies for lists too\n",
    "\n",
    "(1, 'Math', False) + (25, 3.2) + ('C20')"
   ]
  },
  {
   "cell_type": "markdown",
   "id": "92b54b03",
   "metadata": {},
   "source": [
    "#### Multiplying a tuple by an integer"
   ]
  },
  {
   "cell_type": "code",
   "execution_count": 47,
   "id": "7ae0a8be",
   "metadata": {},
   "outputs": [
    {
     "data": {
      "text/plain": [
       "'Hello Hello Hello '"
      ]
     },
     "execution_count": 47,
     "metadata": {},
     "output_type": "execute_result"
    }
   ],
   "source": [
    "('Hello ') * 3"
   ]
  },
  {
   "cell_type": "code",
   "execution_count": 48,
   "id": "12615dce",
   "metadata": {},
   "outputs": [
    {
     "data": {
      "text/plain": [
       "['Hello ', 'Hello ', 'Hello ']"
      ]
     },
     "execution_count": 48,
     "metadata": {},
     "output_type": "execute_result"
    }
   ],
   "source": [
    "## Works with lists too\n",
    "\n",
    "['Hello ', ] * 3"
   ]
  },
  {
   "cell_type": "markdown",
   "id": "99a5cff5",
   "metadata": {},
   "source": [
    "### Unpacking tuples"
   ]
  },
  {
   "cell_type": "code",
   "execution_count": 51,
   "id": "919f8f81",
   "metadata": {},
   "outputs": [
    {
     "name": "stdout",
     "output_type": "stream",
     "text": [
      "10\n",
      "20\n",
      "30\n"
     ]
    }
   ],
   "source": [
    "# Below technique is called unpacking. We can assign the tuple elements to separate variables as shown below\n",
    "tuple1 = (10, 20, 30)\n",
    "a,b,c = tuple1\n",
    "print(a)\n",
    "print(b)\n",
    "print(c)"
   ]
  },
  {
   "cell_type": "code",
   "execution_count": 53,
   "id": "50f3a913",
   "metadata": {},
   "outputs": [
    {
     "name": "stdout",
     "output_type": "stream",
     "text": [
      "tup:  (1, 2, (3, 4))\n",
      "c:  3\n"
     ]
    }
   ],
   "source": [
    "# Even sequences with nested tuples can be unpacked\n",
    "tup = 1,2,(3,4)\n",
    "\n",
    "print('tup: ', tup)\n",
    "a,b,(c,d) = tup\n",
    "\n",
    "print('c: ', c)"
   ]
  },
  {
   "cell_type": "markdown",
   "id": "a8c3a624",
   "metadata": {},
   "source": [
    "## SETS"
   ]
  },
  {
   "cell_type": "markdown",
   "id": "76e0002e",
   "metadata": {},
   "source": [
    "* Unordered\n",
    "* No duplicates"
   ]
  },
  {
   "cell_type": "code",
   "execution_count": 54,
   "id": "9e83d553",
   "metadata": {},
   "outputs": [
    {
     "data": {
      "text/plain": [
       "{'Australia', 'Brazil', 'Japan', 'Kenya', 'Spain'}"
      ]
     },
     "execution_count": 54,
     "metadata": {},
     "output_type": "execute_result"
    }
   ],
   "source": [
    "countries = {'Japan', 'Brazil', 'Spain', 'Kenya', 'Australia'}\n",
    "countries"
   ]
  },
  {
   "cell_type": "markdown",
   "id": "933ca63f",
   "metadata": {},
   "source": [
    "* Unlike lists or tuples, sets dont care about order so sometimes the order can change with each execution\n",
    "\n",
    "* Since sets dont care about order so some of the common use cases for set is to test whether a value is part of the set and also to remove duplicates - this is called Membership Test\n",
    "* Sets are optimized for membership tests\n",
    "* Checking whether a list contains a value is a lot slower than doing  so with dictionaries and sets (to be introduced shortly), as Python makes a linear scan across the values of the list, whereas it can check the others (based on hash tables) in constant time"
   ]
  },
  {
   "cell_type": "code",
   "execution_count": 55,
   "id": "70df0d2b",
   "metadata": {},
   "outputs": [
    {
     "data": {
      "text/plain": [
       "False"
      ]
     },
     "execution_count": 55,
     "metadata": {},
     "output_type": "execute_result"
    }
   ],
   "source": [
    "'Iran' in countries"
   ]
  },
  {
   "cell_type": "markdown",
   "id": "bec4e1a5",
   "metadata": {},
   "source": [
    "* Another important note - sets help to determine either what values are shared or not shared"
   ]
  },
  {
   "cell_type": "code",
   "execution_count": 56,
   "id": "29bb6c15",
   "metadata": {},
   "outputs": [
    {
     "data": {
      "text/plain": [
       "{'Chile', 'Iran', 'Japan', 'Kenya', 'Spain'}"
      ]
     },
     "execution_count": 56,
     "metadata": {},
     "output_type": "execute_result"
    }
   ],
   "source": [
    "# Lets crate another set of countries\n",
    "countries1 = {'Japan', 'Chile', 'Spain', 'Kenya', 'Iran', 'Japan'}\n",
    "countries1"
   ]
  },
  {
   "cell_type": "code",
   "execution_count": 57,
   "id": "a338e9c1",
   "metadata": {},
   "outputs": [
    {
     "data": {
      "text/plain": [
       "{'Japan', 'Kenya', 'Spain'}"
      ]
     },
     "execution_count": 57,
     "metadata": {},
     "output_type": "execute_result"
    }
   ],
   "source": [
    "# Getting the common elements from countries and countries1\n",
    "countries.intersection(countries1)"
   ]
  },
  {
   "cell_type": "code",
   "execution_count": 58,
   "id": "3a421557",
   "metadata": {},
   "outputs": [
    {
     "data": {
      "text/plain": [
       "{'Japan', 'Kenya', 'Spain'}"
      ]
     },
     "execution_count": 58,
     "metadata": {},
     "output_type": "execute_result"
    }
   ],
   "source": [
    "## Can also get common countries using '&' operator\n",
    "countries & countries1"
   ]
  },
  {
   "cell_type": "code",
   "execution_count": 59,
   "id": "6599879d",
   "metadata": {},
   "outputs": [
    {
     "data": {
      "text/plain": [
       "{'Australia', 'Brazil'}"
      ]
     },
     "execution_count": 59,
     "metadata": {},
     "output_type": "execute_result"
    }
   ],
   "source": [
    "# Elements in one set but not in other\n",
    "countries.difference(countries1)"
   ]
  },
  {
   "cell_type": "code",
   "execution_count": 60,
   "id": "744aa158",
   "metadata": {},
   "outputs": [
    {
     "data": {
      "text/plain": [
       "{'Australia', 'Brazil'}"
      ]
     },
     "execution_count": 60,
     "metadata": {},
     "output_type": "execute_result"
    }
   ],
   "source": [
    "# Could also get the difference using '-' operator\n",
    "countries - countries1"
   ]
  },
  {
   "cell_type": "code",
   "execution_count": 62,
   "id": "a5109267",
   "metadata": {},
   "outputs": [
    {
     "data": {
      "text/plain": [
       "{'Australia', 'Brazil', 'Chile', 'Iran', 'Japan', 'Kenya', 'Spain'}"
      ]
     },
     "execution_count": 62,
     "metadata": {},
     "output_type": "execute_result"
    }
   ],
   "source": [
    "# Union of 2 sets - combine elements\n",
    "countries.union(countries1)"
   ]
  },
  {
   "cell_type": "code",
   "execution_count": 65,
   "id": "1851a657",
   "metadata": {},
   "outputs": [
    {
     "ename": "TypeError",
     "evalue": "unsupported operand type(s) for +: 'set' and 'set'",
     "output_type": "error",
     "traceback": [
      "\u001b[0;31m---------------------------------------------------------------------------\u001b[0m",
      "\u001b[0;31mTypeError\u001b[0m                                 Traceback (most recent call last)",
      "Cell \u001b[0;32mIn[65], line 2\u001b[0m\n\u001b[1;32m      1\u001b[0m \u001b[38;5;66;03m# Note: '+' is not supported\u001b[39;00m\n\u001b[0;32m----> 2\u001b[0m \u001b[43mcountries\u001b[49m\u001b[43m \u001b[49m\u001b[38;5;241;43m+\u001b[39;49m\u001b[43m \u001b[49m\u001b[43mcountries1\u001b[49m\n",
      "\u001b[0;31mTypeError\u001b[0m: unsupported operand type(s) for +: 'set' and 'set'"
     ]
    }
   ],
   "source": [
    "# Note: '+' is not supported\n",
    "countries + countries1"
   ]
  },
  {
   "cell_type": "code",
   "execution_count": 66,
   "id": "1624455a",
   "metadata": {},
   "outputs": [
    {
     "data": {
      "text/plain": [
       "{'Australia', 'Brazil', 'Chile', 'Iran', 'Japan', 'Kenya', 'Spain'}"
      ]
     },
     "execution_count": 66,
     "metadata": {},
     "output_type": "execute_result"
    }
   ],
   "source": [
    "# But binary operator '|' works for union\n",
    "countries | countries1"
   ]
  },
  {
   "cell_type": "code",
   "execution_count": null,
   "id": "b1183746",
   "metadata": {},
   "outputs": [],
   "source": [
    "##################\n",
    "# If you pass an input that is not a set to methods like union and intersection, Python will convert the input to a set before executing\n",
    "# the operation. When using the binary operators, both objects must already be sets.\n",
    "#################"
   ]
  },
  {
   "cell_type": "markdown",
   "id": "5bb362ac",
   "metadata": {},
   "source": [
    "### Supersets and subsets"
   ]
  },
  {
   "cell_type": "code",
   "execution_count": 67,
   "id": "aa457c9d",
   "metadata": {},
   "outputs": [],
   "source": [
    "set1 = {1,2,3}\n",
    "set2 = {1,2,3,4,5}"
   ]
  },
  {
   "cell_type": "code",
   "execution_count": 68,
   "id": "6fcf8977",
   "metadata": {},
   "outputs": [
    {
     "data": {
      "text/plain": [
       "True"
      ]
     },
     "execution_count": 68,
     "metadata": {},
     "output_type": "execute_result"
    }
   ],
   "source": [
    "set1.issubset(set2)"
   ]
  },
  {
   "cell_type": "code",
   "execution_count": null,
   "id": "4d273f17",
   "metadata": {},
   "outputs": [],
   "source": [
    "set2.issuperset(set1)"
   ]
  },
  {
   "cell_type": "markdown",
   "id": "f80f544f",
   "metadata": {},
   "source": [
    "### Creating empty list, tuple, set\n"
   ]
  },
  {
   "cell_type": "code",
   "execution_count": 69,
   "id": "53f0a23c",
   "metadata": {},
   "outputs": [],
   "source": [
    "# Creating empty lists\n",
    "emp_list = []\n",
    "emp_list = list()\n",
    "\n",
    "# Creating empty tuples\n",
    "emp_tuple = ()\n",
    "emp_tuple = tuple()\n",
    "\n",
    "# Creating empty sets\n",
    "emp_set = {} ### this doesn't work coz creates an empty dictionary\n",
    "\n",
    "### so will have to use set() class below\n",
    "emp_set = set()\n",
    "\n",
    "## NOTE: lists, tuples, sets can be passed to each of the constructors above"
   ]
  },
  {
   "cell_type": "markdown",
   "id": "be2a5ee6",
   "metadata": {},
   "source": [
    "## DICTIONARIES\n",
    "\n",
    "* helps us to work with key value pairs\n",
    "* simialr to hash map\n",
    "* akin to a physical dictionary"
   ]
  },
  {
   "cell_type": "code",
   "execution_count": 72,
   "id": "0ffd8ad6",
   "metadata": {},
   "outputs": [
    {
     "data": {
      "text/plain": [
       "{'name': 'Josh', 'age': 24, 'courses': ['Physics', 'Math', 'Biology']}"
      ]
     },
     "execution_count": 72,
     "metadata": {},
     "output_type": "execute_result"
    }
   ],
   "source": [
    "students = {'name': 'Josh', 'age': 24, 'courses': ['Physics', 'Math', 'Biology']}\n",
    "students"
   ]
  },
  {
   "cell_type": "code",
   "execution_count": 73,
   "id": "4faddfdc",
   "metadata": {},
   "outputs": [
    {
     "data": {
      "text/plain": [
       "24"
      ]
     },
     "execution_count": 73,
     "metadata": {},
     "output_type": "execute_result"
    }
   ],
   "source": [
    "# access a value by key\n",
    "students['age']"
   ]
  },
  {
   "cell_type": "markdown",
   "id": "6355182f",
   "metadata": {},
   "source": [
    "* Values of can be of any type\n",
    "* Keys - currently string but can be any immutable data type.\n",
    "    * Usually string, int"
   ]
  },
  {
   "cell_type": "code",
   "execution_count": 74,
   "id": "0e9e593b",
   "metadata": {},
   "outputs": [
    {
     "ename": "KeyError",
     "evalue": "'phone'",
     "output_type": "error",
     "traceback": [
      "\u001b[0;31m---------------------------------------------------------------------------\u001b[0m",
      "\u001b[0;31mKeyError\u001b[0m                                  Traceback (most recent call last)",
      "Cell \u001b[0;32mIn[74], line 2\u001b[0m\n\u001b[1;32m      1\u001b[0m \u001b[38;5;66;03m## access a key that doens't exist\u001b[39;00m\n\u001b[0;32m----> 2\u001b[0m \u001b[43mstudents\u001b[49m\u001b[43m[\u001b[49m\u001b[38;5;124;43m'\u001b[39;49m\u001b[38;5;124;43mphone\u001b[39;49m\u001b[38;5;124;43m'\u001b[39;49m\u001b[43m]\u001b[49m\n",
      "\u001b[0;31mKeyError\u001b[0m: 'phone'"
     ]
    }
   ],
   "source": [
    "## access a key that doens't exist\n",
    "students['phone']"
   ]
  },
  {
   "cell_type": "code",
   "execution_count": null,
   "id": "676b413e",
   "metadata": {},
   "outputs": [],
   "source": [
    "#### But may be we don't want error when a key doesn't exist but instead reuturn None or defaut value --> use .get"
   ]
  },
  {
   "cell_type": "code",
   "execution_count": null,
   "id": "2ee57e63",
   "metadata": {},
   "outputs": [],
   "source": [
    "students.get('phone') # returns none"
   ]
  },
  {
   "cell_type": "code",
   "execution_count": 75,
   "id": "0d57fdb9",
   "metadata": {},
   "outputs": [
    {
     "data": {
      "text/plain": [
       "'Not Found'"
      ]
     },
     "execution_count": 75,
     "metadata": {},
     "output_type": "execute_result"
    }
   ],
   "source": [
    "## Can also specify a default value to return when a key is not found\n",
    "students.get('phone', 'Not Found')"
   ]
  },
  {
   "cell_type": "code",
   "execution_count": 76,
   "id": "75df3fba",
   "metadata": {},
   "outputs": [
    {
     "data": {
      "text/plain": [
       "{'name': 'Jamie', 'age': 24, 'courses': ['Physics', 'Math', 'Biology']}"
      ]
     },
     "execution_count": 76,
     "metadata": {},
     "output_type": "execute_result"
    }
   ],
   "source": [
    "## Updates the value of an existing key\n",
    "students['name'] ='Jamie'\n",
    "students"
   ]
  },
  {
   "cell_type": "code",
   "execution_count": 77,
   "id": "bdf864dc",
   "metadata": {},
   "outputs": [
    {
     "data": {
      "text/plain": [
       "{'name': 'Aaron',\n",
       " 'age': 29,\n",
       " 'courses': ['Physics', 'Math', 'Biology'],\n",
       " 'phone': '333-2492',\n",
       " 'city': 'New York'}"
      ]
     },
     "execution_count": 77,
     "metadata": {},
     "output_type": "execute_result"
    }
   ],
   "source": [
    "## can also update using update method. Especially useful when we want to update multiple values at a time\n",
    "students.update({'name': 'Aaron', 'age': 29, 'phone': '333-2492', 'city': 'New York'})\n",
    "students\n",
    "\n",
    "## The update method changes dictionaries in place, so any existing \n",
    "## keys in the data passed to update will have their old values \n",
    "## discarded."
   ]
  },
  {
   "cell_type": "code",
   "execution_count": 78,
   "id": "a9daf3e5",
   "metadata": {},
   "outputs": [],
   "source": [
    "### Delete a specific key and its value\n",
    "del students['age']"
   ]
  },
  {
   "cell_type": "code",
   "execution_count": 79,
   "id": "196a9aa0",
   "metadata": {},
   "outputs": [
    {
     "data": {
      "text/plain": [
       "{'name': 'Aaron',\n",
       " 'courses': ['Physics', 'Math', 'Biology'],\n",
       " 'phone': '333-2492',\n",
       " 'city': 'New York'}"
      ]
     },
     "execution_count": 79,
     "metadata": {},
     "output_type": "execute_result"
    }
   ],
   "source": [
    "students"
   ]
  },
  {
   "cell_type": "code",
   "execution_count": 80,
   "id": "bbf422c5",
   "metadata": {},
   "outputs": [
    {
     "name": "stdout",
     "output_type": "stream",
     "text": [
      "333-2492\n"
     ]
    }
   ],
   "source": [
    "## Could also remove using pop method akin to lists\n",
    "# pop method deletes the key and corresponding value but returns the deleted value\n",
    "phone = students.pop('phone')\n",
    "print(phone)"
   ]
  },
  {
   "cell_type": "code",
   "execution_count": 81,
   "id": "a59e0587",
   "metadata": {},
   "outputs": [
    {
     "data": {
      "text/plain": [
       "3"
      ]
     },
     "execution_count": 81,
     "metadata": {},
     "output_type": "execute_result"
    }
   ],
   "source": [
    "## len() --> to get the length of dictionary i.e # of keys present\n",
    "len(students)"
   ]
  },
  {
   "cell_type": "code",
   "execution_count": 82,
   "id": "400df683",
   "metadata": {},
   "outputs": [
    {
     "data": {
      "text/plain": [
       "dict_keys(['name', 'courses', 'city'])"
      ]
     },
     "execution_count": 82,
     "metadata": {},
     "output_type": "execute_result"
    }
   ],
   "source": [
    "# List out all keys\n",
    "## to see all keys\n",
    "students.keys()"
   ]
  },
  {
   "cell_type": "code",
   "execution_count": 83,
   "id": "99a27382",
   "metadata": {},
   "outputs": [
    {
     "data": {
      "text/plain": [
       "dict_values(['Aaron', ['Physics', 'Math', 'Biology'], 'New York'])"
      ]
     },
     "execution_count": 83,
     "metadata": {},
     "output_type": "execute_result"
    }
   ],
   "source": [
    "## to see all values\n",
    "students.values()"
   ]
  },
  {
   "cell_type": "code",
   "execution_count": 84,
   "id": "679a12a5",
   "metadata": {},
   "outputs": [
    {
     "data": {
      "text/plain": [
       "dict_items([('name', 'Aaron'), ('courses', ['Physics', 'Math', 'Biology']), ('city', 'New York')])"
      ]
     },
     "execution_count": 84,
     "metadata": {},
     "output_type": "execute_result"
    }
   ],
   "source": [
    "## to get the list of key, value pairs\n",
    "students.items()"
   ]
  },
  {
   "cell_type": "code",
   "execution_count": 85,
   "id": "812e61d6",
   "metadata": {},
   "outputs": [
    {
     "data": {
      "text/plain": [
       "True"
      ]
     },
     "execution_count": 85,
     "metadata": {},
     "output_type": "execute_result"
    }
   ],
   "source": [
    "# check if a dictionary contains a key using the same syntax used for \n",
    "# checking whether a list or tuple contains a value\n",
    "'city' in students"
   ]
  },
  {
   "cell_type": "code",
   "execution_count": 86,
   "id": "06d33209",
   "metadata": {},
   "outputs": [
    {
     "name": "stdout",
     "output_type": "stream",
     "text": [
      "['city', 'courses', 'name']\n"
     ]
    }
   ],
   "source": [
    "## Sort the dictionary using sorted() method which returns a new dictioanry sorted by keys\n",
    "sorted_students = sorted(students)\n",
    "print(sorted_students) # sorts based on keys"
   ]
  },
  {
   "cell_type": "code",
   "execution_count": 87,
   "id": "8e345219",
   "metadata": {},
   "outputs": [
    {
     "name": "stdout",
     "output_type": "stream",
     "text": [
      "{'John': 'CS', 'Amy': 'ME', 'Aaron': 'EE', 'Bill': 'Nursing', 'Sam': 'Business'}\n"
     ]
    }
   ],
   "source": [
    "## Creating dict from tuples\n",
    "stu_name = ('John', 'Amy', 'Aaron', 'Bill', 'Sam') ## Keys\n",
    "stu_major = ('CS', 'ME', 'EE', 'Nursing', 'Business') ## Values\n",
    "\n",
    "stu_tuple = zip(stu_name, stu_major)\n",
    "\n",
    "stu_dict = dict(stu_tuple)\n",
    "\n",
    "print(stu_dict)"
   ]
  },
  {
   "cell_type": "code",
   "execution_count": 88,
   "id": "1a6883b6",
   "metadata": {},
   "outputs": [
    {
     "name": "stdout",
     "output_type": "stream",
     "text": [
      "{'John': 'CS', 'Amy': 'ME', 'Aaron': 'EE', 'Bill': 'Nursing', 'Sam': 'Business'}\n"
     ]
    }
   ],
   "source": [
    "## Creating dict from lists, works too\n",
    "stu_name = ['John', 'Amy', 'Aaron', 'Bill', 'Sam'] ## keys\n",
    "stu_major = ['CS', 'ME', 'EE', 'Nursing', 'Business'] ## values\n",
    "\n",
    "stu_tuple = zip(stu_name, stu_major)\n",
    "\n",
    "stu_dict = dict(stu_tuple)\n",
    "\n",
    "print(stu_dict)"
   ]
  },
  {
   "cell_type": "code",
   "execution_count": null,
   "id": "2f3e8695",
   "metadata": {},
   "outputs": [],
   "source": []
  },
  {
   "cell_type": "code",
   "execution_count": null,
   "id": "79b21af9",
   "metadata": {},
   "outputs": [],
   "source": []
  },
  {
   "cell_type": "code",
   "execution_count": null,
   "id": "e8a5a9ed",
   "metadata": {},
   "outputs": [],
   "source": []
  },
  {
   "cell_type": "code",
   "execution_count": null,
   "id": "7f0814f5",
   "metadata": {},
   "outputs": [],
   "source": []
  },
  {
   "cell_type": "markdown",
   "id": "e0e32892",
   "metadata": {},
   "source": [
    "Since tuples are immutable, there are not as many methods as there are for lists because lot of list methods involve mutating \n",
    "\n",
    "## If you want something that you can modify --> use list\n",
    "## If you have a collection items that are not going to change and hold some standard values (ex: states) --> use tuple"
   ]
  },
  {
   "cell_type": "code",
   "execution_count": null,
   "id": "28fee93f",
   "metadata": {},
   "outputs": [],
   "source": []
  },
  {
   "cell_type": "code",
   "execution_count": null,
   "id": "234dea38",
   "metadata": {},
   "outputs": [],
   "source": []
  },
  {
   "cell_type": "code",
   "execution_count": null,
   "id": "4ad2ad51",
   "metadata": {},
   "outputs": [],
   "source": []
  },
  {
   "cell_type": "code",
   "execution_count": null,
   "id": "67e61ad8",
   "metadata": {},
   "outputs": [],
   "source": []
  },
  {
   "cell_type": "code",
   "execution_count": null,
   "id": "d5830f61",
   "metadata": {},
   "outputs": [],
   "source": []
  },
  {
   "cell_type": "code",
   "execution_count": null,
   "id": "3ee06ef3",
   "metadata": {},
   "outputs": [],
   "source": []
  },
  {
   "cell_type": "code",
   "execution_count": null,
   "id": "42b780ba",
   "metadata": {},
   "outputs": [],
   "source": []
  },
  {
   "cell_type": "code",
   "execution_count": null,
   "id": "e01c0f1e",
   "metadata": {},
   "outputs": [],
   "source": []
  },
  {
   "cell_type": "code",
   "execution_count": null,
   "id": "a9e77271",
   "metadata": {},
   "outputs": [],
   "source": []
  },
  {
   "cell_type": "code",
   "execution_count": null,
   "id": "fd3335a2",
   "metadata": {},
   "outputs": [],
   "source": []
  },
  {
   "cell_type": "code",
   "execution_count": null,
   "id": "07ff39ef",
   "metadata": {},
   "outputs": [],
   "source": []
  },
  {
   "cell_type": "code",
   "execution_count": null,
   "id": "ebe916e3",
   "metadata": {},
   "outputs": [],
   "source": []
  },
  {
   "cell_type": "code",
   "execution_count": null,
   "id": "d05c42e1",
   "metadata": {},
   "outputs": [],
   "source": []
  },
  {
   "cell_type": "code",
   "execution_count": null,
   "id": "00193e01",
   "metadata": {},
   "outputs": [],
   "source": []
  },
  {
   "cell_type": "code",
   "execution_count": null,
   "id": "0d12fe7f",
   "metadata": {},
   "outputs": [],
   "source": []
  },
  {
   "cell_type": "code",
   "execution_count": null,
   "id": "ba7fb5b8",
   "metadata": {},
   "outputs": [],
   "source": []
  }
 ],
 "metadata": {
  "kernelspec": {
   "display_name": "Python 3 (ipykernel)",
   "language": "python",
   "name": "python3"
  },
  "language_info": {
   "codemirror_mode": {
    "name": "ipython",
    "version": 3
   },
   "file_extension": ".py",
   "mimetype": "text/x-python",
   "name": "python",
   "nbconvert_exporter": "python",
   "pygments_lexer": "ipython3",
   "version": "3.10.8"
  }
 },
 "nbformat": 4,
 "nbformat_minor": 5
}
